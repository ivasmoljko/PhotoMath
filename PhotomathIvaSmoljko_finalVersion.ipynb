{
  "nbformat": 4,
  "nbformat_minor": 0,
  "metadata": {
    "colab": {
      "name": "PhotomathIvaSmoljko_finalVersion.ipynb",
      "provenance": [],
      "collapsed_sections": [],
      "include_colab_link": true
    },
    "kernelspec": {
      "name": "python3",
      "display_name": "Python 3"
    },
    "language_info": {
      "name": "python"
    },
    "accelerator": "GPU"
  },
  "cells": [
    {
      "cell_type": "markdown",
      "metadata": {
        "id": "view-in-github",
        "colab_type": "text"
      },
      "source": [
        "<a href=\"https://colab.research.google.com/github/ivasmoljko/PhotoMath/blob/main/PhotomathIvaSmoljko_finalVersion.ipynb\" target=\"_parent\"><img src=\"https://colab.research.google.com/assets/colab-badge.svg\" alt=\"Open In Colab\"/></a>"
      ]
    },
    {
      "cell_type": "markdown",
      "metadata": {
        "id": "LkToYN_D8ypc"
      },
      "source": [
        "#Photomath - Iva Smoljko"
      ]
    },
    {
      "cell_type": "markdown",
      "source": [
        "## Libraries"
      ],
      "metadata": {
        "id": "lrJ996jomBo1"
      }
    },
    {
      "cell_type": "markdown",
      "metadata": {
        "id": "Ho3C_8Wze7B_"
      },
      "source": [
        "First of all, let's import all the libraries we will use."
      ]
    },
    {
      "cell_type": "code",
      "metadata": {
        "id": "R2FJAvAde_-U"
      },
      "source": [
        "import numpy as np\n",
        "import pandas as pd\n",
        "import matplotlib.pyplot as plt\n",
        "import tensorflow as tf\n",
        "\n",
        "import cv2\n",
        "import os\n",
        "from sklearn import preprocessing\n",
        "from pathlib import Path\n",
        "from PIL import Image\n",
        "\n",
        "import keras\n",
        "from keras.models import Sequential\n",
        "from keras.layers import Dense, Dropout, Flatten, Conv2D, MaxPooling2D"
      ],
      "execution_count": null,
      "outputs": []
    },
    {
      "cell_type": "markdown",
      "source": [
        "## Uploading the data"
      ],
      "metadata": {
        "id": "EX3jLC7imR9S"
      }
    },
    {
      "cell_type": "markdown",
      "metadata": {
        "id": "ib37IcUj9H_t"
      },
      "source": [
        "Now, we will install kaggle so we can directly get dataset."
      ]
    },
    {
      "cell_type": "code",
      "metadata": {
        "id": "IaXeBWpqO5nC"
      },
      "source": [
        "! pip install kaggle"
      ],
      "execution_count": null,
      "outputs": []
    },
    {
      "cell_type": "code",
      "metadata": {
        "id": "-SJOND8qO9XE"
      },
      "source": [
        "! mkdir ~/.kaggle"
      ],
      "execution_count": null,
      "outputs": []
    },
    {
      "cell_type": "code",
      "metadata": {
        "id": "G_ibbzrRPAKJ"
      },
      "source": [
        "! cp kaggle.json ~/.kaggle/"
      ],
      "execution_count": null,
      "outputs": []
    },
    {
      "cell_type": "code",
      "metadata": {
        "id": "W_BGZjf_PEP3"
      },
      "source": [
        "! chmod 600 ~/.kaggle/kaggle.json"
      ],
      "execution_count": null,
      "outputs": []
    },
    {
      "cell_type": "code",
      "metadata": {
        "colab": {
          "base_uri": "https://localhost:8080/"
        },
        "id": "ICOf2RDdQMFP",
        "outputId": "215cdf18-7c5b-4e4c-943a-5c939104db3f"
      },
      "source": [
        "! kaggle datasets download -d clarencezhao/handwritten-math-symbol-dataset"
      ],
      "execution_count": null,
      "outputs": [
        {
          "output_type": "stream",
          "name": "stdout",
          "text": [
            "Downloading handwritten-math-symbol-dataset.zip to /content\n",
            " 85% 49.0M/57.8M [00:03<00:00, 13.0MB/s]\n",
            "100% 57.8M/57.8M [00:03<00:00, 17.0MB/s]\n"
          ]
        }
      ]
    },
    {
      "cell_type": "code",
      "metadata": {
        "id": "YmlP5G1EQeaq"
      },
      "source": [
        "! unzip handwritten-math-symbol-dataset.zip"
      ],
      "execution_count": null,
      "outputs": []
    },
    {
      "cell_type": "markdown",
      "metadata": {
        "id": "HIJm-OTY92pF"
      },
      "source": [
        "After loading and unzipping the dataset, we can see that in the \"train\" file (located in \"content\" file) there are files which contain images of handwritten digits and basic mathematical operators (+,-,* and /). There are files which have handwritten decimal point, sign equal as well, but due to the fact that it is not part of our task, I will be ignoring it. However, this dataset does not contain bracket \"(\" and \")\" data, so my Photomath won't be able to recognize it. "
      ]
    },
    {
      "cell_type": "markdown",
      "metadata": {
        "id": "RSVZjrbQAUt3"
      },
      "source": [
        "Let's create a list with labels (names of digits and symbols we will use)."
      ]
    },
    {
      "cell_type": "code",
      "metadata": {
        "id": "ZEqG7r09AqVe"
      },
      "source": [
        "labels = ['zero','one','two','three','four','five','six','seven','eight','nine',\n",
        "          'plus','minus','times','div']"
      ],
      "execution_count": null,
      "outputs": []
    },
    {
      "cell_type": "markdown",
      "metadata": {
        "id": "r_vOmxxEBj9m"
      },
      "source": [
        "We need to load images for training (from \"train\" file) and testing (from file \"eval\")."
      ]
    },
    {
      "cell_type": "code",
      "metadata": {
        "id": "7OcacfFyCAdK"
      },
      "source": [
        "train_dataset_path = \"../content/train\"\n",
        "train_image = []\n",
        "train_label = []\n",
        "\n",
        "for labels_dir in os.listdir(train_dataset_path): \n",
        "    if labels_dir.split()[0] in labels: #since our labels are one-word, \n",
        "    #we split the name of file and only observe if the first word is in\n",
        "    #array\n",
        "        for image in os.listdir(train_dataset_path + \"/\" + labels_dir):\n",
        "            train_label.append(labels_dir.split()[0])\n",
        "            train_image.append(train_dataset_path + \"/\" + labels_dir + \"/\" + image)"
      ],
      "execution_count": null,
      "outputs": []
    },
    {
      "cell_type": "code",
      "metadata": {
        "id": "eYIYaUNsFf67"
      },
      "source": [
        "test_dataset_path = \"../content/eval\"\n",
        "test_image = []\n",
        "test_label = []\n",
        "\n",
        "for labels_dir in os.listdir(test_dataset_path):\n",
        "    if labels_dir.split()[0] in labels:\n",
        "        for image in os.listdir(test_dataset_path + \"/\" + labels_dir):\n",
        "            test_label.append(labels_dir.split()[0])\n",
        "            test_image.append(test_dataset_path + \"/\" + labels_dir + \"/\" + image)"
      ],
      "execution_count": null,
      "outputs": []
    },
    {
      "cell_type": "markdown",
      "metadata": {
        "id": "KoASk7QnF_pJ"
      },
      "source": [
        "Let's check how many train and test images we have (and if we did this correctly; number of images should be equal to length of array with labels)."
      ]
    },
    {
      "cell_type": "code",
      "metadata": {
        "colab": {
          "base_uri": "https://localhost:8080/"
        },
        "id": "IVNH4Xd8GYLb",
        "outputId": "3586e23c-62fa-4b7a-cec3-052e6ba3937e"
      },
      "source": [
        "print(\"Total of train_image: \", len(train_image), \", length of labels list : \" ,len(train_label))\n",
        "print(\"Total of test_image : \" , len(test_image) , \", length of labels list : \" ,len(test_label))"
      ],
      "execution_count": null,
      "outputs": [
        {
          "output_type": "stream",
          "name": "stdout",
          "text": [
            "Total of train_image:  6490 , length of labels list :  6490\n",
            "Total of test_image :  854 , length of labels list :  854\n"
          ]
        }
      ]
    },
    {
      "cell_type": "code",
      "metadata": {
        "colab": {
          "base_uri": "https://localhost:8080/"
        },
        "id": "nhfWgaJuG3I4",
        "outputId": "57710e98-c69c-4a64-d697-d25c0f012503"
      },
      "source": [
        "#ratio\n",
        "len(train_image)/(len(train_image) + len(test_image))"
      ],
      "execution_count": null,
      "outputs": [
        {
          "output_type": "execute_result",
          "data": {
            "text/plain": [
              "0.8837145969498911"
            ]
          },
          "metadata": {},
          "execution_count": 12
        }
      ]
    },
    {
      "cell_type": "markdown",
      "metadata": {
        "id": "PH5S99yqGmsA"
      },
      "source": [
        "As we can see, the numbers of images and labels correspond to each other, and the ratio of training and testing images is nearly 90:10, which we still consider as a \"good radio\". "
      ]
    },
    {
      "cell_type": "markdown",
      "metadata": {
        "id": "Jl7uatJtHygJ"
      },
      "source": [
        "Let's plot random images from train and test dataset."
      ]
    },
    {
      "cell_type": "code",
      "metadata": {
        "id": "enGzaDr-ITtT"
      },
      "source": [
        "import random"
      ],
      "execution_count": null,
      "outputs": []
    },
    {
      "cell_type": "code",
      "metadata": {
        "colab": {
          "base_uri": "https://localhost:8080/",
          "height": 281
        },
        "id": "g16JEJW1H4I9",
        "outputId": "d7359a68-1cfa-4355-ed6b-980765853ec3"
      },
      "source": [
        "random.seed()\n",
        "rd = random.randint(1, len(train_image))\n",
        "image = cv2.imread(train_image[rd])\n",
        "plt.imshow(image)\n",
        "plt.title(\"Label: \" + train_label[rd])\n",
        "plt.show()"
      ],
      "execution_count": null,
      "outputs": [
        {
          "output_type": "display_data",
          "data": {
            "image/png": "[encoded data removed]",
            "text/plain": [
              "<Figure size 432x288 with 1 Axes>"
            ]
          },
          "metadata": {
            "needs_background": "light"
          }
        }
      ]
    },
    {
      "cell_type": "code",
      "metadata": {
        "colab": {
          "base_uri": "https://localhost:8080/",
          "height": 281
        },
        "id": "ylvI4aqdJdFS",
        "outputId": "ac4e8203-3858-4edb-b780-ccd4eea4c84e"
      },
      "source": [
        "random.seed()\n",
        "rd1 = random.randint(1, len(test_image))\n",
        "image = cv2.imread(train_image[rd1])\n",
        "plt.imshow(image)\n",
        "plt.title(\"Label: \" + train_label[rd1])\n",
        "plt.show()"
      ],
      "execution_count": null,
      "outputs": [
        {
          "output_type": "display_data",
          "data": {
            "image/png": "[encoded data removed]",
            "text/plain": [
              "<Figure size 432x288 with 1 Axes>"
            ]
          },
          "metadata": {
            "needs_background": "light"
          }
        }
      ]
    },
    {
      "cell_type": "markdown",
      "metadata": {
        "id": "VLTNDLc2cr0d"
      },
      "source": [
        "Now, let's check height and width of our images."
      ]
    },
    {
      "cell_type": "code",
      "metadata": {
        "colab": {
          "base_uri": "https://localhost:8080/"
        },
        "id": "he5sFiKMcrQC",
        "outputId": "a2573358-971c-4276-83ca-c09d409b25c2"
      },
      "source": [
        "train_shapes = []\n",
        "train_width = []\n",
        "train_height = []\n",
        "for path in train_image:\n",
        "  img = np.array(cv2.imread(path))\n",
        "  size = img.shape\n",
        "  if size not in train_shapes:\n",
        "    train_shapes.append(size) \n",
        "    train_width.append(size[0])\n",
        "    train_height.append(size[1])\n",
        "\n",
        "if len(train_shapes):\n",
        "  print(\"min train width: \", min(train_width))\n",
        "  print(\"min train height: \", min(train_height))"
      ],
      "execution_count": null,
      "outputs": [
        {
          "output_type": "stream",
          "name": "stdout",
          "text": [
            "min train width:  135\n",
            "min train height:  150\n"
          ]
        }
      ]
    },
    {
      "cell_type": "code",
      "metadata": {
        "colab": {
          "base_uri": "https://localhost:8080/"
        },
        "id": "H7ePowuSd_kV",
        "outputId": "eb332317-7d61-4801-8c76-7136725ea125"
      },
      "source": [
        "test_shapes = []\n",
        "test_width = []\n",
        "test_height = []\n",
        "for path in test_image:\n",
        "  img = np.array(cv2.imread(path))\n",
        "  size = img.shape\n",
        "  if size not in test_shapes:\n",
        "    test_shapes.append(size)\n",
        "    test_width.append(size[0])\n",
        "    test_height.append(size[1])\n",
        "\n",
        "if len(train_shapes):\n",
        "  print(\"min test width: \", min(test_width))\n",
        "  print(\"min test height: \", min(test_height))"
      ],
      "execution_count": null,
      "outputs": [
        {
          "output_type": "stream",
          "name": "stdout",
          "text": [
            "min test width:  135\n",
            "min test height:  150\n"
          ]
        }
      ]
    },
    {
      "cell_type": "markdown",
      "metadata": {
        "id": "WPZe56OUeSdw"
      },
      "source": [
        "Cleary, they differ in sizes. So, to make things easier for later, we will resize them (not a lot) and make them square. Also, our data is in .jpg format, we need to convert it to numpy array."
      ]
    },
    {
      "cell_type": "markdown",
      "source": [
        "## Preparing the data"
      ],
      "metadata": {
        "id": "IuloPlnLmqXZ"
      }
    },
    {
      "cell_type": "code",
      "metadata": {
        "id": "4xEvZDOjKL6w"
      },
      "source": [
        "X_train = []\n",
        "X_test = []\n",
        "\n",
        "for path in train_image:    \n",
        "    img = cv2.imread(path)\n",
        "    img = cv2.resize(img, (135, 135))\n",
        "    img = np.array(img)\n",
        "    X_train.append(img)\n",
        "\n",
        "for path in test_image:    \n",
        "    img = cv2.imread(path)\n",
        "    img = cv2.resize(img, (135, 135))\n",
        "    img = np.array(img)     \n",
        "    X_test.append(img)\n",
        "\n",
        "# X_train and X_test are basic arrays, we will convert them to numpy array \n",
        "X_train = np.array(X_train)\n",
        "X_test = np.array(X_test)"
      ],
      "execution_count": null,
      "outputs": []
    },
    {
      "cell_type": "markdown",
      "metadata": {
        "id": "PnsWvcVcaAw7"
      },
      "source": [
        "Since normalization reduces the complexity of the problem our network is trying to solve, we will normalize data. This can potentially increase the accuracy of our model and speed up the training, because we bring the data on the same scale and reduce variance along with none of the weights in the network are wasted on doing a normalization for us, meaning that they can be used more efficiently to solve the actual task at hand."
      ]
    },
    {
      "cell_type": "code",
      "metadata": {
        "id": "ejIIEUKPaqQO"
      },
      "source": [
        "X_train = X_train.astype('float32')\n",
        "X_test = X_test.astype('float32')\n",
        "X_train /= 255\n",
        "X_test /= 255"
      ],
      "execution_count": null,
      "outputs": []
    },
    {
      "cell_type": "code",
      "metadata": {
        "colab": {
          "base_uri": "https://localhost:8080/"
        },
        "id": "jddbTv2yhDgU",
        "outputId": "2fdc6fe0-0c2a-4bde-9269-05309e2a7c4b"
      },
      "source": [
        "print(\"X_train shape: \", X_train.shape)\n",
        "print(\"X_test shape: \", X_test.shape)"
      ],
      "execution_count": null,
      "outputs": [
        {
          "output_type": "stream",
          "name": "stdout",
          "text": [
            "X_train shape:  (6490, 135, 135, 3)\n",
            "X_test shape:  (854, 135, 135, 3)\n"
          ]
        }
      ]
    },
    {
      "cell_type": "markdown",
      "metadata": {
        "id": "veIqEk8ajUYo"
      },
      "source": [
        "We need to adjust labels."
      ]
    },
    {
      "cell_type": "code",
      "metadata": {
        "id": "G9SwKN4VjTvu"
      },
      "source": [
        "label_encoder = preprocessing.LabelEncoder()\n",
        "y_train_temp = label_encoder.fit_transform(train_label)\n",
        "y_test_temp = label_encoder.fit_transform(test_label)"
      ],
      "execution_count": null,
      "outputs": []
    },
    {
      "cell_type": "code",
      "source": [
        "for i in range(len(labels)):\n",
        "  print(label_encoder.classes_[i], \"is encoded as: \", i)"
      ],
      "metadata": {
        "colab": {
          "base_uri": "https://localhost:8080/"
        },
        "id": "96TygxoF3n9x",
        "outputId": "1ceeb056-6c2e-4b82-8554-6c6458e33ef4"
      },
      "execution_count": null,
      "outputs": [
        {
          "output_type": "stream",
          "name": "stdout",
          "text": [
            "div is encoded as:  0\n",
            "eight is encoded as:  1\n",
            "five is encoded as:  2\n",
            "four is encoded as:  3\n",
            "minus is encoded as:  4\n",
            "nine is encoded as:  5\n",
            "one is encoded as:  6\n",
            "plus is encoded as:  7\n",
            "seven is encoded as:  8\n",
            "six is encoded as:  9\n",
            "three is encoded as:  10\n",
            "times is encoded as:  11\n",
            "two is encoded as:  12\n",
            "zero is encoded as:  13\n"
          ]
        }
      ]
    },
    {
      "cell_type": "code",
      "metadata": {
        "colab": {
          "base_uri": "https://localhost:8080/"
        },
        "id": "xInYDxfplL1A",
        "outputId": "935a3a73-00f5-49e7-9d2e-b3f7d29da24e"
      },
      "source": [
        "print(\"y_train_temp shape: \", y_train_temp.shape)\n",
        "print(\"y_test_temp shape: \", y_test_temp.shape)"
      ],
      "execution_count": null,
      "outputs": [
        {
          "output_type": "stream",
          "name": "stdout",
          "text": [
            "y_train_temp shape:  (6490,)\n",
            "y_test_temp shape:  (854,)\n"
          ]
        }
      ]
    },
    {
      "cell_type": "markdown",
      "metadata": {
        "id": "szZpQBXMlqmw"
      },
      "source": [
        "Next, we need to create a matrix labels list."
      ]
    },
    {
      "cell_type": "code",
      "metadata": {
        "colab": {
          "base_uri": "https://localhost:8080/"
        },
        "id": "NA1B63ovldaP",
        "outputId": "2a7a2d6b-42cc-4ce4-b8cb-08d0b5a75e44"
      },
      "source": [
        "y_train = tf.keras.utils.to_categorical(y_train_temp, len(labels))\n",
        "y_test = tf.keras.utils.to_categorical(y_test_temp, len(labels))\n",
        "\n",
        "\n",
        "print(\"y_train shape: \", y_train.shape)\n",
        "print(\"y_test shape: \", y_test.shape)"
      ],
      "execution_count": null,
      "outputs": [
        {
          "output_type": "stream",
          "name": "stdout",
          "text": [
            "y_train shape:  (6490, 14)\n",
            "y_test shape:  (854, 14)\n"
          ]
        }
      ]
    },
    {
      "cell_type": "markdown",
      "source": [
        "## Model"
      ],
      "metadata": {
        "id": "mqRLxR6Wm2U6"
      }
    },
    {
      "cell_type": "markdown",
      "metadata": {
        "id": "PnltfTEwmJ-0"
      },
      "source": [
        "Now, everything is ready for creating our model. We will use sequential model, which means we can do it \"layer-by-layer\"."
      ]
    },
    {
      "cell_type": "code",
      "metadata": {
        "id": "mQZSL8Exmch4"
      },
      "source": [
        "model = Sequential()\n",
        "\n",
        "model.add(Conv2D(32, (3, 3), padding='same', input_shape=(135, 135, 3), activation=\"relu\"))\n",
        "model.add(Conv2D(32, (3, 3), activation=\"relu\"))\n",
        "\n",
        "# Maxpooling takes the highest value from a filter of 2*2 shape\n",
        "model.add(MaxPooling2D(pool_size=(2, 2)))\n",
        "\n",
        "# Dropout prevent overfitting by making it hard for the model to idenify the images\n",
        "model.add(Dropout(0.25))\n",
        "\n",
        "# for deeper layers we increase the number of filters\n",
        "model.add(Conv2D(64, (3, 3), padding='same', activation=\"relu\"))\n",
        "model.add(Conv2D(64, (3, 3), activation=\"relu\"))\n",
        "model.add(MaxPooling2D(pool_size=(2, 2)))\n",
        "model.add(Dropout(0.25))\n",
        "\n",
        "model.add(Flatten())\n",
        "model.add(Dense(512, activation=\"relu\"))\n",
        "model.add(Dropout(0.5))\n",
        "\n",
        "# last layer predicts 14 labels\n",
        "model.add(Dense(len(labels), activation=\"softmax\"))"
      ],
      "execution_count": null,
      "outputs": []
    },
    {
      "cell_type": "markdown",
      "source": [
        "In a neural network, the activation function is responsible for transforming the summed weighted input from the node into the activation of the node or output for that input. All my activations are \"relu\". It's definition is $ f(x)= max\\{ x,0 \\}$. I used it mostly because it has become the default activation function for many types of neural networks because a model that uses it is easier to train and often achieves better performance.\n",
        "\n",
        "In the last layer I used \"softmax\". Softmax is a function that converts a vector of numbers into a vector of probabilities, where the probabilities of each value are proportional to the relative scale of each value in the vector. \n"
      ],
      "metadata": {
        "id": "jFwufnLenk-3"
      }
    },
    {
      "cell_type": "markdown",
      "source": [
        "Time to compile the model."
      ],
      "metadata": {
        "id": "U9LJW9f6pFgC"
      }
    },
    {
      "cell_type": "code",
      "metadata": {
        "colab": {
          "base_uri": "https://localhost:8080/"
        },
        "id": "76crXE9qmls4",
        "outputId": "edd32995-b17f-41fb-f6c4-93ac131cbd1e"
      },
      "source": [
        "model.compile(\n",
        "    loss='categorical_crossentropy',\n",
        "    optimizer=\"adam\",\n",
        "    metrics=['accuracy']\n",
        ")\n",
        "\n",
        "model.summary()"
      ],
      "execution_count": null,
      "outputs": [
        {
          "output_type": "stream",
          "name": "stdout",
          "text": [
            "Model: \"sequential\"\n",
            "_________________________________________________________________\n",
            " Layer (type)                Output Shape              Param #   \n",
            "=================================================================\n",
            " conv2d (Conv2D)             (None, 135, 135, 32)      896       \n",
            "                                                                 \n",
            " conv2d_1 (Conv2D)           (None, 133, 133, 32)      9248      \n",
            "                                                                 \n",
            " max_pooling2d (MaxPooling2D  (None, 66, 66, 32)       0         \n",
            " )                                                               \n",
            "                                                                 \n",
            " dropout (Dropout)           (None, 66, 66, 32)        0         \n",
            "                                                                 \n",
            " conv2d_2 (Conv2D)           (None, 66, 66, 64)        18496     \n",
            "                                                                 \n",
            " conv2d_3 (Conv2D)           (None, 64, 64, 64)        36928     \n",
            "                                                                 \n",
            " max_pooling2d_1 (MaxPooling  (None, 32, 32, 64)       0         \n",
            " 2D)                                                             \n",
            "                                                                 \n",
            " dropout_1 (Dropout)         (None, 32, 32, 64)        0         \n",
            "                                                                 \n",
            " flatten (Flatten)           (None, 65536)             0         \n",
            "                                                                 \n",
            " dense (Dense)               (None, 512)               33554944  \n",
            "                                                                 \n",
            " dropout_2 (Dropout)         (None, 512)               0         \n",
            "                                                                 \n",
            " dense_1 (Dense)             (None, 14)                7182      \n",
            "                                                                 \n",
            "=================================================================\n",
            "Total params: 33,627,694\n",
            "Trainable params: 33,627,694\n",
            "Non-trainable params: 0\n",
            "_________________________________________________________________\n"
          ]
        }
      ]
    },
    {
      "cell_type": "markdown",
      "source": [
        "I used metrics \"accuracy\". As it's name says, that metrics computes how many of predicted labels correspond to the real labels."
      ],
      "metadata": {
        "id": "0F458ZPWpxZ5"
      }
    },
    {
      "cell_type": "markdown",
      "metadata": {
        "id": "ucss6KZXnhtN"
      },
      "source": [
        "Let's train model."
      ]
    },
    {
      "cell_type": "code",
      "metadata": {
        "colab": {
          "base_uri": "https://localhost:8080/"
        },
        "id": "QwnduoyundUg",
        "outputId": "6af03f67-f8f6-4838-fe10-7c847e70020f"
      },
      "source": [
        "history = model.fit(\n",
        "    X_train,\n",
        "    y_train,\n",
        "    batch_size=50,\n",
        "    epochs=200,\n",
        "    validation_split=0.2,\n",
        "    shuffle=True\n",
        ")"
      ],
      "execution_count": null,
      "outputs": [
        {
          "output_type": "stream",
          "name": "stdout",
          "text": [
            "Epoch 1/200\n",
            "104/104 [==============================] - 30s 174ms/step - loss: 1.8210 - accuracy: 0.4178 - val_loss: 9.3377 - val_accuracy: 0.0485\n",
            "Epoch 2/200\n",
            "104/104 [==============================] - 16s 149ms/step - loss: 0.6816 - accuracy: 0.7824 - val_loss: 12.0035 - val_accuracy: 0.1156\n",
            "Epoch 3/200\n",
            "104/104 [==============================] - 16s 150ms/step - loss: 0.3800 - accuracy: 0.8844 - val_loss: 14.9229 - val_accuracy: 0.1533\n",
            "Epoch 4/200\n",
            "104/104 [==============================] - 16s 150ms/step - loss: 0.2115 - accuracy: 0.9307 - val_loss: 17.8850 - val_accuracy: 0.1764\n",
            "Epoch 5/200\n",
            "104/104 [==============================] - 16s 150ms/step - loss: 0.1502 - accuracy: 0.9528 - val_loss: 19.6973 - val_accuracy: 0.1595\n",
            "Epoch 6/200\n",
            "104/104 [==============================] - 16s 151ms/step - loss: 0.1007 - accuracy: 0.9655 - val_loss: 22.5757 - val_accuracy: 0.1579\n",
            "Epoch 7/200\n",
            "104/104 [==============================] - 16s 151ms/step - loss: 0.0863 - accuracy: 0.9713 - val_loss: 22.7072 - val_accuracy: 0.1672\n",
            "Epoch 8/200\n",
            "104/104 [==============================] - 16s 150ms/step - loss: 0.0743 - accuracy: 0.9746 - val_loss: 24.5814 - val_accuracy: 0.1502\n",
            "Epoch 9/200\n",
            "104/104 [==============================] - 16s 151ms/step - loss: 0.0591 - accuracy: 0.9802 - val_loss: 26.7471 - val_accuracy: 0.1479\n",
            "Epoch 10/200\n",
            "104/104 [==============================] - 16s 151ms/step - loss: 0.0544 - accuracy: 0.9823 - val_loss: 22.7578 - val_accuracy: 0.1618\n",
            "Epoch 11/200\n",
            "104/104 [==============================] - 16s 151ms/step - loss: 0.0495 - accuracy: 0.9840 - val_loss: 25.7874 - val_accuracy: 0.1757\n",
            "Epoch 12/200\n",
            "104/104 [==============================] - 16s 151ms/step - loss: 0.0511 - accuracy: 0.9857 - val_loss: 26.4178 - val_accuracy: 0.1772\n",
            "Epoch 13/200\n",
            "104/104 [==============================] - 16s 151ms/step - loss: 0.0437 - accuracy: 0.9867 - val_loss: 22.9642 - val_accuracy: 0.1626\n",
            "Epoch 14/200\n",
            "104/104 [==============================] - 16s 150ms/step - loss: 0.0313 - accuracy: 0.9890 - val_loss: 25.3345 - val_accuracy: 0.1680\n",
            "Epoch 15/200\n",
            "104/104 [==============================] - 16s 151ms/step - loss: 0.0191 - accuracy: 0.9929 - val_loss: 28.9869 - val_accuracy: 0.1864\n",
            "Epoch 16/200\n",
            "104/104 [==============================] - 16s 150ms/step - loss: 0.0344 - accuracy: 0.9898 - val_loss: 24.5528 - val_accuracy: 0.1680\n",
            "Epoch 17/200\n",
            "104/104 [==============================] - 16s 150ms/step - loss: 0.0258 - accuracy: 0.9919 - val_loss: 28.9105 - val_accuracy: 0.1664\n",
            "Epoch 18/200\n",
            "104/104 [==============================] - 16s 150ms/step - loss: 0.0385 - accuracy: 0.9865 - val_loss: 26.3471 - val_accuracy: 0.1533\n",
            "Epoch 19/200\n",
            "104/104 [==============================] - 16s 150ms/step - loss: 0.0279 - accuracy: 0.9913 - val_loss: 24.1289 - val_accuracy: 0.1749\n",
            "Epoch 20/200\n",
            "104/104 [==============================] - 16s 151ms/step - loss: 0.0211 - accuracy: 0.9921 - val_loss: 25.9235 - val_accuracy: 0.1841\n",
            "Epoch 21/200\n",
            "104/104 [==============================] - 16s 150ms/step - loss: 0.0254 - accuracy: 0.9923 - val_loss: 24.3805 - val_accuracy: 0.1703\n",
            "Epoch 22/200\n",
            "104/104 [==============================] - 16s 150ms/step - loss: 0.0245 - accuracy: 0.9915 - val_loss: 26.7819 - val_accuracy: 0.1687\n",
            "Epoch 23/200\n",
            "104/104 [==============================] - 16s 151ms/step - loss: 0.0157 - accuracy: 0.9954 - val_loss: 26.8078 - val_accuracy: 0.1780\n",
            "Epoch 24/200\n",
            "104/104 [==============================] - 16s 151ms/step - loss: 0.0225 - accuracy: 0.9923 - val_loss: 22.9501 - val_accuracy: 0.1695\n",
            "Epoch 25/200\n",
            "104/104 [==============================] - 16s 150ms/step - loss: 0.0158 - accuracy: 0.9940 - val_loss: 28.3342 - val_accuracy: 0.1602\n",
            "Epoch 26/200\n",
            "104/104 [==============================] - 16s 150ms/step - loss: 0.0126 - accuracy: 0.9954 - val_loss: 29.0751 - val_accuracy: 0.1572\n",
            "Epoch 27/200\n",
            "104/104 [==============================] - 16s 150ms/step - loss: 0.0176 - accuracy: 0.9946 - val_loss: 25.6014 - val_accuracy: 0.1649\n",
            "Epoch 28/200\n",
            "104/104 [==============================] - 16s 150ms/step - loss: 0.0158 - accuracy: 0.9958 - val_loss: 24.6393 - val_accuracy: 0.1687\n",
            "Epoch 29/200\n",
            "104/104 [==============================] - 16s 151ms/step - loss: 0.0158 - accuracy: 0.9946 - val_loss: 24.4459 - val_accuracy: 0.1764\n",
            "Epoch 30/200\n",
            "104/104 [==============================] - 16s 151ms/step - loss: 0.0111 - accuracy: 0.9961 - val_loss: 30.3370 - val_accuracy: 0.1718\n",
            "Epoch 31/200\n",
            "104/104 [==============================] - 16s 150ms/step - loss: 0.0249 - accuracy: 0.9923 - val_loss: 26.4913 - val_accuracy: 0.1687\n",
            "Epoch 32/200\n",
            "104/104 [==============================] - 16s 150ms/step - loss: 0.0072 - accuracy: 0.9979 - val_loss: 32.8137 - val_accuracy: 0.1610\n",
            "Epoch 33/200\n",
            "104/104 [==============================] - 16s 151ms/step - loss: 0.0133 - accuracy: 0.9965 - val_loss: 34.1274 - val_accuracy: 0.1672\n",
            "Epoch 34/200\n",
            "104/104 [==============================] - 16s 150ms/step - loss: 0.0073 - accuracy: 0.9965 - val_loss: 38.9548 - val_accuracy: 0.1549\n",
            "Epoch 35/200\n",
            "104/104 [==============================] - 16s 150ms/step - loss: 0.1255 - accuracy: 0.9723 - val_loss: 24.4558 - val_accuracy: 0.1626\n",
            "Epoch 36/200\n",
            "104/104 [==============================] - 16s 150ms/step - loss: 0.0211 - accuracy: 0.9933 - val_loss: 25.9152 - val_accuracy: 0.1626\n",
            "Epoch 37/200\n",
            "104/104 [==============================] - 16s 150ms/step - loss: 0.0210 - accuracy: 0.9938 - val_loss: 26.8394 - val_accuracy: 0.1726\n",
            "Epoch 38/200\n",
            "104/104 [==============================] - 16s 150ms/step - loss: 0.0121 - accuracy: 0.9960 - val_loss: 28.7038 - val_accuracy: 0.1772\n",
            "Epoch 39/200\n",
            "104/104 [==============================] - 16s 150ms/step - loss: 0.0185 - accuracy: 0.9940 - val_loss: 25.1195 - val_accuracy: 0.1764\n",
            "Epoch 40/200\n",
            "104/104 [==============================] - 16s 150ms/step - loss: 0.0088 - accuracy: 0.9965 - val_loss: 27.9460 - val_accuracy: 0.1641\n",
            "Epoch 41/200\n",
            "104/104 [==============================] - 16s 150ms/step - loss: 0.0100 - accuracy: 0.9971 - val_loss: 31.4740 - val_accuracy: 0.1718\n",
            "Epoch 42/200\n",
            "104/104 [==============================] - 16s 150ms/step - loss: 0.0121 - accuracy: 0.9965 - val_loss: 29.1254 - val_accuracy: 0.1864\n",
            "Epoch 43/200\n",
            "104/104 [==============================] - 16s 150ms/step - loss: 0.0102 - accuracy: 0.9967 - val_loss: 30.1152 - val_accuracy: 0.1795\n",
            "Epoch 44/200\n",
            "104/104 [==============================] - 16s 150ms/step - loss: 0.0104 - accuracy: 0.9969 - val_loss: 29.8032 - val_accuracy: 0.1787\n",
            "Epoch 45/200\n",
            "104/104 [==============================] - 16s 150ms/step - loss: 0.0110 - accuracy: 0.9958 - val_loss: 30.0737 - val_accuracy: 0.1803\n",
            "Epoch 46/200\n",
            "104/104 [==============================] - 16s 150ms/step - loss: 0.0122 - accuracy: 0.9975 - val_loss: 28.3502 - val_accuracy: 0.1672\n",
            "Epoch 47/200\n",
            "104/104 [==============================] - 16s 150ms/step - loss: 0.0053 - accuracy: 0.9987 - val_loss: 31.8530 - val_accuracy: 0.1687\n",
            "Epoch 48/200\n",
            "104/104 [==============================] - 16s 150ms/step - loss: 0.0142 - accuracy: 0.9977 - val_loss: 27.9867 - val_accuracy: 0.1495\n",
            "Epoch 49/200\n",
            "104/104 [==============================] - 16s 150ms/step - loss: 0.0118 - accuracy: 0.9952 - val_loss: 32.8545 - val_accuracy: 0.1726\n",
            "Epoch 50/200\n",
            "104/104 [==============================] - 16s 150ms/step - loss: 0.0086 - accuracy: 0.9965 - val_loss: 36.7288 - val_accuracy: 0.1757\n",
            "Epoch 51/200\n",
            "104/104 [==============================] - 16s 150ms/step - loss: 0.0118 - accuracy: 0.9967 - val_loss: 26.5178 - val_accuracy: 0.1587\n",
            "Epoch 52/200\n",
            "104/104 [==============================] - 16s 150ms/step - loss: 0.0089 - accuracy: 0.9973 - val_loss: 30.0347 - val_accuracy: 0.1379\n",
            "Epoch 53/200\n",
            "104/104 [==============================] - 16s 151ms/step - loss: 0.0113 - accuracy: 0.9965 - val_loss: 28.4367 - val_accuracy: 0.1857\n",
            "Epoch 54/200\n",
            "104/104 [==============================] - 16s 150ms/step - loss: 0.0057 - accuracy: 0.9979 - val_loss: 30.1786 - val_accuracy: 0.1710\n",
            "Epoch 55/200\n",
            "104/104 [==============================] - 16s 150ms/step - loss: 0.0081 - accuracy: 0.9975 - val_loss: 27.7017 - val_accuracy: 0.1618\n",
            "Epoch 56/200\n",
            "104/104 [==============================] - 16s 150ms/step - loss: 0.0064 - accuracy: 0.9977 - val_loss: 29.8772 - val_accuracy: 0.1810\n",
            "Epoch 57/200\n",
            "104/104 [==============================] - 16s 151ms/step - loss: 0.0085 - accuracy: 0.9975 - val_loss: 34.4717 - val_accuracy: 0.1787\n",
            "Epoch 58/200\n",
            "104/104 [==============================] - 16s 151ms/step - loss: 0.0202 - accuracy: 0.9946 - val_loss: 26.2263 - val_accuracy: 0.1764\n",
            "Epoch 59/200\n",
            "104/104 [==============================] - 16s 150ms/step - loss: 0.0122 - accuracy: 0.9963 - val_loss: 24.7902 - val_accuracy: 0.1510\n",
            "Epoch 60/200\n",
            "104/104 [==============================] - 16s 151ms/step - loss: 0.0068 - accuracy: 0.9973 - val_loss: 29.1883 - val_accuracy: 0.1864\n",
            "Epoch 61/200\n",
            "104/104 [==============================] - 16s 150ms/step - loss: 0.0109 - accuracy: 0.9969 - val_loss: 29.7685 - val_accuracy: 0.1633\n",
            "Epoch 62/200\n",
            "104/104 [==============================] - 16s 150ms/step - loss: 0.0137 - accuracy: 0.9954 - val_loss: 30.1794 - val_accuracy: 0.1641\n",
            "Epoch 63/200\n",
            "104/104 [==============================] - 16s 152ms/step - loss: 0.0111 - accuracy: 0.9961 - val_loss: 30.3024 - val_accuracy: 0.1749\n",
            "Epoch 64/200\n",
            "104/104 [==============================] - 16s 150ms/step - loss: 0.0056 - accuracy: 0.9985 - val_loss: 28.9392 - val_accuracy: 0.1741\n",
            "Epoch 65/200\n",
            "104/104 [==============================] - 16s 150ms/step - loss: 0.0168 - accuracy: 0.9956 - val_loss: 28.0728 - val_accuracy: 0.1495\n",
            "Epoch 66/200\n",
            "104/104 [==============================] - 16s 150ms/step - loss: 0.0107 - accuracy: 0.9969 - val_loss: 25.8152 - val_accuracy: 0.1841\n",
            "Epoch 67/200\n",
            "104/104 [==============================] - 16s 150ms/step - loss: 0.0098 - accuracy: 0.9967 - val_loss: 27.3886 - val_accuracy: 0.1733\n",
            "Epoch 68/200\n",
            "104/104 [==============================] - 16s 150ms/step - loss: 0.0090 - accuracy: 0.9977 - val_loss: 26.9122 - val_accuracy: 0.1610\n",
            "Epoch 69/200\n",
            "104/104 [==============================] - 16s 150ms/step - loss: 0.0068 - accuracy: 0.9979 - val_loss: 32.9657 - val_accuracy: 0.1780\n",
            "Epoch 70/200\n",
            "104/104 [==============================] - 16s 151ms/step - loss: 0.0044 - accuracy: 0.9985 - val_loss: 31.4413 - val_accuracy: 0.1626\n",
            "Epoch 71/200\n",
            "104/104 [==============================] - 16s 151ms/step - loss: 0.0082 - accuracy: 0.9979 - val_loss: 35.8380 - val_accuracy: 0.1595\n",
            "Epoch 72/200\n",
            "104/104 [==============================] - 16s 150ms/step - loss: 0.0159 - accuracy: 0.9958 - val_loss: 30.7047 - val_accuracy: 0.1710\n",
            "Epoch 73/200\n",
            "104/104 [==============================] - 16s 151ms/step - loss: 0.0085 - accuracy: 0.9981 - val_loss: 24.4072 - val_accuracy: 0.1834\n",
            "Epoch 74/200\n",
            "104/104 [==============================] - 16s 150ms/step - loss: 0.0066 - accuracy: 0.9977 - val_loss: 25.3081 - val_accuracy: 0.1710\n",
            "Epoch 75/200\n",
            "104/104 [==============================] - 16s 151ms/step - loss: 0.0056 - accuracy: 0.9981 - val_loss: 26.7198 - val_accuracy: 0.1633\n",
            "Epoch 76/200\n",
            "104/104 [==============================] - 16s 151ms/step - loss: 0.0063 - accuracy: 0.9981 - val_loss: 26.0607 - val_accuracy: 0.1626\n",
            "Epoch 77/200\n",
            "104/104 [==============================] - 16s 151ms/step - loss: 0.0052 - accuracy: 0.9977 - val_loss: 24.2795 - val_accuracy: 0.1834\n",
            "Epoch 78/200\n",
            "104/104 [==============================] - 16s 151ms/step - loss: 0.0026 - accuracy: 0.9988 - val_loss: 31.9977 - val_accuracy: 0.1641\n",
            "Epoch 79/200\n",
            "104/104 [==============================] - 16s 150ms/step - loss: 0.0025 - accuracy: 0.9992 - val_loss: 35.2884 - val_accuracy: 0.1826\n",
            "Epoch 80/200\n",
            "104/104 [==============================] - 16s 150ms/step - loss: 0.0140 - accuracy: 0.9965 - val_loss: 27.6070 - val_accuracy: 0.1718\n",
            "Epoch 81/200\n",
            "104/104 [==============================] - 16s 150ms/step - loss: 0.0057 - accuracy: 0.9977 - val_loss: 30.6030 - val_accuracy: 0.1626\n",
            "Epoch 82/200\n",
            "104/104 [==============================] - 16s 150ms/step - loss: 0.0076 - accuracy: 0.9979 - val_loss: 24.0563 - val_accuracy: 0.1787\n",
            "Epoch 83/200\n",
            "104/104 [==============================] - 16s 151ms/step - loss: 0.0046 - accuracy: 0.9987 - val_loss: 26.7644 - val_accuracy: 0.1672\n",
            "Epoch 84/200\n",
            "104/104 [==============================] - 16s 151ms/step - loss: 0.0169 - accuracy: 0.9954 - val_loss: 28.3323 - val_accuracy: 0.1525\n",
            "Epoch 85/200\n",
            "104/104 [==============================] - 16s 151ms/step - loss: 0.0070 - accuracy: 0.9981 - val_loss: 32.7684 - val_accuracy: 0.1572\n",
            "Epoch 86/200\n",
            "104/104 [==============================] - 16s 151ms/step - loss: 0.0025 - accuracy: 0.9992 - val_loss: 31.3130 - val_accuracy: 0.1572\n",
            "Epoch 87/200\n",
            "104/104 [==============================] - 16s 151ms/step - loss: 0.0052 - accuracy: 0.9981 - val_loss: 31.1932 - val_accuracy: 0.1618\n",
            "Epoch 88/200\n",
            "104/104 [==============================] - 16s 151ms/step - loss: 0.0040 - accuracy: 0.9987 - val_loss: 30.9712 - val_accuracy: 0.1479\n",
            "Epoch 89/200\n",
            "104/104 [==============================] - 16s 151ms/step - loss: 0.0073 - accuracy: 0.9981 - val_loss: 27.8978 - val_accuracy: 0.1564\n",
            "Epoch 90/200\n",
            "104/104 [==============================] - 16s 151ms/step - loss: 0.0058 - accuracy: 0.9981 - val_loss: 28.2867 - val_accuracy: 0.1733\n",
            "Epoch 91/200\n",
            "104/104 [==============================] - 16s 151ms/step - loss: 0.0017 - accuracy: 0.9990 - val_loss: 32.8535 - val_accuracy: 0.1787\n",
            "Epoch 92/200\n",
            "104/104 [==============================] - 16s 151ms/step - loss: 0.0018 - accuracy: 0.9994 - val_loss: 29.1801 - val_accuracy: 0.1718\n",
            "Epoch 93/200\n",
            "104/104 [==============================] - 16s 151ms/step - loss: 0.0057 - accuracy: 0.9983 - val_loss: 28.4760 - val_accuracy: 0.1749\n",
            "Epoch 94/200\n",
            "104/104 [==============================] - 16s 151ms/step - loss: 0.0101 - accuracy: 0.9977 - val_loss: 26.3266 - val_accuracy: 0.1618\n",
            "Epoch 95/200\n",
            "104/104 [==============================] - 16s 151ms/step - loss: 0.0106 - accuracy: 0.9979 - val_loss: 28.4010 - val_accuracy: 0.1826\n",
            "Epoch 96/200\n",
            "104/104 [==============================] - 16s 151ms/step - loss: 0.0153 - accuracy: 0.9961 - val_loss: 22.7615 - val_accuracy: 0.1903\n",
            "Epoch 97/200\n",
            "104/104 [==============================] - 16s 151ms/step - loss: 0.0052 - accuracy: 0.9985 - val_loss: 31.2122 - val_accuracy: 0.1895\n",
            "Epoch 98/200\n",
            "104/104 [==============================] - 16s 152ms/step - loss: 0.0063 - accuracy: 0.9969 - val_loss: 28.4099 - val_accuracy: 0.1533\n",
            "Epoch 99/200\n",
            "104/104 [==============================] - 16s 151ms/step - loss: 0.0045 - accuracy: 0.9987 - val_loss: 31.4059 - val_accuracy: 0.1387\n",
            "Epoch 100/200\n",
            "104/104 [==============================] - 16s 151ms/step - loss: 0.0077 - accuracy: 0.9979 - val_loss: 30.2088 - val_accuracy: 0.1479\n",
            "Epoch 101/200\n",
            "104/104 [==============================] - 16s 151ms/step - loss: 0.0048 - accuracy: 0.9985 - val_loss: 31.1084 - val_accuracy: 0.1572\n",
            "Epoch 102/200\n",
            "104/104 [==============================] - 16s 152ms/step - loss: 0.0082 - accuracy: 0.9973 - val_loss: 27.3287 - val_accuracy: 0.1572\n",
            "Epoch 103/200\n",
            "104/104 [==============================] - 16s 151ms/step - loss: 0.0017 - accuracy: 0.9996 - val_loss: 30.3025 - val_accuracy: 0.1618\n",
            "Epoch 104/200\n",
            "104/104 [==============================] - 16s 151ms/step - loss: 0.0016 - accuracy: 0.9996 - val_loss: 29.9096 - val_accuracy: 0.1649\n",
            "Epoch 105/200\n",
            "104/104 [==============================] - 16s 153ms/step - loss: 0.0014 - accuracy: 0.9992 - val_loss: 33.7863 - val_accuracy: 0.1602\n",
            "Epoch 106/200\n",
            "104/104 [==============================] - 16s 152ms/step - loss: 0.0058 - accuracy: 0.9987 - val_loss: 35.0762 - val_accuracy: 0.1479\n",
            "Epoch 107/200\n",
            "104/104 [==============================] - 16s 151ms/step - loss: 0.0057 - accuracy: 0.9985 - val_loss: 43.5903 - val_accuracy: 0.1518\n",
            "Epoch 108/200\n",
            "104/104 [==============================] - 16s 152ms/step - loss: 0.0061 - accuracy: 0.9977 - val_loss: 35.7618 - val_accuracy: 0.1533\n",
            "Epoch 109/200\n",
            "104/104 [==============================] - 16s 152ms/step - loss: 0.0116 - accuracy: 0.9961 - val_loss: 23.2012 - val_accuracy: 0.1564\n",
            "Epoch 110/200\n",
            "104/104 [==============================] - 16s 151ms/step - loss: 0.0103 - accuracy: 0.9977 - val_loss: 34.3584 - val_accuracy: 0.1672\n",
            "Epoch 111/200\n",
            "104/104 [==============================] - 16s 150ms/step - loss: 0.0083 - accuracy: 0.9971 - val_loss: 36.5366 - val_accuracy: 0.1687\n",
            "Epoch 112/200\n",
            "104/104 [==============================] - 16s 150ms/step - loss: 0.0081 - accuracy: 0.9979 - val_loss: 27.9639 - val_accuracy: 0.1587\n",
            "Epoch 113/200\n",
            "104/104 [==============================] - 16s 151ms/step - loss: 0.0038 - accuracy: 0.9992 - val_loss: 30.2043 - val_accuracy: 0.1656\n",
            "Epoch 114/200\n",
            "104/104 [==============================] - 16s 151ms/step - loss: 0.0081 - accuracy: 0.9979 - val_loss: 29.3958 - val_accuracy: 0.1703\n",
            "Epoch 115/200\n",
            "104/104 [==============================] - 16s 151ms/step - loss: 0.0022 - accuracy: 0.9988 - val_loss: 27.6450 - val_accuracy: 0.1703\n",
            "Epoch 116/200\n",
            "104/104 [==============================] - 16s 151ms/step - loss: 0.0058 - accuracy: 0.9981 - val_loss: 25.7949 - val_accuracy: 0.1749\n",
            "Epoch 117/200\n",
            "104/104 [==============================] - 16s 151ms/step - loss: 0.0022 - accuracy: 0.9994 - val_loss: 32.6953 - val_accuracy: 0.1687\n",
            "Epoch 118/200\n",
            "104/104 [==============================] - 16s 150ms/step - loss: 0.0010 - accuracy: 0.9994 - val_loss: 36.1665 - val_accuracy: 0.1518\n",
            "Epoch 119/200\n",
            "104/104 [==============================] - 16s 151ms/step - loss: 0.0100 - accuracy: 0.9971 - val_loss: 33.9850 - val_accuracy: 0.1556\n",
            "Epoch 120/200\n",
            "104/104 [==============================] - 16s 151ms/step - loss: 0.0094 - accuracy: 0.9987 - val_loss: 29.5099 - val_accuracy: 0.1733\n",
            "Epoch 121/200\n",
            "104/104 [==============================] - 16s 151ms/step - loss: 0.0013 - accuracy: 0.9994 - val_loss: 33.8641 - val_accuracy: 0.1787\n",
            "Epoch 122/200\n",
            "104/104 [==============================] - 16s 152ms/step - loss: 0.0011 - accuracy: 0.9998 - val_loss: 35.0539 - val_accuracy: 0.1710\n",
            "Epoch 123/200\n",
            "104/104 [==============================] - 16s 152ms/step - loss: 0.0055 - accuracy: 0.9985 - val_loss: 29.1545 - val_accuracy: 0.1780\n",
            "Epoch 124/200\n",
            "104/104 [==============================] - 16s 151ms/step - loss: 0.0019 - accuracy: 0.9994 - val_loss: 30.2923 - val_accuracy: 0.1733\n",
            "Epoch 125/200\n",
            "104/104 [==============================] - 16s 151ms/step - loss: 0.0045 - accuracy: 0.9983 - val_loss: 34.7034 - val_accuracy: 0.1780\n",
            "Epoch 126/200\n",
            "104/104 [==============================] - 16s 151ms/step - loss: 0.0054 - accuracy: 0.9983 - val_loss: 31.4938 - val_accuracy: 0.1780\n",
            "Epoch 127/200\n",
            "104/104 [==============================] - 16s 150ms/step - loss: 0.0025 - accuracy: 0.9992 - val_loss: 34.6517 - val_accuracy: 0.1764\n",
            "Epoch 128/200\n",
            "104/104 [==============================] - 16s 151ms/step - loss: 0.0027 - accuracy: 0.9988 - val_loss: 28.3981 - val_accuracy: 0.1834\n",
            "Epoch 129/200\n",
            "104/104 [==============================] - 16s 151ms/step - loss: 0.0054 - accuracy: 0.9981 - val_loss: 29.2481 - val_accuracy: 0.1726\n",
            "Epoch 130/200\n",
            "104/104 [==============================] - 16s 151ms/step - loss: 0.0076 - accuracy: 0.9973 - val_loss: 25.5547 - val_accuracy: 0.1864\n",
            "Epoch 131/200\n",
            "104/104 [==============================] - 16s 151ms/step - loss: 0.0040 - accuracy: 0.9988 - val_loss: 29.3131 - val_accuracy: 0.1834\n",
            "Epoch 132/200\n",
            "104/104 [==============================] - 16s 152ms/step - loss: 0.0047 - accuracy: 0.9985 - val_loss: 27.5944 - val_accuracy: 0.1803\n",
            "Epoch 133/200\n",
            "104/104 [==============================] - 16s 150ms/step - loss: 0.0040 - accuracy: 0.9987 - val_loss: 29.8267 - val_accuracy: 0.1687\n",
            "Epoch 134/200\n",
            "104/104 [==============================] - 16s 151ms/step - loss: 0.0018 - accuracy: 0.9994 - val_loss: 28.7466 - val_accuracy: 0.1795\n",
            "Epoch 135/200\n",
            "104/104 [==============================] - 16s 151ms/step - loss: 0.0029 - accuracy: 0.9992 - val_loss: 31.1384 - val_accuracy: 0.1764\n",
            "Epoch 136/200\n",
            "104/104 [==============================] - 16s 151ms/step - loss: 0.0035 - accuracy: 0.9985 - val_loss: 35.1292 - val_accuracy: 0.1595\n",
            "Epoch 137/200\n",
            "104/104 [==============================] - 16s 151ms/step - loss: 0.0042 - accuracy: 0.9988 - val_loss: 43.4600 - val_accuracy: 0.1757\n",
            "Epoch 138/200\n",
            "104/104 [==============================] - 16s 152ms/step - loss: 0.0056 - accuracy: 0.9983 - val_loss: 30.9565 - val_accuracy: 0.1818\n",
            "Epoch 139/200\n",
            "104/104 [==============================] - 16s 151ms/step - loss: 0.0058 - accuracy: 0.9977 - val_loss: 41.1696 - val_accuracy: 0.1518\n",
            "Epoch 140/200\n",
            "104/104 [==============================] - 16s 152ms/step - loss: 0.0089 - accuracy: 0.9971 - val_loss: 35.4740 - val_accuracy: 0.1733\n",
            "Epoch 141/200\n",
            "104/104 [==============================] - 16s 151ms/step - loss: 0.0105 - accuracy: 0.9985 - val_loss: 41.6210 - val_accuracy: 0.1680\n",
            "Epoch 142/200\n",
            "104/104 [==============================] - 16s 152ms/step - loss: 0.0055 - accuracy: 0.9988 - val_loss: 36.9598 - val_accuracy: 0.1757\n",
            "Epoch 143/200\n",
            "104/104 [==============================] - 16s 151ms/step - loss: 0.0055 - accuracy: 0.9988 - val_loss: 27.6572 - val_accuracy: 0.1672\n",
            "Epoch 144/200\n",
            "104/104 [==============================] - 16s 152ms/step - loss: 0.0021 - accuracy: 0.9994 - val_loss: 27.2351 - val_accuracy: 0.1703\n",
            "Epoch 145/200\n",
            "104/104 [==============================] - 16s 151ms/step - loss: 0.0046 - accuracy: 0.9985 - val_loss: 26.7082 - val_accuracy: 0.1680\n",
            "Epoch 146/200\n",
            "104/104 [==============================] - 16s 151ms/step - loss: 5.8325e-04 - accuracy: 1.0000 - val_loss: 30.3312 - val_accuracy: 0.1664\n",
            "Epoch 147/200\n",
            "104/104 [==============================] - 16s 152ms/step - loss: 0.0024 - accuracy: 0.9990 - val_loss: 32.7249 - val_accuracy: 0.1895\n",
            "Epoch 148/200\n",
            "104/104 [==============================] - 16s 152ms/step - loss: 0.0024 - accuracy: 0.9992 - val_loss: 32.2890 - val_accuracy: 0.1880\n",
            "Epoch 149/200\n",
            "104/104 [==============================] - 16s 153ms/step - loss: 0.0013 - accuracy: 0.9996 - val_loss: 32.2031 - val_accuracy: 0.1726\n",
            "Epoch 150/200\n",
            "104/104 [==============================] - 16s 151ms/step - loss: 6.4898e-04 - accuracy: 0.9996 - val_loss: 31.8043 - val_accuracy: 0.1710\n",
            "Epoch 151/200\n",
            "104/104 [==============================] - 16s 152ms/step - loss: 8.6427e-04 - accuracy: 0.9998 - val_loss: 32.3012 - val_accuracy: 0.1687\n",
            "Epoch 152/200\n",
            "104/104 [==============================] - 16s 151ms/step - loss: 5.1422e-04 - accuracy: 1.0000 - val_loss: 34.0273 - val_accuracy: 0.1610\n",
            "Epoch 153/200\n",
            "104/104 [==============================] - 16s 152ms/step - loss: 0.0014 - accuracy: 0.9992 - val_loss: 39.1235 - val_accuracy: 0.1795\n",
            "Epoch 154/200\n",
            "104/104 [==============================] - 16s 151ms/step - loss: 0.0035 - accuracy: 0.9988 - val_loss: 42.0623 - val_accuracy: 0.1710\n",
            "Epoch 155/200\n",
            "104/104 [==============================] - 16s 152ms/step - loss: 0.0047 - accuracy: 0.9992 - val_loss: 35.1547 - val_accuracy: 0.1826\n",
            "Epoch 156/200\n",
            "104/104 [==============================] - 16s 151ms/step - loss: 0.0058 - accuracy: 0.9987 - val_loss: 37.6673 - val_accuracy: 0.1941\n",
            "Epoch 157/200\n",
            "104/104 [==============================] - 16s 150ms/step - loss: 0.0040 - accuracy: 0.9988 - val_loss: 39.1027 - val_accuracy: 0.1787\n",
            "Epoch 158/200\n",
            "104/104 [==============================] - 16s 151ms/step - loss: 0.0053 - accuracy: 0.9985 - val_loss: 42.3653 - val_accuracy: 0.1733\n",
            "Epoch 159/200\n",
            "104/104 [==============================] - 16s 151ms/step - loss: 0.0018 - accuracy: 0.9994 - val_loss: 40.8105 - val_accuracy: 0.1687\n",
            "Epoch 160/200\n",
            "104/104 [==============================] - 16s 151ms/step - loss: 0.0077 - accuracy: 0.9985 - val_loss: 41.3833 - val_accuracy: 0.1579\n",
            "Epoch 161/200\n",
            "104/104 [==============================] - 16s 152ms/step - loss: 0.0040 - accuracy: 0.9992 - val_loss: 40.9368 - val_accuracy: 0.1495\n",
            "Epoch 162/200\n",
            "104/104 [==============================] - 16s 151ms/step - loss: 0.0029 - accuracy: 0.9988 - val_loss: 41.4252 - val_accuracy: 0.1564\n",
            "Epoch 163/200\n",
            "104/104 [==============================] - 16s 151ms/step - loss: 0.0059 - accuracy: 0.9983 - val_loss: 42.8969 - val_accuracy: 0.1525\n",
            "Epoch 164/200\n",
            "104/104 [==============================] - 16s 152ms/step - loss: 0.0062 - accuracy: 0.9979 - val_loss: 46.0523 - val_accuracy: 0.1633\n",
            "Epoch 165/200\n",
            "104/104 [==============================] - 16s 152ms/step - loss: 0.0080 - accuracy: 0.9977 - val_loss: 40.7579 - val_accuracy: 0.1664\n",
            "Epoch 166/200\n",
            "104/104 [==============================] - 16s 151ms/step - loss: 0.0036 - accuracy: 0.9996 - val_loss: 45.0017 - val_accuracy: 0.1664\n",
            "Epoch 167/200\n",
            "104/104 [==============================] - 16s 152ms/step - loss: 0.0125 - accuracy: 0.9961 - val_loss: 40.8305 - val_accuracy: 0.1757\n",
            "Epoch 168/200\n",
            "104/104 [==============================] - 16s 151ms/step - loss: 0.0084 - accuracy: 0.9983 - val_loss: 35.5427 - val_accuracy: 0.1664\n",
            "Epoch 169/200\n",
            "104/104 [==============================] - 16s 151ms/step - loss: 0.0059 - accuracy: 0.9988 - val_loss: 33.5415 - val_accuracy: 0.1602\n",
            "Epoch 170/200\n",
            "104/104 [==============================] - 16s 151ms/step - loss: 0.0047 - accuracy: 0.9981 - val_loss: 34.2023 - val_accuracy: 0.1741\n",
            "Epoch 171/200\n",
            "104/104 [==============================] - 16s 151ms/step - loss: 0.0031 - accuracy: 0.9992 - val_loss: 34.8084 - val_accuracy: 0.1757\n",
            "Epoch 172/200\n",
            "104/104 [==============================] - 16s 151ms/step - loss: 0.0042 - accuracy: 0.9985 - val_loss: 33.0516 - val_accuracy: 0.1672\n",
            "Epoch 173/200\n",
            "104/104 [==============================] - 16s 151ms/step - loss: 6.6463e-04 - accuracy: 0.9996 - val_loss: 36.7247 - val_accuracy: 0.1695\n",
            "Epoch 174/200\n",
            "104/104 [==============================] - 16s 151ms/step - loss: 0.0036 - accuracy: 0.9990 - val_loss: 34.3815 - val_accuracy: 0.1602\n",
            "Epoch 175/200\n",
            "104/104 [==============================] - 16s 151ms/step - loss: 0.0013 - accuracy: 0.9992 - val_loss: 38.6969 - val_accuracy: 0.1672\n",
            "Epoch 176/200\n",
            "104/104 [==============================] - 16s 151ms/step - loss: 0.0019 - accuracy: 0.9996 - val_loss: 36.1666 - val_accuracy: 0.1579\n",
            "Epoch 177/200\n",
            "104/104 [==============================] - 16s 152ms/step - loss: 0.0025 - accuracy: 0.9992 - val_loss: 41.6279 - val_accuracy: 0.1448\n",
            "Epoch 178/200\n",
            "104/104 [==============================] - 16s 151ms/step - loss: 0.0033 - accuracy: 0.9992 - val_loss: 44.8258 - val_accuracy: 0.1448\n",
            "Epoch 179/200\n",
            "104/104 [==============================] - 16s 151ms/step - loss: 0.0043 - accuracy: 0.9992 - val_loss: 41.8218 - val_accuracy: 0.1479\n",
            "Epoch 180/200\n",
            "104/104 [==============================] - 16s 151ms/step - loss: 0.0063 - accuracy: 0.9985 - val_loss: 40.1596 - val_accuracy: 0.1664\n",
            "Epoch 181/200\n",
            "104/104 [==============================] - 16s 151ms/step - loss: 0.0060 - accuracy: 0.9983 - val_loss: 32.0267 - val_accuracy: 0.1672\n",
            "Epoch 182/200\n",
            "104/104 [==============================] - 16s 151ms/step - loss: 0.0019 - accuracy: 0.9990 - val_loss: 37.1387 - val_accuracy: 0.1726\n",
            "Epoch 183/200\n",
            "104/104 [==============================] - 16s 151ms/step - loss: 0.0011 - accuracy: 0.9996 - val_loss: 31.3945 - val_accuracy: 0.1733\n",
            "Epoch 184/200\n",
            "104/104 [==============================] - 16s 151ms/step - loss: 0.0035 - accuracy: 0.9994 - val_loss: 34.1070 - val_accuracy: 0.1618\n",
            "Epoch 185/200\n",
            "104/104 [==============================] - 16s 152ms/step - loss: 0.0014 - accuracy: 0.9992 - val_loss: 31.0899 - val_accuracy: 0.1672\n",
            "Epoch 186/200\n",
            "104/104 [==============================] - 16s 151ms/step - loss: 0.0017 - accuracy: 0.9994 - val_loss: 29.6440 - val_accuracy: 0.1680\n",
            "Epoch 187/200\n",
            "104/104 [==============================] - 16s 151ms/step - loss: 0.0016 - accuracy: 0.9992 - val_loss: 31.6224 - val_accuracy: 0.1687\n",
            "Epoch 188/200\n",
            "104/104 [==============================] - 16s 151ms/step - loss: 0.0034 - accuracy: 0.9988 - val_loss: 41.5867 - val_accuracy: 0.1680\n",
            "Epoch 189/200\n",
            "104/104 [==============================] - 16s 151ms/step - loss: 0.0057 - accuracy: 0.9985 - val_loss: 32.0193 - val_accuracy: 0.1610\n",
            "Epoch 190/200\n",
            "104/104 [==============================] - 16s 151ms/step - loss: 0.0021 - accuracy: 0.9996 - val_loss: 32.6063 - val_accuracy: 0.1710\n",
            "Epoch 191/200\n",
            "104/104 [==============================] - 16s 152ms/step - loss: 0.0027 - accuracy: 0.9994 - val_loss: 30.9856 - val_accuracy: 0.1764\n",
            "Epoch 192/200\n",
            "104/104 [==============================] - 16s 152ms/step - loss: 0.0023 - accuracy: 0.9994 - val_loss: 33.0866 - val_accuracy: 0.1710\n",
            "Epoch 193/200\n",
            "104/104 [==============================] - 16s 151ms/step - loss: 0.0050 - accuracy: 0.9987 - val_loss: 35.6525 - val_accuracy: 0.1587\n",
            "Epoch 194/200\n",
            "104/104 [==============================] - 16s 151ms/step - loss: 0.0028 - accuracy: 0.9990 - val_loss: 44.6435 - val_accuracy: 0.1633\n",
            "Epoch 195/200\n",
            "104/104 [==============================] - 16s 151ms/step - loss: 0.0122 - accuracy: 0.9971 - val_loss: 47.4491 - val_accuracy: 0.1525\n",
            "Epoch 196/200\n",
            "104/104 [==============================] - 16s 152ms/step - loss: 0.0060 - accuracy: 0.9983 - val_loss: 38.1489 - val_accuracy: 0.1726\n",
            "Epoch 197/200\n",
            "104/104 [==============================] - 16s 151ms/step - loss: 6.6393e-04 - accuracy: 0.9996 - val_loss: 42.4677 - val_accuracy: 0.1757\n",
            "Epoch 198/200\n",
            "104/104 [==============================] - 16s 151ms/step - loss: 0.0024 - accuracy: 0.9994 - val_loss: 44.1376 - val_accuracy: 0.1718\n",
            "Epoch 199/200\n",
            "104/104 [==============================] - 16s 151ms/step - loss: 0.0033 - accuracy: 0.9985 - val_loss: 41.3256 - val_accuracy: 0.1749\n",
            "Epoch 200/200\n",
            "104/104 [==============================] - 16s 152ms/step - loss: 0.0077 - accuracy: 0.9987 - val_loss: 46.5312 - val_accuracy: 0.1425\n"
          ]
        }
      ]
    },
    {
      "cell_type": "markdown",
      "metadata": {
        "id": "okVVdYC9nsbz"
      },
      "source": [
        "We will visualize the outcome and model loss."
      ]
    },
    {
      "cell_type": "code",
      "metadata": {
        "colab": {
          "base_uri": "https://localhost:8080/",
          "height": 295
        },
        "id": "J4RAZOWLnyIV",
        "outputId": "6183fc08-8de9-4f66-c1d8-cc9b588d135b"
      },
      "source": [
        "plt.plot(history.history['accuracy'], label='train', color=\"red\")\n",
        "plt.plot(history.history['val_accuracy'], label='validation', color=\"blue\")\n",
        "plt.title('Model accuracy')\n",
        "plt.legend(loc='upper left')\n",
        "plt.ylabel('accuracy')\n",
        "plt.xlabel('epoch')\n",
        "plt.show()"
      ],
      "execution_count": null,
      "outputs": [
        {
          "output_type": "display_data",
          "data": {
            "image/png": "[encoded data removed]",
            "text/plain": [
              "<Figure size 432x288 with 1 Axes>"
            ]
          },
          "metadata": {
            "needs_background": "light"
          }
        }
      ]
    },
    {
      "cell_type": "code",
      "metadata": {
        "colab": {
          "base_uri": "https://localhost:8080/",
          "height": 295
        },
        "id": "7IAVgEe_n4tW",
        "outputId": "c4a6a7e8-f16a-4e0f-b608-6b3bb74efc1b"
      },
      "source": [
        "plt.plot(history.history['loss'], label='train', color=\"red\")\n",
        "plt.plot(history.history['val_loss'], label='validation', color=\"blue\")\n",
        "plt.title('Model loss')\n",
        "plt.legend(loc='upper left')\n",
        "plt.xlabel('epoch')\n",
        "plt.ylabel('loss')\n",
        "plt.show()"
      ],
      "execution_count": null,
      "outputs": [
        {
          "output_type": "display_data",
          "data": {
            "image/png": "[encoded data removed]",
            "text/plain": [
              "<Figure size 432x288 with 1 Axes>"
            ]
          },
          "metadata": {
            "needs_background": "light"
          }
        }
      ]
    },
    {
      "cell_type": "code",
      "metadata": {
        "colab": {
          "base_uri": "https://localhost:8080/"
        },
        "id": "ejgCI3Vwn-ZF",
        "outputId": "75668388-6e31-41b7-858b-6a03761e46a7"
      },
      "source": [
        "score, acc = model.evaluate(X_train, y_train)\n",
        "print('Train score:', score)\n",
        "print('Train accuracy:', acc)"
      ],
      "execution_count": null,
      "outputs": [
        {
          "output_type": "stream",
          "name": "stdout",
          "text": [
            "203/203 [==============================] - 7s 33ms/step - loss: 9.3063 - accuracy: 0.8285\n",
            "Train score: 9.306251525878906\n",
            "Train accuracy: 0.8285053968429565\n"
          ]
        }
      ]
    },
    {
      "cell_type": "code",
      "metadata": {
        "colab": {
          "base_uri": "https://localhost:8080/"
        },
        "id": "yyGZQBSen7A-",
        "outputId": "934dbae7-e7d7-4e38-964b-62b9077dbe1c"
      },
      "source": [
        "score, acc = model.evaluate(X_test, y_test)\n",
        "print('Test score:', score)\n",
        "print('Test accuracy:', acc)"
      ],
      "execution_count": null,
      "outputs": [
        {
          "output_type": "stream",
          "name": "stdout",
          "text": [
            "27/27 [==============================] - 1s 47ms/step - loss: 9.9876 - accuracy: 0.7763\n",
            "Test score: 9.987638473510742\n",
            "Test accuracy: 0.7763466238975525\n"
          ]
        }
      ]
    },
    {
      "cell_type": "markdown",
      "source": [
        "Based on accuracy, it does not seem to me that we have overlifting problem (the train and test accuracy differ only in 5%). However, the model could predict better, because it fails in 23% cases."
      ],
      "metadata": {
        "id": "RKEIycslefGR"
      }
    },
    {
      "cell_type": "markdown",
      "metadata": {
        "id": "welP9iPhoBmX"
      },
      "source": [
        "Now, let's see how model predicts (what output we get)."
      ]
    },
    {
      "cell_type": "code",
      "metadata": {
        "id": "hh-5iesvoBUk",
        "colab": {
          "base_uri": "https://localhost:8080/"
        },
        "outputId": "35a050d8-3865-4d9f-fb1c-6ed10136cc5c"
      },
      "source": [
        "pred = model.predict(X_test)\n",
        "pred"
      ],
      "execution_count": null,
      "outputs": [
        {
          "output_type": "execute_result",
          "data": {
            "text/plain": [
              "array([[1.7753042e-28, 3.3554736e-25, 0.0000000e+00, ..., 0.0000000e+00,\n",
              "        1.3576239e-31, 4.5648463e-34],\n",
              "       [2.0486554e-27, 7.1258797e-31, 0.0000000e+00, ..., 4.1959153e-32,\n",
              "        6.8992592e-33, 5.0887136e-31],\n",
              "       [1.5872853e-29, 3.5103436e-16, 1.7483005e-36, ..., 4.6406912e-36,\n",
              "        1.7907472e-32, 1.2634265e-19],\n",
              "       ...,\n",
              "       [1.0000000e+00, 2.5607026e-36, 0.0000000e+00, ..., 2.7761039e-32,\n",
              "        4.5833010e-29, 0.0000000e+00],\n",
              "       [9.9716127e-01, 5.9545521e-11, 4.8101157e-20, ..., 3.8536365e-15,\n",
              "        6.4976006e-14, 2.2593079e-23],\n",
              "       [1.0000000e+00, 0.0000000e+00, 0.0000000e+00, ..., 0.0000000e+00,\n",
              "        0.0000000e+00, 0.0000000e+00]], dtype=float32)"
            ]
          },
          "metadata": {},
          "execution_count": 32
        }
      ]
    },
    {
      "cell_type": "markdown",
      "metadata": {
        "id": "tdo4qkEioQGe"
      },
      "source": [
        "Visualized:"
      ]
    },
    {
      "cell_type": "code",
      "metadata": {
        "colab": {
          "base_uri": "https://localhost:8080/",
          "height": 640
        },
        "id": "YuE-9EExoS1m",
        "outputId": "25e60d93-964b-4f85-af70-e3a668a270bc"
      },
      "source": [
        "fig, axs= plt.subplots(2,4, figsize=[15,10])\n",
        "\n",
        "random_pos = []\n",
        "count = 0\n",
        "\n",
        "\n",
        "for i in range(8):\n",
        "  random.seed()\n",
        "  random_pos.append(random.randint(1, len(test_image)))\n",
        "\n",
        "\n",
        "for i in range(2):    \n",
        "    for j in range(4):  \n",
        "        \n",
        "        image = cv2.imread(test_image[random_pos[count]])\n",
        "      \n",
        "        img = cv2.resize(image, (135, 135))\n",
        "        img = np.array(img)\n",
        "        img = np.expand_dims(img, axis=0)\n",
        "        img = img.astype('float32')\n",
        "        img /= 255\n",
        "        \n",
        "        pred = model.predict(img)\n",
        "        result = np.argsort(pred)\n",
        "        result = result[0][::-1]\n",
        "        \n",
        "        final_label = label_encoder.inverse_transform(np.array(result))\n",
        "        axs[i][j].imshow(image)\n",
        "        axs[i][j].set_title(str(\"Prediction: \" + final_label[0]), fontsize = 14)  \n",
        "        axs[i][j].set_xlabel(\"Real label: \"+ test_label[random_pos[count]], fontsize = 14)      \n",
        "        \n",
        "        count += 1\n",
        "        \n",
        "plt.suptitle(\"All predictions are shown in title and their real labels in the bottom\", fontsize = 18)        \n",
        "plt.show()"
      ],
      "execution_count": null,
      "outputs": [
        {
          "output_type": "display_data",
          "data": {
            "image/png": "[encoded data removed]",
            "text/plain": [
              "<Figure size 1080x720 with 8 Axes>"
            ]
          },
          "metadata": {
            "needs_background": "light"
          }
        }
      ]
    },
    {
      "cell_type": "markdown",
      "source": [
        "What's left is to try and test it on simple math equations. Let's import one.\n",
        "All the data was manually made by me. I merged multiple images from \"eval\" file and then uploaded it here for testing."
      ],
      "metadata": {
        "id": "RB1AVUvlhR8M"
      }
    },
    {
      "cell_type": "code",
      "source": [
        "os.mkdir(\"test_data\")"
      ],
      "metadata": {
        "id": "FTAL8ws0Qc2B"
      },
      "execution_count": null,
      "outputs": []
    },
    {
      "cell_type": "code",
      "source": [
        "proba = cv2.imread('../content/test_data/test0.jpg')\n",
        "plt.imshow(proba)\n",
        "#print(proba.shape)"
      ],
      "metadata": {
        "colab": {
          "base_uri": "https://localhost:8080/",
          "height": 174
        },
        "id": "ugnuMXPHMqwq",
        "outputId": "7b26061d-45a9-4999-85d5-993071e1fc6a"
      },
      "execution_count": null,
      "outputs": [
        {
          "output_type": "execute_result",
          "data": {
            "text/plain": [
              "<matplotlib.image.AxesImage at 0x7f643a2b5c50>"
            ]
          },
          "metadata": {},
          "execution_count": 195
        },
        {
          "output_type": "display_data",
          "data": {
            "image/png": "[encoded data removed]",
            "text/plain": [
              "<Figure size 432x288 with 1 Axes>"
            ]
          },
          "metadata": {
            "needs_background": "light"
          }
        }
      ]
    },
    {
      "cell_type": "markdown",
      "source": [
        "Since we can not send this whole image to our model, we need to split it, and send to model every character we find.\n",
        "\n",
        "To use already implemented functions such as *threshold*, we have to alter the data a little (scaling, changing color from RGB to gray etc). After that, we can use threshold.Thresholding is a technique which assigns pixel values in relation to the threshold value provided. In thresholding, each pixel value is compared with the threshold value. If the pixel value is smaller than the threshold, it is set to 0, otherwise, it is set to a maximum value (generally 255).\n",
        "\n",
        "Next, we find contours, and make rectangles around them. Because it can happen that for the same figure we get two rectangles, we do a simple check to eliminate the unnecessary ones.\n",
        "\n",
        "At the end of the coding cell below, we cut original uploaded image by rectangle we got from above explained process. To minimize changing the cropped image's characteristics (in most cases we need to make it bigger so it would be good input for out model) we create a numpy array that contains all values equal to 255 and in the \"middle\" of it we store values from cropped image. I added the other cases as well, if one of the height and width, or both, are bigger than 135."
      ],
      "metadata": {
        "id": "EgPFz2CPheXz"
      }
    },
    {
      "cell_type": "code",
      "source": [
        "if proba is not None:\n",
        "  proba_original=proba\n",
        "  proba=~proba\n",
        "  proba=cv2.convertScaleAbs(proba)\n",
        "  proba = cv2.cvtColor(proba, cv2.COLOR_RGB2GRAY)\n",
        "  \n",
        "\n",
        "  niz=[]\n",
        "  _,threshold=cv2.threshold(proba,127,255, cv2.THRESH_BINARY) \n",
        "  \n",
        "  \n",
        "  ctrs, _=cv2.findContours(threshold, cv2.RETR_TREE,cv2.CHAIN_APPROX_SIMPLE)\n",
        "  cnt=sorted(ctrs, key=lambda ctr:cv2.boundingRect(ctr)[0])\n",
        "  \n",
        "  w=int(28)\n",
        "  h=int(28)\n",
        "  train_data=[]\n",
        "  rects=[]\n",
        "  for c in cnt:\n",
        "    x,y,w,h = cv2.boundingRect(c)\n",
        "    rect=[x,y,w,h]\n",
        "    rects.append(rect)\n",
        "  #print(\"rects\",rects)\n",
        "  bool_rect=[]\n",
        "  for r in rects:\n",
        "    l=[]\n",
        "    for rec in rects:\n",
        "      flag=0\n",
        "      if rec !=r:\n",
        "        if r[0]<(rec[0]+rec[2]+10) and rec[0]<(r[0]+r[2]+10) and r[1]<(rec[1]+rec[3]+10) and rec[1]<(r[1]+r[3]+10):\n",
        "          flag=1\n",
        "        l.append(flag)\n",
        "      if rec==r:\n",
        "        l.append(0)\n",
        "    bool_rect.append(l)\n",
        "  #print(\"bools\",bool_rect)\n",
        "  dump_rect=[]\n",
        "  for i in range(0,len(cnt)):\n",
        "    for j in range(0,len(cnt)):\n",
        "      if bool_rect[i][j] ==1:\n",
        "        area1=rects[i][2]*rects[i][3]\n",
        "        area2=rects[j][2]*rects[j][3]\n",
        "        if(area1==min(area1,area2)):\n",
        "          dump_rect.append(rects[i])\n",
        "  #print(\"dump\", dump_rect)\n",
        "  final_rects=[i for i in rects if i not in dump_rect]\n",
        "  #print(\"final\", final_rects)\n",
        "  coord_arrays=[]\n",
        "  for r in final_rects:\n",
        "    x=r[0]\n",
        "    y=r[1]\n",
        "    w=r[2]\n",
        "    h=r[3]\n",
        "    proba_crop=proba_original[y:y+h+10, x:x+h+10]\n",
        "\n",
        "    coord_array=[]\n",
        "    for i in range(proba_crop.shape[0]):\n",
        "      for j in range(proba_crop.shape[1]):\n",
        "        bool_var = False\n",
        "        for k in range(3):\n",
        "          if proba_crop[i,j][k]!=255:\n",
        "            bool_var=True\n",
        "        if(bool_var==True):\n",
        "          coord_array.append((i,j))\n",
        "        #print(proba_crop[i,j])\n",
        "    coord_arrays.append(coord_array)\n",
        "\n",
        "    #print(proba_crop.shape)\n",
        "    #niz_notreshaped.append(proba_crop)\n",
        "    #plt.imshow(proba_crop)\n",
        "    #print(proba_crop.shape)\n",
        "    #plt.imshow(proba_crop)\n",
        "    \n",
        "    #print(proba_crop)\n",
        "    \n",
        "    if(proba_crop.shape[0] > 135 and proba_crop.shape[1]> 135):\n",
        "      proba_resize = cv2.resize(proba_crop,(135,135))\n",
        "    elif (proba_crop.shape[0] > 135 and proba_crop.shape[1]< 135):\n",
        "      proba_resize_temp = cv2.resize(proba_crop,(135,proba_crop.shape[1]))\n",
        "      proba_resize= np.full((135,135,3), 255)\n",
        "      proba_resize[0:135,\n",
        "               int((135-proba_crop.shape[1])/2):int((135-proba_crop.shape[1])/2)+proba_crop.shape[1]]= proba_crop\n",
        "    elif (proba_crop.shape[0] < 135 and proba_crop.shape[1]> 135):\n",
        "      proba_resize_temp = cv2.resize(proba_crop,(proba_crop.shape[0],135))\n",
        "      proba_resize= np.full((135,135,3), 255)\n",
        "      proba_resize[int((135-proba_crop.shape[0])/2):int((135-proba_crop.shape[0])/2)+proba_crop.shape[0],0:135]= proba_crop\n",
        "    else:\n",
        "      proba_resize= np.full((135,135,3), 255)\n",
        "      proba_resize[int((135-proba_crop.shape[0])/2):int((135-proba_crop.shape[0])/2)+proba_crop.shape[0],\n",
        "               int((135-proba_crop.shape[1])/2):int((135-proba_crop.shape[1])/2)+proba_crop.shape[1]]= proba_crop\n",
        "    niz.append(proba_resize) \n",
        "    \n",
        "    \n",
        "    #plt.imshow(proba_resize)\n",
        "    #print(proba_resize.shape)\n",
        "    #niz.append(proba_resize)"
      ],
      "metadata": {
        "id": "UHMps4hzPPa1"
      },
      "execution_count": null,
      "outputs": []
    },
    {
      "cell_type": "markdown",
      "source": [
        "Down here we print coordinates of a figure, but in original size of a cropped image. Ofcourse, by changing the size (resizing/adding white pixels around image) we change the coordinates."
      ],
      "metadata": {
        "id": "_I-pEfWvlpqi"
      }
    },
    {
      "cell_type": "code",
      "source": [
        "for i in range(len(coord_arrays)):\n",
        "  print(\"Coordinates of figure \",i+1,\"are: \", coord_arrays[i])"
      ],
      "metadata": {
        "colab": {
          "base_uri": "https://localhost:8080/"
        },
        "id": "toQ9M4ivjcf-",
        "outputId": "6f8ba932-2ad8-4953-88fb-49557ab442da"
      },
      "execution_count": null,
      "outputs": [
        {
          "output_type": "stream",
          "name": "stdout",
          "text": [
            "Coordinates of figure  1 are:  [(0, 1), (0, 2), (0, 7), (0, 8), (0, 9), (0, 10), (0, 11), (0, 12), (0, 13), (0, 14), (0, 15), (0, 16), (0, 17), (0, 18), (0, 19), (0, 20), (0, 21), (0, 22), (0, 23), (0, 24), (0, 25), (0, 26), (0, 27), (0, 28), (0, 29), (0, 30), (0, 31), (0, 32), (0, 33), (0, 37), (0, 38), (0, 40), (0, 41), (0, 44), (0, 45), (0, 47), (0, 48), (0, 49), (0, 51), (1, 1), (1, 3), (1, 4), (1, 5), (1, 6), (1, 7), (1, 8), (1, 9), (1, 10), (1, 11), (1, 12), (1, 13), (1, 14), (1, 15), (1, 16), (1, 17), (1, 18), (1, 19), (1, 20), (1, 21), (1, 22), (1, 23), (1, 24), (1, 25), (1, 26), (1, 27), (1, 28), (1, 29), (1, 30), (1, 31), (1, 32), (1, 33), (1, 34), (1, 35), (1, 36), (1, 37), (1, 38), (1, 39), (1, 40), (1, 41), (1, 42), (1, 44), (1, 45), (1, 47), (1, 49), (1, 50), (1, 52), (2, 2), (2, 4), (2, 5), (2, 6), (2, 7), (2, 8), (2, 9), (2, 10), (2, 11), (2, 12), (2, 13), (2, 14), (2, 15), (2, 16), (2, 17), (2, 18), (2, 19), (2, 20), (2, 21), (2, 22), (2, 23), (2, 24), (2, 25), (2, 26), (2, 27), (2, 28), (2, 29), (2, 30), (2, 31), (2, 32), (2, 33), (2, 34), (2, 35), (2, 36), (2, 37), (2, 38), (2, 39), (2, 40), (2, 41), (2, 42), (2, 43), (2, 44), (2, 45), (2, 46), (2, 47), (2, 49), (2, 50), (2, 52), (3, 1), (3, 2), (3, 3), (3, 4), (3, 5), (3, 6), (3, 7), (3, 8), (3, 9), (3, 10), (3, 11), (3, 12), (3, 13), (3, 14), (3, 15), (3, 16), (3, 17), (3, 18), (3, 19), (3, 20), (3, 21), (3, 22), (3, 23), (3, 24), (3, 25), (3, 26), (3, 27), (3, 28), (3, 29), (3, 30), (3, 31), (3, 32), (3, 33), (3, 34), (3, 35), (3, 36), (3, 37), (3, 38), (3, 39), (3, 40), (3, 41), (3, 42), (3, 43), (3, 44), (3, 45), (3, 46), (3, 47), (3, 48), (3, 49), (3, 51), (4, 0), (4, 3), (4, 4), (4, 5), (4, 6), (4, 7), (4, 8), (4, 9), (4, 10), (4, 11), (4, 12), (4, 13), (4, 14), (4, 15), (4, 16), (4, 17), (4, 18), (4, 19), (4, 20), (4, 21), (4, 22), (4, 23), (4, 24), (4, 25), (4, 26), (4, 27), (4, 28), (4, 29), (4, 30), (4, 31), (4, 32), (4, 33), (4, 34), (4, 35), (4, 36), (4, 37), (4, 38), (4, 39), (4, 40), (4, 41), (4, 42), (4, 43), (4, 44), (4, 45), (4, 46), (4, 47), (4, 48), (4, 50), (4, 51), (5, 1), (5, 2), (5, 3), (5, 4), (5, 5), (5, 6), (5, 7), (5, 8), (5, 9), (5, 10), (5, 11), (5, 12), (5, 13), (5, 14), (5, 15), (5, 16), (5, 17), (5, 18), (5, 19), (5, 20), (5, 21), (5, 22), (5, 23), (5, 24), (5, 25), (5, 26), (5, 27), (5, 28), (5, 29), (5, 30), (5, 31), (5, 32), (5, 33), (5, 34), (5, 35), (5, 36), (5, 37), (5, 38), (5, 39), (5, 40), (5, 41), (5, 42), (5, 43), (5, 44), (5, 45), (5, 46), (5, 47), (5, 48), (5, 49), (5, 52), (6, 1), (6, 2), (6, 3), (6, 4), (6, 5), (6, 6), (6, 7), (6, 8), (6, 9), (6, 10), (6, 11), (6, 12), (6, 13), (6, 14), (6, 15), (6, 16), (6, 17), (6, 18), (6, 19), (6, 20), (6, 21), (6, 22), (6, 23), (6, 24), (6, 25), (6, 26), (6, 27), (6, 28), (6, 29), (6, 30), (6, 31), (6, 32), (6, 33), (6, 34), (6, 35), (6, 36), (6, 37), (6, 38), (6, 39), (6, 40), (6, 41), (6, 42), (6, 43), (6, 44), (6, 45), (6, 46), (6, 47), (6, 48), (6, 49), (6, 50), (6, 51), (7, 0), (7, 2), (7, 3), (7, 4), (7, 5), (7, 6), (7, 7), (7, 8), (7, 9), (7, 10), (7, 11), (7, 12), (7, 13), (7, 14), (7, 15), (7, 16), (7, 17), (7, 18), (7, 19), (7, 20), (7, 21), (7, 22), (7, 23), (7, 24), (7, 25), (7, 26), (7, 27), (7, 28), (7, 29), (7, 30), (7, 31), (7, 32), (7, 33), (7, 34), (7, 35), (7, 36), (7, 37), (7, 38), (7, 39), (7, 40), (7, 41), (7, 42), (7, 43), (7, 44), (7, 45), (7, 46), (7, 47), (7, 48), (7, 50), (7, 52), (8, 0), (8, 2), (8, 3), (8, 4), (8, 5), (8, 6), (8, 7), (8, 8), (8, 9), (8, 10), (8, 11), (8, 12), (8, 13), (8, 14), (8, 15), (8, 16), (8, 17), (8, 18), (8, 19), (8, 20), (8, 21), (8, 22), (8, 23), (8, 24), (8, 25), (8, 26), (8, 27), (8, 28), (8, 29), (8, 30), (8, 31), (8, 32), (8, 33), (8, 34), (8, 35), (8, 36), (8, 37), (8, 38), (8, 39), (8, 40), (8, 41), (8, 42), (8, 43), (8, 44), (8, 45), (8, 46), (8, 47), (8, 48), (8, 51), (8, 53), (8, 54), (8, 55), (9, 1), (9, 2), (9, 3), (9, 4), (9, 5), (9, 6), (9, 7), (9, 8), (9, 9), (9, 10), (9, 12), (9, 30), (9, 31), (9, 32), (9, 33), (9, 34), (9, 35), (9, 36), (9, 37), (9, 38), (9, 39), (9, 40), (9, 41), (9, 42), (9, 43), (9, 44), (9, 45), (9, 46), (9, 47), (9, 48), (9, 49), (9, 52), (9, 53), (9, 54), (9, 55), (10, 1), (10, 2), (10, 3), (10, 4), (10, 5), (10, 6), (10, 7), (10, 8), (10, 9), (10, 10), (10, 11), (10, 12), (10, 13), (10, 14), (10, 15), (10, 16), (10, 17), (10, 18), (10, 19), (10, 20), (10, 21), (10, 22), (10, 23), (10, 24), (10, 25), (10, 26), (10, 27), (10, 28), (10, 29), (10, 30), (10, 32), (10, 33), (10, 34), (10, 35), (10, 36), (10, 37), (10, 38), (10, 39), (10, 40), (10, 41), (10, 42), (10, 43), (10, 44), (10, 45), (10, 46), (10, 47), (10, 48), (10, 49), (10, 50), (10, 52), (10, 53), (10, 54), (10, 55), (11, 0), (11, 1), (11, 2), (11, 3), (11, 4), (11, 5), (11, 6), (11, 7), (11, 8), (11, 9), (11, 10), (11, 11), (11, 31), (11, 33), (11, 34), (11, 35), (11, 36), (11, 37), (11, 38), (11, 39), (11, 40), (11, 41), (11, 42), (11, 43), (11, 44), (11, 45), (11, 46), (11, 47), (11, 48), (11, 49), (11, 50), (11, 53), (11, 54), (11, 55), (12, 0), (12, 1), (12, 2), (12, 3), (12, 4), (12, 5), (12, 6), (12, 7), (12, 8), (12, 9), (12, 10), (12, 12), (12, 13), (12, 14), (12, 15), (12, 16), (12, 17), (12, 18), (12, 19), (12, 20), (12, 21), (12, 22), (12, 23), (12, 24), (12, 25), (12, 26), (12, 27), (12, 28), (12, 30), (12, 34), (12, 35), (12, 36), (12, 37), (12, 38), (12, 39), (12, 40), (12, 41), (12, 42), (12, 43), (12, 44), (12, 45), (12, 46), (12, 47), (12, 48), (12, 49), (12, 52), (12, 53), (12, 54), (12, 55), (13, 0), (13, 1), (13, 2), (13, 3), (13, 4), (13, 5), (13, 6), (13, 7), (13, 8), (13, 9), (13, 10), (13, 11), (13, 24), (13, 25), (13, 29), (13, 31), (13, 32), (13, 35), (13, 36), (13, 37), (13, 38), (13, 39), (13, 40), (13, 41), (13, 42), (13, 43), (13, 44), (13, 45), (13, 46), (13, 47), (13, 48), (13, 49), (13, 51), (13, 53), (13, 54), (13, 55), (14, 0), (14, 1), (14, 2), (14, 3), (14, 4), (14, 5), (14, 6), (14, 7), (14, 8), (14, 9), (14, 10), (14, 13), (14, 14), (14, 15), (14, 16), (14, 17), (14, 18), (14, 19), (14, 20), (14, 22), (14, 23), (14, 24), (14, 25), (14, 26), (14, 27), (14, 28), (14, 33), (14, 35), (14, 38), (14, 40), (14, 41), (14, 42), (14, 43), (14, 44), (14, 45), (14, 46), (14, 47), (14, 48), (14, 49), (14, 50), (14, 53), (14, 54), (14, 55), (15, 0), (15, 1), (15, 2), (15, 3), (15, 4), (15, 5), (15, 6), (15, 7), (15, 8), (15, 9), (15, 11), (15, 13), (15, 14), (15, 15), (15, 19), (15, 20), (15, 23), (15, 24), (15, 25), (15, 26), (15, 27), (15, 30), (15, 31), (15, 32), (15, 34), (15, 36), (15, 37), (15, 39), (15, 41), (15, 42), (15, 43), (15, 44), (15, 45), (15, 46), (15, 47), (15, 48), (15, 49), (15, 52), (15, 53), (15, 54), (15, 55), (16, 0), (16, 1), (16, 2), (16, 3), (16, 4), (16, 5), (16, 6), (16, 7), (16, 8), (16, 12), (16, 13), (16, 14), (16, 17), (16, 18), (16, 19), (16, 22), (16, 23), (16, 25), (16, 26), (16, 28), (16, 30), (16, 31), (16, 33), (16, 35), (16, 37), (16, 39), (16, 41), (16, 42), (16, 43), (16, 44), (16, 45), (16, 46), (16, 47), (16, 48), (16, 49), (16, 51), (17, 0), (17, 1), (17, 2), (17, 3), (17, 4), (17, 5), (17, 6), (17, 7), (17, 8), (17, 9), (17, 11), (17, 12), (17, 15), (17, 16), (17, 17), (17, 19), (17, 20), (17, 21), (17, 23), (17, 24), (17, 26), (17, 27), (17, 28), (17, 29), (17, 32), (17, 34), (17, 35), (17, 38), (17, 39), (17, 40), (17, 41), (17, 42), (17, 43), (17, 44), (17, 45), (17, 46), (17, 47), (17, 48), (17, 49), (17, 52), (18, 0), (18, 1), (18, 2), (18, 3), (18, 4), (18, 5), (18, 6), (18, 7), (18, 8), (18, 9), (18, 10), (18, 11), (18, 13), (18, 15), (18, 19), (18, 21), (18, 22), (18, 25), (18, 26), (18, 30), (18, 31), (18, 32), (18, 33), (18, 35), (18, 37), (18, 38), (18, 39), (18, 40), (18, 41), (18, 42), (18, 43), (18, 44), (18, 45), (18, 46), (18, 47), (18, 48), (18, 49), (18, 50), (18, 51), (19, 0), (19, 1), (19, 2), (19, 3), (19, 4), (19, 5), (19, 6), (19, 7), (19, 8), (19, 9), (19, 10), (19, 11), (19, 12), (19, 14), (19, 15), (19, 17), (19, 18), (19, 20), (19, 21), (19, 24), (19, 25), (19, 28), (19, 30), (19, 31), (19, 34), (19, 35), (19, 36), (19, 37), (19, 38), (19, 39), (19, 40), (19, 41), (19, 42), (19, 43), (19, 44), (19, 45), (19, 46), (19, 47), (19, 48), (19, 49), (19, 52), (20, 0), (20, 1), (20, 2), (20, 3), (20, 4), (20, 5), (20, 6), (20, 7), (20, 8), (20, 9), (20, 10), (20, 11), (20, 12), (20, 13), (20, 14), (20, 15), (20, 16), (20, 19), (20, 20), (20, 21), (20, 23), (20, 26), (20, 27), (20, 29), (20, 30), (20, 32), (20, 33), (20, 34), (20, 35), (20, 36), (20, 37), (20, 38), (20, 39), (20, 40), (20, 41), (20, 42), (20, 43), (20, 44), (20, 45), (20, 46), (20, 47), (20, 48), (20, 49), (20, 51), (21, 0), (21, 1), (21, 2), (21, 3), (21, 4), (21, 5), (21, 6), (21, 7), (21, 8), (21, 9), (21, 10), (21, 11), (21, 12), (21, 13), (21, 14), (21, 15), (21, 16), (21, 17), (21, 19), (21, 22), (21, 23), (21, 25), (21, 28), (21, 30), (21, 31), (21, 32), (21, 33), (21, 34), (21, 35), (21, 36), (21, 37), (21, 38), (21, 39), (21, 40), (21, 41), (21, 42), (21, 43), (21, 44), (21, 45), (21, 46), (21, 47), (21, 48), (21, 49), (21, 50), (21, 52), (22, 0), (22, 1), (22, 2), (22, 3), (22, 4), (22, 5), (22, 6), (22, 7), (22, 8), (22, 9), (22, 10), (22, 11), (22, 12), (22, 13), (22, 14), (22, 15), (22, 16), (22, 17), (22, 20), (22, 22), (22, 24), (22, 26), (22, 27), (22, 28), (22, 29), (22, 30), (22, 31), (22, 32), (22, 33), (22, 34), (22, 35), (22, 36), (22, 37), (22, 38), (22, 39), (22, 40), (22, 41), (22, 42), (22, 43), (22, 44), (22, 45), (22, 46), (22, 47), (22, 48), (22, 49), (22, 50), (22, 52), (23, 2), (23, 3), (23, 4), (23, 5), (23, 6), (23, 7), (23, 8), (23, 9), (23, 10), (23, 11), (23, 12), (23, 13), (23, 14), (23, 15), (23, 16), (23, 17), (23, 18), (23, 19), (23, 21), (23, 22), (23, 24), (23, 25), (23, 26), (23, 27), (23, 28), (23, 29), (23, 30), (23, 31), (23, 32), (23, 33), (23, 34), (23, 35), (23, 36), (23, 37), (23, 38), (23, 39), (23, 40), (23, 41), (23, 42), (23, 43), (23, 44), (23, 45), (23, 46), (23, 47), (23, 48), (23, 49), (23, 51), (24, 0), (24, 3), (24, 4), (24, 5), (24, 6), (24, 7), (24, 8), (24, 9), (24, 10), (24, 11), (24, 12), (24, 13), (24, 14), (24, 15), (24, 16), (24, 17), (24, 18), (24, 19), (24, 20), (24, 21), (24, 22), (24, 23), (24, 24), (24, 25), (24, 26), (24, 27), (24, 28), (24, 29), (24, 30), (24, 31), (24, 32), (24, 33), (24, 34), (24, 35), (24, 36), (24, 37), (24, 38), (24, 39), (24, 40), (24, 41), (24, 42), (24, 43), (24, 44), (24, 45), (24, 46), (24, 47), (24, 49), (24, 52), (24, 53), (24, 54), (25, 1), (25, 2), (25, 4), (25, 5), (25, 6), (25, 7), (25, 8), (25, 9), (25, 10), (25, 11), (25, 12), (25, 13), (25, 14), (25, 15), (25, 16), (25, 17), (25, 18), (25, 19), (25, 20), (25, 21), (25, 22), (25, 23), (25, 24), (25, 25), (25, 26), (25, 27), (25, 28), (25, 29), (25, 30), (25, 31), (25, 32), (25, 33), (25, 34), (25, 35), (25, 36), (25, 37), (25, 38), (25, 39), (25, 40), (25, 41), (25, 42), (25, 43), (25, 44), (25, 45), (25, 46), (25, 48), (25, 51), (25, 53), (25, 54), (26, 0), (26, 2), (26, 5), (26, 6), (26, 7), (26, 8), (26, 9), (26, 10), (26, 11), (26, 12), (26, 13), (26, 14), (26, 15), (26, 16), (26, 17), (26, 18), (26, 19), (26, 20), (26, 21), (26, 22), (26, 23), (26, 24), (26, 25), (26, 26), (26, 27), (26, 28), (26, 29), (26, 30), (26, 31), (26, 32), (26, 33), (26, 34), (26, 35), (26, 36), (26, 37), (26, 38), (26, 39), (26, 40), (26, 41), (26, 42), (26, 43), (26, 44), (26, 46), (26, 47), (26, 49), (26, 50), (26, 52), (26, 53), (26, 54), (27, 0), (27, 3), (27, 4), (27, 5), (27, 6), (27, 7), (27, 8), (27, 9), (27, 10), (27, 11), (27, 12), (27, 13), (27, 14), (27, 15), (27, 16), (27, 17), (27, 18), (27, 19), (27, 20), (27, 21), (27, 22), (27, 23), (27, 24), (27, 25), (27, 26), (27, 27), (27, 28), (27, 29), (27, 30), (27, 31), (27, 32), (27, 33), (27, 34), (27, 35), (27, 36), (27, 37), (27, 38), (27, 39), (27, 40), (27, 42), (27, 43), (27, 44), (27, 45), (27, 47), (27, 50), (27, 53), (27, 54), (28, 1), (28, 2), (28, 3), (28, 6), (28, 8), (28, 9), (28, 10), (28, 11), (28, 12), (28, 13), (28, 14), (28, 15), (28, 16), (28, 17), (28, 18), (28, 19), (28, 20), (28, 21), (28, 22), (28, 23), (28, 24), (28, 25), (28, 26), (28, 27), (28, 28), (28, 29), (28, 30), (28, 31), (28, 32), (28, 33), (28, 34), (28, 35), (28, 36), (28, 37), (28, 38), (28, 39), (28, 40), (28, 41), (28, 43), (28, 45), (28, 49), (28, 50), (28, 52), (28, 53), (28, 54), (29, 1), (29, 3), (29, 4), (29, 5), (29, 10), (29, 11), (29, 12), (29, 13), (29, 14), (29, 15), (29, 16), (29, 17), (29, 18), (29, 19), (29, 20), (29, 21), (29, 22), (29, 23), (29, 24), (29, 25), (29, 26), (29, 27), (29, 28), (29, 29), (29, 30), (29, 31), (29, 32), (29, 33), (29, 34), (29, 35), (29, 36), (29, 37), (29, 38), (29, 40), (29, 41), (29, 43), (29, 44), (29, 46), (29, 47), (29, 48), (29, 51), (29, 53), (29, 54), (30, 0), (30, 1), (30, 5), (30, 7), (30, 8), (30, 9), (30, 10), (30, 11), (30, 12), (30, 13), (30, 14), (30, 15), (30, 16), (30, 17), (30, 18), (30, 19), (30, 20), (30, 21), (30, 22), (30, 23), (30, 24), (30, 25), (30, 26), (30, 27), (30, 28), (30, 29), (30, 30), (30, 31), (30, 32), (30, 33), (30, 34), (30, 35), (30, 36), (30, 37), (30, 38), (30, 39), (30, 41), (30, 42), (30, 45), (30, 46), (30, 47), (30, 48), (30, 50), (30, 51), (30, 53), (30, 54), (31, 2), (31, 3), (31, 6), (31, 8), (31, 9), (31, 10), (31, 11), (31, 12), (31, 13), (31, 14), (31, 15), (31, 16), (31, 17), (31, 18), (31, 19), (31, 20), (31, 21), (31, 22), (31, 23), (31, 24), (31, 25), (31, 26), (31, 27), (31, 28), (31, 29), (31, 30), (31, 31), (31, 32), (31, 33), (31, 34), (31, 35), (31, 36), (31, 37), (31, 38), (31, 39), (31, 40), (31, 43), (31, 44), (31, 47), (31, 50), (31, 52), (31, 53), (31, 54), (32, 0), (32, 2), (32, 4), (32, 5), (32, 7), (32, 8), (32, 9), (32, 10), (32, 11), (32, 12), (32, 13), (32, 14), (32, 15), (32, 16), (32, 17), (32, 18), (32, 19), (32, 20), (32, 21), (32, 22), (32, 23), (32, 24), (32, 25), (32, 26), (32, 27), (32, 28), (32, 29), (32, 30), (32, 31), (32, 32), (32, 33), (32, 34), (32, 35), (32, 36), (32, 37), (32, 38), (32, 39), (32, 40), (32, 42), (32, 43), (32, 44), (32, 49), (32, 50), (32, 51), (33, 0), (33, 2), (33, 3), (33, 5), (33, 6), (33, 7), (33, 8), (33, 9), (33, 10), (33, 11), (33, 12), (33, 13), (33, 14), (33, 15), (33, 16), (33, 17), (33, 18), (33, 19), (33, 20), (33, 21), (33, 22), (33, 23), (33, 24), (33, 25), (33, 26), (33, 27), (33, 28), (33, 29), (33, 30), (33, 31), (33, 32), (33, 33), (33, 34), (33, 35), (33, 36), (33, 37), (33, 38), (33, 39), (33, 40), (33, 41), (33, 44), (33, 45), (33, 46), (33, 47), (33, 52), (34, 1), (34, 3), (34, 4), (34, 5), (34, 6), (34, 7), (34, 8), (34, 9), (34, 10), (34, 11), (34, 12), (34, 13), (34, 14), (34, 15), (34, 16), (34, 17), (34, 18), (34, 19), (34, 20), (34, 22), (34, 25), (34, 26), (34, 27), (34, 28), (34, 29), (34, 30), (34, 31), (34, 32), (34, 33), (34, 34), (34, 35), (34, 36), (34, 37), (34, 38), (34, 39), (34, 40), (34, 41), (34, 42), (34, 44), (34, 46), (34, 49), (34, 52), (35, 1), (35, 3), (35, 4), (35, 5), (35, 6), (35, 7), (35, 8), (35, 9), (35, 10), (35, 11), (35, 12), (35, 13), (35, 14), (35, 15), (35, 16), (35, 17), (35, 18), (35, 19), (35, 21), (35, 22), (35, 23), (35, 27), (35, 28), (35, 29), (35, 30), (35, 31), (35, 32), (35, 33), (35, 34), (35, 35), (35, 36), (35, 37), (35, 38), (35, 39), (35, 40), (35, 41), (35, 42), (35, 43), (35, 44), (35, 46), (35, 49), (35, 50), (36, 0), (36, 1), (36, 2), (36, 3), (36, 4), (36, 5), (36, 6), (36, 7), (36, 8), (36, 9), (36, 10), (36, 11), (36, 12), (36, 13), (36, 14), (36, 15), (36, 16), (36, 17), (36, 18), (36, 20), (36, 21), (36, 22), (36, 24), (36, 27), (36, 30), (36, 31), (36, 32), (36, 33), (36, 34), (36, 35), (36, 36), (36, 37), (36, 38), (36, 39), (36, 40), (36, 41), (36, 42), (36, 43), (36, 44), (36, 45), (36, 46), (36, 47), (36, 50), (36, 52), (37, 1), (37, 2), (37, 3), (37, 4), (37, 5), (37, 6), (37, 7), (37, 8), (37, 9), (37, 10), (37, 11), (37, 12), (37, 13), (37, 14), (37, 15), (37, 16), (37, 20), (37, 23), (37, 25), (37, 26), (37, 27), (37, 28), (37, 29), (37, 31), (37, 32), (37, 33), (37, 34), (37, 35), (37, 36), (37, 37), (37, 38), (37, 39), (37, 40), (37, 41), (37, 42), (37, 43), (37, 44), (37, 47), (37, 48), (37, 51), (37, 52), (38, 1), (38, 2), (38, 3), (38, 4), (38, 5), (38, 6), (38, 7), (38, 8), (38, 9), (38, 10), (38, 11), (38, 12), (38, 13), (38, 14), (38, 16), (38, 17), (38, 19), (38, 20), (38, 21), (38, 22), (38, 23), (38, 26), (38, 28), (38, 29), (38, 31), (38, 33), (38, 34), (38, 35), (38, 36), (38, 37), (38, 38), (38, 39), (38, 40), (38, 41), (38, 42), (38, 43), (38, 44), (38, 45), (38, 48), (38, 51), (39, 0), (39, 1), (39, 2), (39, 3), (39, 4), (39, 5), (39, 6), (39, 7), (39, 8), (39, 9), (39, 10), (39, 11), (39, 12), (39, 13), (39, 15), (39, 16), (39, 18), (39, 21), (39, 23), (39, 24), (39, 25), (39, 26), (39, 27), (39, 30), (39, 32), (39, 34), (39, 35), (39, 36), (39, 37), (39, 38), (39, 39), (39, 40), (39, 41), (39, 42), (39, 43), (39, 44), (39, 45), (39, 46), (39, 48), (39, 51), (40, 0), (40, 1), (40, 2), (40, 3), (40, 4), (40, 5), (40, 6), (40, 7), (40, 8), (40, 9), (40, 10), (40, 11), (40, 12), (40, 29), (40, 31), (40, 33), (40, 34), (40, 35), (40, 36), (40, 37), (40, 38), (40, 39), (40, 40), (40, 41), (40, 42), (40, 43), (40, 44), (40, 45), (40, 46), (40, 47), (40, 50), (40, 51), (40, 53), (40, 54), (41, 0), (41, 1), (41, 2), (41, 3), (41, 4), (41, 5), (41, 6), (41, 7), (41, 8), (41, 9), (41, 10), (41, 12), (41, 31), (41, 32), (41, 35), (41, 36), (41, 37), (41, 38), (41, 39), (41, 40), (41, 41), (41, 42), (41, 43), (41, 44), (41, 45), (41, 46), (41, 48), (41, 49), (41, 52), (41, 53), (41, 54), (42, 0), (42, 1), (42, 2), (42, 3), (42, 4), (42, 5), (42, 6), (42, 7), (42, 8), (42, 9), (42, 10), (42, 11), (42, 29), (42, 30), (42, 31), (42, 32), (42, 33), (42, 34), (42, 35), (42, 36), (42, 37), (42, 38), (42, 39), (42, 40), (42, 41), (42, 42), (42, 43), (42, 44), (42, 45), (42, 46), (42, 47), (42, 49), (42, 51), (42, 52), (42, 53), (42, 54), (43, 0), (43, 1), (43, 2), (43, 3), (43, 4), (43, 5), (43, 6), (43, 7), (43, 8), (43, 12), (43, 30), (43, 32), (43, 34), (43, 36), (43, 37), (43, 38), (43, 39), (43, 40), (43, 41), (43, 42), (43, 43), (43, 44), (43, 45), (43, 46), (43, 47), (43, 48), (43, 49), (43, 50), (43, 52), (43, 53), (43, 54), (44, 0), (44, 1), (44, 2), (44, 3), (44, 4), (44, 5), (44, 6), (44, 7), (44, 8), (44, 9), (44, 10), (44, 11), (44, 29), (44, 30), (44, 31), (44, 32), (44, 33), (44, 34), (44, 37), (44, 38), (44, 39), (44, 40), (44, 41), (44, 42), (44, 43), (44, 44), (44, 45), (44, 46), (44, 47), (44, 48), (44, 53), (44, 54), (45, 0), (45, 1), (45, 2), (45, 3), (45, 4), (45, 5), (45, 6), (45, 7), (45, 8), (45, 10), (45, 11), (45, 35), (45, 36), (45, 37), (45, 38), (45, 39), (45, 40), (45, 41), (45, 42), (45, 43), (45, 44), (45, 45), (45, 46), (45, 47), (45, 48), (45, 49), (45, 50), (45, 51), (45, 52), (45, 53), (45, 54), (46, 0), (46, 1), (46, 2), (46, 3), (46, 4), (46, 5), (46, 6), (46, 7), (46, 8), (46, 9), (46, 11), (46, 12), (46, 30), (46, 31), (46, 32), (46, 33), (46, 34), (46, 38), (46, 39), (46, 40), (46, 41), (46, 42), (46, 43), (46, 44), (46, 45), (46, 46), (46, 47), (46, 48), (46, 49), (46, 51), (46, 53), (46, 54), (47, 0), (47, 1), (47, 2), (47, 3), (47, 4), (47, 5), (47, 6), (47, 7), (47, 8), (47, 10), (47, 12), (47, 30), (47, 33), (47, 34), (47, 36), (47, 38), (47, 39), (47, 40), (47, 41), (47, 42), (47, 43), (47, 44), (47, 45), (47, 46), (47, 47), (47, 48), (47, 49), (47, 50), (47, 52), (47, 53), (47, 54), (48, 0), (48, 1), (48, 2), (48, 3), (48, 4), (48, 5), (48, 6), (48, 7), (48, 8), (48, 10), (48, 12), (48, 40), (48, 41), (48, 42), (48, 43), (48, 44), (48, 45), (48, 46), (48, 47), (48, 48), (48, 49), (48, 51), (48, 52), (48, 53), (48, 54), (49, 0), (49, 1), (49, 2), (49, 3), (49, 4), (49, 5), (49, 6), (49, 7), (49, 8), (49, 10), (49, 12), (49, 38), (49, 41), (49, 42), (49, 43), (49, 44), (49, 45), (49, 46), (49, 47), (49, 48), (49, 49), (49, 50), (49, 51), (49, 53), (49, 54), (50, 0), (50, 1), (50, 2), (50, 3), (50, 4), (50, 5), (50, 6), (50, 7), (50, 8), (50, 10), (50, 12), (50, 38), (50, 39), (50, 40), (50, 41), (50, 42), (50, 43), (50, 44), (50, 45), (50, 46), (50, 47), (50, 48), (50, 49), (50, 50), (50, 52), (50, 53), (50, 54), (51, 0), (51, 1), (51, 2), (51, 3), (51, 4), (51, 5), (51, 6), (51, 7), (51, 8), (51, 10), (51, 12), (51, 37), (51, 38), (51, 41), (51, 42), (51, 43), (51, 44), (51, 45), (51, 46), (51, 47), (51, 48), (51, 49), (51, 50), (51, 51), (51, 53), (51, 54), (52, 0), (52, 1), (52, 2), (52, 3), (52, 4), (52, 5), (52, 6), (52, 7), (52, 8), (52, 10), (52, 12), (52, 37), (52, 39), (52, 40), (52, 41), (52, 42), (52, 43), (52, 44), (52, 45), (52, 46), (52, 47), (52, 48), (52, 49), (52, 50), (52, 51), (52, 53), (52, 54), (53, 0), (53, 1), (53, 2), (53, 3), (53, 4), (53, 5), (53, 6), (53, 7), (53, 8), (53, 10), (53, 12), (53, 38), (53, 40), (53, 41), (53, 42), (53, 43), (53, 44), (53, 45), (53, 46), (53, 47), (53, 48), (53, 49), (53, 50), (53, 51), (53, 52), (53, 53), (53, 54), (54, 0), (54, 1), (54, 2), (54, 3), (54, 4), (54, 5), (54, 6), (54, 7), (54, 8), (54, 10), (54, 12), (54, 39), (54, 40), (54, 41), (54, 42), (54, 43), (54, 44), (54, 45), (54, 46), (54, 47), (54, 48), (54, 49), (54, 50), (54, 51), (54, 52), (54, 53), (54, 54), (55, 0), (55, 1), (55, 2), (55, 3), (55, 4), (55, 5), (55, 6), (55, 7), (55, 8), (55, 10), (55, 12), (55, 38), (55, 41), (55, 42), (55, 43), (55, 44), (55, 45), (55, 46), (55, 47), (55, 48), (55, 49), (55, 50), (55, 52), (55, 53), (55, 54), (56, 0), (56, 1), (56, 2), (56, 3), (56, 4), (56, 5), (56, 6), (56, 7), (56, 8), (56, 11), (56, 13), (56, 14), (56, 30), (56, 31), (56, 33), (56, 34), (56, 37), (56, 39), (56, 40), (56, 42), (56, 43), (56, 44), (56, 45), (56, 46), (56, 47), (56, 48), (56, 49), (56, 50), (56, 51), (56, 52), (56, 53), (56, 54), (57, 0), (57, 1), (57, 2), (57, 3), (57, 4), (57, 5), (57, 6), (57, 7), (57, 8), (57, 9), (57, 11), (57, 12), (57, 13), (57, 14), (57, 29), (57, 32), (57, 34), (57, 35), (57, 37), (57, 41), (57, 42), (57, 43), (57, 44), (57, 45), (57, 46), (57, 47), (57, 48), (57, 49), (57, 50), (57, 52), (57, 53), (57, 54), (58, 0), (58, 1), (58, 2), (58, 3), (58, 4), (58, 5), (58, 6), (58, 7), (58, 8), (58, 9), (58, 10), (58, 13), (58, 14), (58, 29), (58, 31), (58, 32), (58, 36), (58, 38), (58, 41), (58, 42), (58, 43), (58, 44), (58, 45), (58, 46), (58, 47), (58, 48), (58, 49), (58, 50), (58, 53), (58, 54), (59, 0), (59, 1), (59, 2), (59, 3), (59, 4), (59, 5), (59, 6), (59, 7), (59, 8), (59, 9), (59, 12), (59, 13), (59, 14), (59, 33), (59, 34), (59, 37), (59, 39), (59, 40), (59, 41), (59, 42), (59, 43), (59, 44), (59, 45), (59, 46), (59, 47), (59, 48), (59, 49), (59, 50), (59, 53), (59, 54), (60, 0), (60, 1), (60, 2), (60, 3), (60, 4), (60, 5), (60, 6), (60, 7), (60, 8), (60, 9), (60, 10), (60, 11), (60, 12), (60, 13), (60, 14), (60, 30), (60, 32), (60, 35), (60, 38), (60, 39), (60, 40), (60, 41), (60, 42), (60, 43), (60, 44), (60, 45), (60, 46), (60, 47), (60, 48), (60, 49), (60, 50), (60, 52), (60, 53), (60, 54), (61, 0), (61, 1), (61, 2), (61, 3), (61, 4), (61, 5), (61, 6), (61, 7), (61, 8), (61, 9), (61, 10), (61, 13), (61, 14), (61, 30), (61, 31), (61, 32), (61, 34), (61, 36), (61, 37), (61, 38), (61, 39), (61, 40), (61, 41), (61, 42), (61, 43), (61, 44), (61, 45), (61, 46), (61, 47), (61, 48), (61, 49), (61, 50), (61, 52), (61, 53), (61, 54), (62, 1), (62, 2), (62, 3), (62, 4), (62, 5), (62, 6), (62, 7), (62, 8), (62, 9), (62, 10), (62, 12), (62, 13), (62, 14), (62, 29), (62, 34), (62, 35), (62, 36), (62, 37), (62, 38), (62, 39), (62, 40), (62, 41), (62, 42), (62, 43), (62, 44), (62, 45), (62, 46), (62, 47), (62, 48), (62, 49), (62, 50), (62, 51), (62, 53), (62, 54), (63, 1), (63, 2), (63, 3), (63, 4), (63, 5), (63, 6), (63, 7), (63, 8), (63, 9), (63, 10), (63, 11), (63, 13), (63, 14), (63, 30), (63, 32), (63, 33), (63, 34), (63, 35), (63, 36), (63, 37), (63, 38), (63, 39), (63, 40), (63, 41), (63, 42), (63, 43), (63, 44), (63, 45), (63, 46), (63, 47), (63, 48), (63, 49), (63, 50), (63, 52), (63, 53), (63, 54), (64, 0), (64, 1), (64, 2), (64, 3), (64, 4), (64, 5), (64, 6), (64, 7), (64, 8), (64, 9), (64, 10), (64, 11), (64, 12), (64, 13), (64, 14), (64, 22), (64, 25), (64, 26), (64, 27), (64, 28), (64, 30), (64, 31), (64, 32), (64, 33), (64, 34), (64, 35), (64, 36), (64, 37), (64, 38), (64, 39), (64, 40), (64, 41), (64, 42), (64, 43), (64, 44), (64, 45), (64, 46), (64, 47), (64, 48), (64, 49), (64, 50), (64, 53), (64, 54), (65, 1), (65, 2), (65, 3), (65, 4), (65, 5), (65, 6), (65, 7), (65, 8), (65, 9), (65, 10), (65, 11), (65, 21), (65, 24), (65, 25), (65, 26), (65, 27), (65, 28), (65, 29), (65, 30), (65, 31), (65, 32), (65, 33), (65, 34), (65, 35), (65, 36), (65, 37), (65, 38), (65, 39), (65, 40), (65, 41), (65, 42), (65, 43), (65, 44), (65, 45), (65, 46), (65, 47), (65, 48), (65, 50), (65, 51), (65, 52), (65, 53), (65, 54), (66, 0), (66, 1), (66, 2), (66, 3), (66, 4), (66, 5), (66, 6), (66, 7), (66, 8), (66, 9), (66, 10), (66, 11), (66, 12), (66, 13), (66, 14), (66, 15), (66, 16), (66, 17), (66, 18), (66, 19), (66, 20), (66, 21), (66, 22), (66, 23), (66, 24), (66, 25), (66, 26), (66, 27), (66, 28), (66, 29), (66, 30), (66, 31), (66, 32), (66, 33), (66, 34), (66, 35), (66, 36), (66, 37), (66, 38), (66, 39), (66, 40), (66, 41), (66, 42), (66, 43), (66, 44), (66, 45), (66, 46), (66, 47), (66, 48), (66, 49), (66, 51), (66, 53), (66, 54), (67, 1), (67, 2), (67, 3), (67, 4), (67, 5), (67, 6), (67, 7), (67, 8), (67, 9), (67, 10), (67, 11), (67, 12), (67, 13), (67, 14), (67, 15), (67, 16), (67, 17), (67, 18), (67, 19), (67, 20), (67, 21), (67, 22), (67, 23), (67, 24), (67, 25), (67, 26), (67, 27), (67, 28), (67, 29), (67, 30), (67, 31), (67, 32), (67, 33), (67, 34), (67, 35), (67, 36), (67, 37), (67, 38), (67, 39), (67, 40), (67, 41), (67, 42), (67, 43), (67, 44), (67, 45), (67, 46), (67, 48), (67, 49), (67, 51), (67, 52), (67, 53), (67, 54), (68, 0), (68, 2), (68, 3), (68, 4), (68, 5), (68, 6), (68, 7), (68, 8), (68, 9), (68, 10), (68, 11), (68, 12), (68, 13), (68, 14), (68, 15), (68, 16), (68, 17), (68, 18), (68, 19), (68, 20), (68, 21), (68, 22), (68, 23), (68, 24), (68, 25), (68, 26), (68, 27), (68, 28), (68, 29), (68, 30), (68, 31), (68, 32), (68, 33), (68, 34), (68, 35), (68, 36), (68, 37), (68, 38), (68, 39), (68, 40), (68, 41), (68, 42), (68, 43), (68, 44), (68, 45), (68, 47), (68, 48), (68, 50), (68, 51), (68, 53), (68, 54), (69, 0), (69, 1), (69, 2), (69, 3), (69, 4), (69, 5), (69, 6), (69, 7), (69, 8), (69, 9), (69, 10), (69, 11), (69, 12), (69, 13), (69, 14), (69, 15), (69, 16), (69, 17), (69, 18), (69, 19), (69, 20), (69, 21), (69, 22), (69, 23), (69, 24), (69, 25), (69, 26), (69, 27), (69, 28), (69, 29), (69, 30), (69, 31), (69, 32), (69, 33), (69, 34), (69, 35), (69, 36), (69, 37), (69, 38), (69, 39), (69, 40), (69, 41), (69, 42), (69, 43), (69, 45), (69, 46), (69, 50), (69, 52), (69, 53), (69, 54), (70, 0), (70, 2), (70, 3), (70, 4), (70, 5), (70, 6), (70, 7), (70, 8), (70, 9), (70, 10), (70, 11), (70, 12), (70, 13), (70, 14), (70, 15), (70, 16), (70, 17), (70, 18), (70, 19), (70, 20), (70, 21), (70, 22), (70, 23), (70, 24), (70, 25), (70, 26), (70, 27), (70, 28), (70, 29), (70, 30), (70, 31), (70, 32), (70, 33), (70, 34), (70, 35), (70, 36), (70, 37), (70, 38), (70, 39), (70, 40), (70, 41), (70, 42), (70, 44), (70, 46), (70, 50), (70, 51), (70, 53), (70, 54), (71, 1), (71, 4), (71, 5), (71, 6), (71, 7), (71, 8), (71, 9), (71, 10), (71, 11), (71, 12), (71, 13), (71, 14), (71, 15), (71, 16), (71, 17), (71, 18), (71, 19), (71, 20), (71, 21), (71, 22), (71, 23), (71, 24), (71, 25), (71, 26), (71, 27), (71, 28), (71, 29), (71, 30), (71, 31), (71, 32), (71, 33), (71, 34), (71, 35), (71, 36), (71, 37), (71, 38), (71, 41), (71, 42), (71, 43), (71, 45), (71, 48), (71, 49), (71, 51), (71, 53), (71, 54), (72, 1), (72, 2), (72, 3), (72, 5), (72, 6), (72, 7), (72, 8), (72, 9), (72, 10), (72, 11), (72, 12), (72, 13), (72, 14), (72, 15), (72, 16), (72, 17), (72, 18), (72, 19), (72, 20), (72, 21), (72, 22), (72, 23), (72, 24), (72, 25), (72, 26), (72, 27), (72, 28), (72, 29), (72, 30), (72, 31), (72, 32), (72, 33), (72, 34), (72, 35), (72, 36), (72, 37), (72, 38), (72, 40), (72, 43), (73, 2), (73, 3), (73, 4), (73, 6), (73, 7), (73, 8), (73, 9), (73, 10), (73, 11), (73, 12), (73, 13), (73, 14), (73, 15), (73, 16), (73, 17), (73, 18), (73, 19), (73, 20), (73, 21), (73, 22), (73, 23), (73, 24), (73, 25), (73, 26), (73, 27), (73, 28), (73, 29), (73, 30), (73, 31), (73, 32), (73, 35), (73, 36), (73, 37), (73, 40), (73, 43), (74, 0), (74, 3), (74, 4), (74, 7), (74, 8), (74, 9), (74, 10), (74, 11), (74, 12), (74, 13), (74, 14), (74, 15), (74, 16), (74, 17), (74, 18), (74, 19), (74, 20), (74, 21), (74, 22), (74, 23), (74, 24), (74, 25), (74, 26), (74, 27), (74, 28), (74, 30), (74, 32), (74, 33), (74, 35), (74, 39), (74, 40), (74, 43), (75, 0), (75, 3), (75, 4), (75, 6), (75, 8), (75, 10), (75, 11), (75, 13), (75, 14), (75, 15), (75, 16), (75, 17), (75, 18), (75, 19), (75, 20), (75, 22), (75, 23), (75, 24), (75, 26), (75, 27), (75, 28), (75, 30), (75, 31), (75, 36), (75, 37), (75, 38), (75, 39), (75, 42), (75, 43), (76, 0), (76, 3), (76, 4), (76, 5), (76, 7), (76, 8), (76, 9), (76, 11), (76, 24), (76, 25), (76, 29), (76, 31), (76, 34), (76, 38), (76, 41), (76, 42), (77, 0), (77, 3), (77, 4), (77, 6), (77, 7), (77, 10), (77, 12), (77, 13), (77, 14), (77, 15), (77, 16), (77, 22), (77, 25), (77, 26), (77, 27), (77, 32), (77, 33), (77, 36), (77, 38), (77, 40), (77, 41), (77, 44), (78, 2), (78, 3), (78, 4), (78, 5), (78, 7), (78, 10), (78, 11), (78, 16), (78, 17), (78, 22), (78, 23), (78, 28), (78, 29), (78, 30), (78, 32), (78, 33), (78, 34), (78, 35), (78, 36), (78, 37), (78, 38), (78, 39), (78, 40), (78, 44), (79, 1), (79, 2), (79, 3), (79, 5), (79, 8), (79, 9), (79, 12), (79, 17), (79, 22), (79, 24), (79, 25), (79, 27), (79, 30), (79, 31), (79, 32), (79, 37), (79, 41), (79, 42), (79, 43)]\n",
            "Coordinates of figure  2 are:  [(0, 1), (0, 2), (0, 3), (0, 4), (0, 5), (0, 6), (0, 7), (0, 8), (0, 9), (0, 10), (0, 11), (0, 12), (0, 13), (0, 14), (0, 15), (0, 16), (0, 17), (0, 18), (1, 0), (1, 1), (1, 2), (1, 3), (1, 4), (1, 5), (1, 6), (1, 7), (1, 8), (1, 9), (1, 10), (1, 11), (1, 12), (1, 13), (1, 14), (1, 15), (1, 16), (1, 17), (1, 18), (2, 0), (2, 1), (2, 2), (2, 3), (2, 4), (2, 5), (2, 6), (2, 7), (2, 8), (2, 9), (2, 10), (2, 11), (2, 12), (2, 13), (2, 14), (2, 15), (2, 16), (2, 17), (2, 18), (3, 0), (3, 1), (3, 2), (3, 3), (3, 4), (3, 5), (3, 6), (3, 7), (3, 8), (3, 9), (3, 10), (3, 11), (3, 12), (3, 13), (3, 14), (3, 15), (3, 16), (3, 17), (3, 18), (4, 0), (4, 1), (4, 2), (4, 3), (4, 4), (4, 5), (4, 6), (4, 7), (4, 8), (4, 9), (4, 10), (4, 11), (4, 12), (4, 13), (4, 14), (4, 15), (4, 16), (4, 17), (4, 18), (5, 0), (5, 1), (5, 2), (5, 3), (5, 4), (5, 5), (5, 6), (5, 7), (5, 8), (5, 9), (5, 10), (5, 11), (5, 12), (5, 13), (5, 14), (5, 15), (5, 16), (5, 17), (5, 18), (6, 0), (6, 1), (6, 2), (6, 3), (6, 4), (6, 5), (6, 6), (6, 7), (6, 8), (6, 9), (6, 10), (6, 11), (6, 12), (6, 13), (6, 14), (6, 15), (6, 16), (6, 17), (6, 18), (7, 0), (7, 1), (7, 2), (7, 3), (7, 4), (7, 5), (7, 6), (7, 7), (7, 8), (7, 9), (7, 10), (7, 11), (7, 12), (7, 13), (7, 14), (7, 15), (7, 16), (7, 17), (7, 18), (8, 0), (8, 1), (8, 2), (8, 3), (8, 4), (8, 5), (8, 6), (8, 7), (8, 8), (8, 9), (8, 10), (8, 11), (8, 12), (8, 13), (8, 14), (8, 15), (8, 16), (8, 17), (8, 18), (9, 0), (9, 1), (9, 3), (9, 5), (9, 6), (9, 7), (10, 0), (10, 3), (10, 4), (10, 5), (10, 7), (10, 8), (10, 9), (10, 10), (10, 11), (10, 12), (10, 13), (10, 14), (10, 15), (10, 16), (10, 17), (10, 18)]\n",
            "Coordinates of figure  3 are:  [(0, 8), (0, 9), (0, 10), (0, 13), (0, 16), (0, 17), (0, 18), (0, 19), (0, 20), (0, 21), (0, 22), (0, 23), (0, 24), (0, 25), (0, 26), (0, 27), (0, 28), (0, 29), (0, 30), (0, 31), (0, 32), (0, 33), (0, 34), (0, 35), (0, 36), (0, 37), (0, 38), (0, 39), (0, 40), (0, 42), (0, 44), (0, 45), (0, 46), (0, 49), (0, 52), (1, 5), (1, 7), (1, 12), (1, 13), (1, 14), (1, 15), (1, 16), (1, 17), (1, 18), (1, 19), (1, 20), (1, 21), (1, 22), (1, 23), (1, 24), (1, 25), (1, 26), (1, 27), (1, 28), (1, 29), (1, 30), (1, 31), (1, 32), (1, 33), (1, 34), (1, 35), (1, 36), (1, 37), (1, 38), (1, 39), (1, 40), (1, 41), (1, 42), (1, 43), (1, 46), (1, 49), (1, 50), (1, 52), (2, 6), (2, 8), (2, 10), (2, 11), (2, 12), (2, 13), (2, 14), (2, 15), (2, 16), (2, 17), (2, 18), (2, 19), (2, 20), (2, 21), (2, 22), (2, 23), (2, 24), (2, 25), (2, 26), (2, 27), (2, 28), (2, 29), (2, 30), (2, 31), (2, 32), (2, 33), (2, 34), (2, 35), (2, 36), (2, 37), (2, 38), (2, 39), (2, 40), (2, 41), (2, 42), (2, 43), (2, 44), (2, 45), (2, 47), (2, 48), (2, 50), (2, 51), (3, 5), (3, 6), (3, 7), (3, 9), (3, 11), (3, 12), (3, 13), (3, 14), (3, 15), (3, 16), (3, 17), (3, 18), (3, 19), (3, 20), (3, 21), (3, 22), (3, 23), (3, 24), (3, 25), (3, 26), (3, 27), (3, 28), (3, 29), (3, 30), (3, 31), (3, 32), (3, 33), (3, 34), (3, 35), (3, 36), (3, 37), (3, 38), (3, 39), (3, 40), (3, 41), (3, 42), (3, 43), (3, 44), (3, 45), (3, 46), (3, 47), (3, 49), (3, 52), (4, 7), (4, 8), (4, 9), (4, 10), (4, 11), (4, 12), (4, 13), (4, 14), (4, 15), (4, 16), (4, 17), (4, 18), (4, 19), (4, 20), (4, 21), (4, 22), (4, 23), (4, 24), (4, 25), (4, 26), (4, 27), (4, 28), (4, 29), (4, 30), (4, 31), (4, 32), (4, 33), (4, 34), (4, 35), (4, 36), (4, 37), (4, 38), (4, 39), (4, 40), (4, 41), (4, 42), (4, 43), (4, 44), (4, 45), (4, 46), (4, 47), (4, 48), (4, 49), (4, 50), (4, 51), (5, 6), (5, 7), (5, 8), (5, 9), (5, 10), (5, 11), (5, 12), (5, 13), (5, 14), (5, 15), (5, 16), (5, 17), (5, 18), (5, 19), (5, 20), (5, 21), (5, 22), (5, 23), (5, 24), (5, 25), (5, 26), (5, 27), (5, 28), (5, 29), (5, 30), (5, 31), (5, 32), (5, 33), (5, 34), (5, 35), (5, 36), (5, 37), (5, 38), (5, 39), (5, 40), (5, 41), (5, 42), (5, 43), (5, 44), (5, 45), (5, 46), (5, 47), (5, 48), (5, 49), (5, 52), (5, 53), (5, 54), (5, 56), (5, 57), (5, 58), (6, 5), (6, 6), (6, 7), (6, 9), (6, 10), (6, 11), (6, 12), (6, 13), (6, 14), (6, 15), (6, 16), (6, 17), (6, 18), (6, 19), (6, 20), (6, 21), (6, 22), (6, 23), (6, 24), (6, 25), (6, 26), (6, 27), (6, 28), (6, 29), (6, 30), (6, 31), (6, 32), (6, 33), (6, 34), (6, 35), (6, 36), (6, 37), (6, 38), (6, 39), (6, 40), (6, 41), (6, 42), (6, 43), (6, 44), (6, 45), (6, 46), (6, 47), (6, 48), (6, 49), (6, 50), (6, 52), (6, 53), (6, 54), (6, 58), (6, 59), (7, 8), (7, 9), (7, 10), (7, 11), (7, 12), (7, 13), (7, 14), (7, 15), (7, 16), (7, 17), (7, 18), (7, 19), (7, 20), (7, 21), (7, 22), (7, 23), (7, 24), (7, 25), (7, 26), (7, 27), (7, 28), (7, 29), (7, 30), (7, 31), (7, 32), (7, 33), (7, 34), (7, 35), (7, 36), (7, 37), (7, 38), (7, 39), (7, 40), (7, 41), (7, 42), (7, 43), (7, 44), (7, 45), (7, 46), (7, 47), (7, 48), (7, 49), (7, 50), (7, 51), (7, 54), (7, 55), (7, 57), (7, 60), (8, 5), (8, 6), (8, 7), (8, 8), (8, 9), (8, 10), (8, 11), (8, 12), (8, 13), (8, 14), (8, 15), (8, 16), (8, 17), (8, 18), (8, 19), (8, 20), (8, 21), (8, 22), (8, 23), (8, 24), (8, 25), (8, 26), (8, 27), (8, 28), (8, 29), (8, 30), (8, 31), (8, 32), (8, 33), (8, 34), (8, 35), (8, 36), (8, 37), (8, 38), (8, 39), (8, 40), (8, 41), (8, 42), (8, 43), (8, 44), (8, 45), (8, 46), (8, 47), (8, 48), (8, 49), (8, 50), (8, 51), (8, 52), (8, 54), (8, 56), (8, 57), (8, 60), (9, 5), (9, 7), (9, 8), (9, 9), (9, 10), (9, 11), (9, 12), (9, 13), (9, 14), (9, 15), (9, 16), (9, 17), (9, 18), (9, 29), (9, 30), (9, 31), (9, 32), (9, 33), (9, 34), (9, 35), (9, 36), (9, 37), (9, 38), (9, 39), (9, 40), (9, 41), (9, 42), (9, 43), (9, 44), (9, 45), (9, 46), (9, 47), (9, 48), (9, 49), (9, 50), (9, 51), (9, 52), (9, 53), (9, 54), (9, 57), (9, 58), (9, 60), (10, 8), (10, 9), (10, 10), (10, 11), (10, 12), (10, 13), (10, 14), (10, 15), (10, 16), (10, 17), (10, 19), (10, 20), (10, 21), (10, 22), (10, 23), (10, 24), (10, 25), (10, 26), (10, 27), (10, 28), (10, 38), (10, 39), (10, 40), (10, 41), (10, 42), (10, 43), (10, 44), (10, 45), (10, 46), (10, 47), (10, 48), (10, 49), (10, 50), (10, 51), (10, 52), (10, 54), (10, 55), (10, 58), (10, 59), (11, 5), (11, 6), (11, 8), (11, 9), (11, 10), (11, 11), (11, 12), (11, 13), (11, 14), (11, 15), (11, 16), (11, 18), (11, 21), (11, 22), (11, 29), (11, 30), (11, 31), (11, 32), (11, 33), (11, 34), (11, 35), (11, 36), (11, 37), (11, 38), (11, 41), (11, 42), (11, 43), (11, 44), (11, 45), (11, 46), (11, 47), (11, 48), (11, 49), (11, 50), (11, 51), (11, 52), (11, 53), (11, 55), (11, 56), (11, 59), (12, 6), (12, 8), (12, 9), (12, 10), (12, 11), (12, 12), (12, 13), (12, 14), (12, 15), (12, 16), (12, 19), (12, 39), (12, 40), (12, 42), (12, 43), (12, 44), (12, 45), (12, 46), (12, 47), (12, 48), (12, 49), (12, 50), (12, 51), (12, 52), (12, 53), (12, 54), (12, 56), (12, 57), (12, 59), (13, 1), (13, 2), (13, 3), (13, 4), (13, 5), (13, 6), (13, 7), (13, 8), (13, 9), (13, 10), (13, 11), (13, 12), (13, 13), (13, 14), (13, 15), (13, 16), (13, 17), (13, 20), (13, 21), (13, 22), (13, 23), (13, 39), (13, 40), (13, 42), (13, 43), (13, 44), (13, 45), (13, 46), (13, 47), (13, 48), (13, 49), (13, 50), (13, 51), (13, 52), (13, 53), (13, 54), (13, 56), (13, 57), (13, 58), (13, 59), (13, 60), (13, 61), (13, 62), (14, 1), (14, 2), (14, 3), (14, 4), (14, 5), (14, 6), (14, 7), (14, 8), (14, 9), (14, 10), (14, 11), (14, 12), (14, 13), (14, 14), (14, 15), (14, 16), (14, 17), (14, 18), (14, 19), (14, 20), (14, 21), (14, 22), (14, 23), (14, 37), (14, 42), (14, 43), (14, 44), (14, 45), (14, 46), (14, 47), (14, 48), (14, 49), (14, 50), (14, 51), (14, 52), (14, 53), (14, 54), (14, 55), (14, 56), (14, 59), (14, 61), (14, 62), (15, 1), (15, 2), (15, 3), (15, 4), (15, 5), (15, 6), (15, 7), (15, 8), (15, 9), (15, 10), (15, 11), (15, 12), (15, 13), (15, 14), (15, 15), (15, 16), (15, 17), (15, 18), (15, 20), (15, 21), (15, 22), (15, 23), (15, 40), (15, 42), (15, 44), (15, 45), (15, 46), (15, 47), (15, 48), (15, 49), (15, 50), (15, 51), (15, 52), (15, 53), (15, 54), (15, 55), (15, 58), (15, 59), (15, 60), (15, 61), (15, 62), (16, 1), (16, 2), (16, 3), (16, 4), (16, 5), (16, 6), (16, 7), (16, 8), (16, 9), (16, 10), (16, 11), (16, 12), (16, 13), (16, 14), (16, 15), (16, 16), (16, 17), (16, 19), (16, 21), (16, 22), (16, 23), (16, 37), (16, 38), (16, 40), (16, 43), (16, 44), (16, 45), (16, 46), (16, 47), (16, 48), (16, 49), (16, 50), (16, 51), (16, 52), (16, 53), (16, 54), (16, 55), (16, 56), (16, 58), (16, 61), (16, 62), (17, 1), (17, 2), (17, 3), (17, 4), (17, 5), (17, 6), (17, 7), (17, 8), (17, 9), (17, 10), (17, 11), (17, 12), (17, 13), (17, 14), (17, 15), (17, 19), (17, 21), (17, 22), (17, 23), (17, 37), (17, 38), (17, 40), (17, 41), (17, 44), (17, 46), (17, 47), (17, 48), (17, 49), (17, 50), (17, 51), (17, 52), (17, 53), (17, 54), (17, 55), (17, 56), (17, 58), (17, 59), (17, 60), (17, 61), (17, 62), (18, 1), (18, 2), (18, 3), (18, 4), (18, 6), (18, 7), (18, 8), (18, 9), (18, 10), (18, 11), (18, 12), (18, 13), (18, 14), (18, 16), (18, 17), (18, 21), (18, 22), (18, 23), (18, 38), (18, 41), (18, 42), (18, 43), (18, 44), (18, 45), (18, 46), (18, 47), (18, 48), (18, 49), (18, 50), (18, 51), (18, 52), (18, 53), (18, 54), (18, 55), (18, 56), (18, 57), (18, 58), (18, 60), (18, 61), (18, 62), (19, 1), (19, 2), (19, 3), (19, 4), (19, 5), (19, 6), (19, 7), (19, 8), (19, 9), (19, 10), (19, 11), (19, 12), (19, 13), (19, 14), (19, 15), (19, 16), (19, 18), (19, 20), (19, 21), (19, 22), (19, 23), (19, 38), (19, 39), (19, 41), (19, 47), (19, 48), (19, 49), (19, 50), (19, 51), (19, 52), (19, 53), (19, 54), (19, 55), (19, 56), (19, 57), (19, 58), (19, 59), (19, 61), (19, 62), (20, 1), (20, 2), (20, 3), (20, 4), (20, 5), (20, 6), (20, 7), (20, 8), (20, 9), (20, 10), (20, 11), (20, 12), (20, 13), (20, 14), (20, 17), (20, 19), (20, 21), (20, 22), (20, 23), (20, 40), (20, 41), (20, 43), (20, 44), (20, 45), (20, 47), (20, 48), (20, 49), (20, 50), (20, 51), (20, 52), (20, 53), (20, 54), (20, 55), (20, 56), (20, 57), (20, 58), (20, 60), (20, 61), (20, 62), (21, 1), (21, 3), (21, 4), (21, 5), (21, 6), (21, 7), (21, 8), (21, 9), (21, 10), (21, 11), (21, 12), (21, 13), (21, 14), (21, 17), (21, 18), (21, 19), (21, 47), (21, 48), (21, 49), (21, 50), (21, 51), (21, 52), (21, 53), (21, 54), (21, 55), (21, 56), (21, 57), (21, 59), (21, 61), (21, 62), (21, 63), (22, 0), (22, 2), (22, 3), (22, 4), (22, 5), (22, 6), (22, 7), (22, 8), (22, 9), (22, 10), (22, 11), (22, 12), (22, 13), (22, 14), (22, 19), (22, 46), (22, 48), (22, 49), (22, 50), (22, 51), (22, 52), (22, 53), (22, 54), (22, 55), (22, 56), (22, 57), (22, 58), (22, 60), (22, 61), (22, 62), (22, 63), (23, 0), (23, 3), (23, 4), (23, 5), (23, 6), (23, 7), (23, 8), (23, 9), (23, 10), (23, 11), (23, 12), (23, 13), (23, 17), (23, 19), (23, 46), (23, 47), (23, 49), (23, 50), (23, 51), (23, 52), (23, 53), (23, 54), (23, 55), (23, 56), (23, 57), (23, 61), (23, 62), (23, 63), (24, 1), (24, 2), (24, 3), (24, 4), (24, 5), (24, 6), (24, 7), (24, 8), (24, 9), (24, 10), (24, 11), (24, 12), (24, 13), (24, 14), (24, 17), (24, 46), (24, 48), (24, 49), (24, 50), (24, 51), (24, 52), (24, 53), (24, 54), (24, 55), (24, 56), (24, 57), (24, 58), (24, 59), (24, 61), (24, 62), (24, 63), (25, 1), (25, 2), (25, 3), (25, 4), (25, 5), (25, 6), (25, 7), (25, 8), (25, 9), (25, 10), (25, 11), (25, 12), (25, 15), (25, 16), (25, 20), (25, 45), (25, 47), (25, 48), (25, 49), (25, 50), (25, 51), (25, 52), (25, 53), (25, 54), (25, 55), (25, 56), (25, 58), (25, 60), (25, 61), (25, 62), (25, 63), (26, 0), (26, 3), (26, 4), (26, 5), (26, 6), (26, 7), (26, 8), (26, 9), (26, 10), (26, 11), (26, 12), (26, 13), (26, 15), (26, 18), (26, 20), (26, 46), (26, 47), (26, 50), (26, 51), (26, 52), (26, 53), (26, 54), (26, 55), (26, 56), (26, 57), (26, 59), (26, 61), (26, 62), (26, 63), (27, 0), (27, 1), (27, 2), (27, 3), (27, 4), (27, 5), (27, 6), (27, 7), (27, 8), (27, 9), (27, 10), (27, 11), (27, 13), (27, 14), (27, 15), (27, 18), (27, 19), (27, 46), (27, 48), (27, 49), (27, 50), (27, 52), (27, 54), (27, 55), (27, 57), (27, 58), (27, 59), (27, 60), (27, 61), (27, 62), (27, 63), (28, 1), (28, 2), (28, 3), (28, 4), (28, 5), (28, 6), (28, 7), (28, 8), (28, 9), (28, 10), (28, 11), (28, 12), (28, 16), (28, 17), (28, 19), (28, 45), (28, 48), (28, 50), (28, 51), (28, 53), (28, 56), (28, 59), (28, 61), (28, 62), (28, 63), (29, 0), (29, 2), (29, 3), (29, 4), (29, 5), (29, 6), (29, 7), (29, 8), (29, 9), (29, 10), (29, 11), (29, 13), (29, 14), (30, 0), (30, 1), (30, 2), (30, 3), (30, 4), (30, 5), (30, 6), (30, 7), (30, 8), (30, 9), (30, 10), (30, 13), (30, 14), (31, 0), (31, 1), (31, 2), (31, 3), (31, 4), (31, 5), (31, 6), (31, 7), (31, 8), (31, 9), (31, 10), (31, 11), (31, 12), (31, 13), (31, 14), (32, 0), (32, 1), (32, 2), (32, 3), (32, 4), (32, 5), (32, 6), (32, 7), (32, 8), (32, 9), (32, 10), (32, 11), (32, 13), (32, 14), (33, 1), (33, 2), (33, 3), (33, 4), (33, 5), (33, 6), (33, 7), (33, 8), (33, 9), (33, 10), (33, 11), (33, 12), (33, 13), (33, 14), (34, 0), (34, 1), (34, 2), (34, 3), (34, 4), (34, 5), (34, 6), (34, 7), (34, 8), (34, 9), (34, 10), (34, 13), (34, 14), (35, 0), (35, 1), (35, 2), (35, 3), (35, 4), (35, 5), (35, 6), (35, 7), (35, 8), (35, 9), (35, 12), (35, 13), (35, 14), (36, 0), (36, 1), (36, 2), (36, 3), (36, 4), (36, 5), (36, 6), (36, 7), (36, 8), (36, 9), (36, 10), (36, 13), (36, 14), (37, 0), (37, 1), (37, 2), (37, 3), (37, 4), (37, 5), (37, 6), (37, 7), (37, 8), (37, 9), (37, 11), (37, 12), (37, 13), (37, 14), (38, 0), (38, 1), (38, 2), (38, 3), (38, 4), (38, 5), (38, 6), (38, 7), (38, 8), (38, 9), (38, 10), (38, 11), (38, 13), (38, 14), (39, 0), (39, 1), (39, 2), (39, 3), (39, 4), (39, 5), (39, 6), (39, 7), (39, 8), (39, 9), (39, 13), (39, 14), (40, 0), (40, 1), (40, 2), (40, 3), (40, 4), (40, 5), (40, 6), (40, 7), (40, 8), (40, 10), (40, 11), (40, 13), (40, 14), (41, 0), (41, 1), (41, 2), (41, 3), (41, 4), (41, 5), (41, 6), (41, 7), (41, 8), (41, 9), (41, 13), (41, 14), (42, 0), (42, 1), (42, 2), (42, 3), (42, 4), (42, 5), (42, 6), (42, 7), (42, 8), (42, 10), (42, 11), (42, 12), (42, 13), (42, 14), (43, 0), (43, 1), (43, 2), (43, 3), (43, 4), (43, 5), (43, 6), (43, 7), (43, 8), (43, 9), (43, 11), (43, 12), (43, 13), (43, 14), (44, 0), (44, 1), (44, 2), (44, 3), (44, 4), (44, 5), (44, 6), (44, 7), (44, 8), (44, 9), (44, 11), (44, 13), (44, 14), (45, 0), (45, 1), (45, 2), (45, 3), (45, 4), (45, 5), (45, 6), (45, 7), (45, 8), (45, 10), (45, 12), (46, 0), (46, 1), (46, 2), (46, 3), (46, 4), (46, 5), (46, 6), (46, 7), (46, 8), (46, 10), (46, 12), (47, 0), (47, 1), (47, 2), (47, 3), (47, 4), (47, 5), (47, 6), (47, 7), (47, 8), (47, 10), (47, 12), (48, 0), (48, 1), (48, 2), (48, 3), (48, 4), (48, 5), (48, 6), (48, 7), (48, 8), (48, 10), (48, 12), (49, 0), (49, 1), (49, 2), (49, 3), (49, 4), (49, 5), (49, 6), (49, 7), (49, 8), (49, 10), (49, 12), (50, 0), (50, 1), (50, 2), (50, 3), (50, 4), (50, 5), (50, 6), (50, 7), (50, 8), (50, 10), (50, 12), (51, 0), (51, 1), (51, 2), (51, 3), (51, 4), (51, 5), (51, 6), (51, 7), (51, 8), (51, 10), (51, 12), (52, 0), (52, 1), (52, 2), (52, 3), (52, 4), (52, 5), (52, 6), (52, 7), (52, 8), (52, 10), (52, 12), (53, 0), (53, 1), (53, 2), (53, 3), (53, 4), (53, 5), (53, 6), (53, 7), (53, 8), (53, 10), (54, 0), (54, 1), (54, 2), (54, 3), (54, 4), (54, 5), (54, 6), (54, 7), (54, 8), (54, 9), (54, 10), (54, 12), (55, 0), (55, 1), (55, 2), (55, 3), (55, 4), (55, 5), (55, 6), (55, 7), (55, 8), (55, 9), (55, 12), (56, 0), (56, 1), (56, 2), (56, 3), (56, 4), (56, 5), (56, 6), (56, 7), (56, 8), (56, 11), (57, 0), (57, 1), (57, 2), (57, 3), (57, 4), (57, 5), (57, 6), (57, 7), (57, 8), (57, 9), (58, 0), (58, 1), (58, 2), (58, 3), (58, 4), (58, 5), (58, 6), (58, 7), (58, 8), (58, 9), (58, 10), (58, 11), (58, 12), (59, 0), (59, 1), (59, 2), (59, 3), (59, 4), (59, 5), (59, 6), (59, 7), (59, 8), (59, 9), (59, 12), (60, 0), (60, 1), (60, 2), (60, 3), (60, 4), (60, 5), (60, 6), (60, 7), (60, 8), (60, 9), (60, 10), (60, 11), (61, 0), (61, 1), (61, 2), (61, 3), (61, 4), (61, 5), (61, 6), (61, 7), (61, 8), (61, 9), (61, 10), (61, 12), (61, 18), (61, 19), (61, 31), (61, 33), (61, 34), (61, 37), (61, 38), (61, 40), (61, 41), (61, 43), (61, 44), (61, 45), (61, 46), (61, 47), (61, 48), (61, 53), (61, 54), (61, 55), (61, 56), (61, 57), (61, 58), (61, 59), (61, 60), (61, 62), (61, 63), (61, 65), (61, 66), (61, 68), (61, 69), (61, 72), (61, 74), (61, 76), (61, 85), (61, 86), (62, 0), (62, 1), (62, 2), (62, 3), (62, 4), (62, 5), (62, 6), (62, 7), (62, 8), (62, 9), (62, 10), (62, 11), (62, 13), (62, 14), (62, 15), (62, 19), (62, 20), (62, 29), (62, 31), (62, 36), (62, 38), (62, 39), (62, 41), (62, 44), (62, 61), (62, 62), (62, 68), (62, 70), (62, 71), (62, 74), (62, 75), (62, 85), (62, 86), (63, 1), (63, 2), (63, 3), (63, 4), (63, 5), (63, 6), (63, 7), (63, 8), (63, 9), (63, 10), (63, 11), (63, 12), (63, 16), (63, 17), (63, 20), (63, 29), (63, 31), (63, 32), (63, 34), (63, 37), (63, 39), (63, 42), (63, 43), (63, 44), (63, 45), (63, 46), (63, 47), (63, 48), (63, 49), (63, 50), (63, 51), (63, 52), (63, 53), (63, 54), (63, 55), (63, 56), (63, 57), (63, 58), (63, 59), (63, 60), (63, 62), (63, 64), (63, 66), (63, 67), (63, 68), (63, 69), (63, 70), (63, 72), (63, 73), (63, 75), (63, 85), (63, 86), (64, 1), (64, 2), (64, 3), (64, 4), (64, 5), (64, 6), (64, 7), (64, 8), (64, 9), (64, 10), (64, 11), (64, 12), (64, 14), (64, 17), (64, 18), (64, 29), (64, 31), (64, 32), (64, 34), (64, 37), (64, 38), (64, 40), (64, 41), (64, 42), (64, 43), (64, 44), (64, 45), (64, 46), (64, 47), (64, 48), (64, 49), (64, 50), (64, 51), (64, 52), (64, 53), (64, 54), (64, 55), (64, 56), (64, 57), (64, 58), (64, 59), (64, 60), (64, 61), (64, 62), (64, 63), (64, 64), (64, 65), (64, 71), (64, 73), (64, 76), (64, 85), (64, 86), (65, 1), (65, 2), (65, 3), (65, 4), (65, 5), (65, 6), (65, 7), (65, 8), (65, 9), (65, 10), (65, 11), (65, 12), (65, 13), (65, 14), (65, 15), (65, 18), (65, 19), (65, 31), (65, 32), (65, 34), (65, 35), (65, 36), (65, 37), (65, 39), (65, 40), (65, 41), (65, 42), (65, 43), (65, 44), (65, 45), (65, 46), (65, 47), (65, 48), (65, 49), (65, 50), (65, 51), (65, 52), (65, 53), (65, 54), (65, 55), (65, 56), (65, 57), (65, 58), (65, 59), (65, 60), (65, 61), (65, 62), (65, 63), (65, 64), (65, 65), (65, 66), (65, 68), (65, 69), (65, 70), (65, 72), (65, 74), (65, 75), (65, 85), (65, 86), (66, 0), (66, 1), (66, 2), (66, 3), (66, 4), (66, 5), (66, 6), (66, 7), (66, 8), (66, 9), (66, 10), (66, 11), (66, 12), (66, 15), (66, 16), (66, 19), (66, 29), (66, 31), (66, 33), (66, 34), (66, 37), (66, 38), (66, 39), (66, 40), (66, 41), (66, 42), (66, 43), (66, 44), (66, 45), (66, 46), (66, 47), (66, 48), (66, 49), (66, 50), (66, 51), (66, 52), (66, 53), (66, 54), (66, 55), (66, 56), (66, 57), (66, 58), (66, 59), (66, 60), (66, 61), (66, 62), (66, 63), (66, 64), (66, 65), (66, 66), (66, 67), (66, 68), (66, 74), (66, 85), (66, 86), (67, 0), (67, 3), (67, 4), (67, 5), (67, 6), (67, 7), (67, 8), (67, 9), (67, 10), (67, 11), (67, 12), (67, 13), (67, 16), (67, 19), (67, 29), (67, 33), (67, 34), (67, 36), (67, 37), (67, 38), (67, 39), (67, 40), (67, 41), (67, 42), (67, 43), (67, 44), (67, 45), (67, 46), (67, 47), (67, 48), (67, 49), (67, 50), (67, 51), (67, 52), (67, 53), (67, 54), (67, 55), (67, 56), (67, 57), (67, 58), (67, 59), (67, 60), (67, 61), (67, 62), (67, 63), (67, 64), (67, 65), (67, 66), (67, 67), (67, 68), (67, 69), (67, 70), (67, 71), (67, 72), (67, 73), (67, 76), (67, 85), (67, 86), (68, 1), (68, 2), (68, 3), (68, 4), (68, 5), (68, 6), (68, 7), (68, 8), (68, 9), (68, 10), (68, 11), (68, 12), (68, 13), (68, 14), (68, 16), (68, 19), (68, 30), (68, 31), (68, 33), (68, 35), (68, 36), (68, 37), (68, 38), (68, 39), (68, 40), (68, 41), (68, 42), (68, 43), (68, 44), (68, 45), (68, 46), (68, 47), (68, 48), (68, 49), (68, 50), (68, 51), (68, 52), (68, 53), (68, 54), (68, 55), (68, 56), (68, 57), (68, 58), (68, 59), (68, 60), (68, 61), (68, 62), (68, 63), (68, 64), (68, 65), (68, 66), (68, 67), (68, 68), (68, 69), (68, 70), (68, 71), (68, 75), (68, 76), (68, 85), (68, 86), (69, 1), (69, 2), (69, 3), (69, 4), (69, 5), (69, 6), (69, 7), (69, 8), (69, 9), (69, 10), (69, 11), (69, 12), (69, 13), (69, 14), (69, 15), (69, 16), (69, 19), (69, 21), (69, 24), (69, 26), (69, 27), (69, 30), (69, 32), (69, 33), (69, 34), (69, 36), (69, 37), (69, 38), (69, 39), (69, 40), (69, 41), (69, 42), (69, 43), (69, 44), (69, 45), (69, 46), (69, 47), (69, 48), (69, 49), (69, 50), (69, 51), (69, 52), (69, 53), (69, 54), (69, 55), (69, 56), (69, 57), (69, 58), (69, 59), (69, 60), (69, 61), (69, 62), (69, 63), (69, 64), (69, 65), (69, 66), (69, 67), (69, 68), (69, 69), (69, 70), (69, 71), (69, 73), (69, 75), (69, 77), (69, 78), (70, 1), (70, 2), (70, 4), (70, 5), (70, 6), (70, 7), (70, 8), (70, 9), (70, 10), (70, 11), (70, 12), (70, 13), (70, 14), (70, 15), (70, 16), (70, 18), (70, 20), (70, 21), (70, 23), (70, 24), (70, 27), (70, 28), (70, 29), (70, 31), (70, 35), (70, 36), (70, 37), (70, 38), (70, 39), (70, 40), (70, 41), (70, 42), (70, 43), (70, 44), (70, 45), (70, 46), (70, 47), (70, 48), (70, 49), (70, 50), (70, 51), (70, 52), (70, 53), (70, 54), (70, 55), (70, 56), (70, 57), (70, 58), (70, 59), (70, 60), (70, 61), (70, 62), (70, 63), (70, 64), (70, 65), (70, 66), (70, 67), (70, 68), (70, 69), (70, 70), (70, 71), (70, 72), (70, 73), (70, 74), (70, 75), (70, 76), (70, 77), (70, 78), (71, 0), (71, 1), (71, 2), (71, 3), (71, 5), (71, 6), (71, 7), (71, 8), (71, 9), (71, 10), (71, 11), (71, 12), (71, 13), (71, 14), (71, 15), (71, 17), (71, 19), (71, 20), (71, 24), (71, 25), (71, 28), (71, 30), (71, 32), (71, 33), (71, 35), (71, 36), (71, 37), (71, 38), (71, 39), (71, 40), (71, 41), (71, 42), (71, 43), (71, 44), (71, 45), (71, 46), (71, 47), (71, 48), (71, 49), (71, 50), (71, 51), (71, 52), (71, 53), (71, 54), (71, 55), (71, 56), (71, 57), (71, 58), (71, 59), (71, 60), (71, 61), (71, 62), (71, 63), (71, 64), (71, 65), (71, 66), (71, 67), (71, 68), (71, 69), (71, 70), (71, 71), (71, 73), (71, 74), (71, 77), (71, 78), (72, 0), (72, 3), (72, 4), (72, 5), (72, 6), (72, 7), (72, 8), (72, 9), (72, 10), (72, 11), (72, 12), (72, 13), (72, 14), (72, 15), (72, 16), (72, 18), (72, 19), (72, 22), (72, 25), (72, 26), (72, 29), (72, 31), (72, 33), (72, 34), (72, 35), (72, 36), (72, 37), (72, 38), (72, 39), (72, 40), (72, 41), (72, 42), (72, 43), (72, 44), (72, 45), (72, 46), (72, 47), (72, 48), (72, 49), (72, 50), (72, 51), (72, 52), (72, 53), (72, 54), (72, 55), (72, 56), (72, 57), (72, 58), (72, 59), (72, 60), (72, 61), (72, 62), (72, 63), (72, 64), (72, 65), (72, 66), (72, 67), (72, 68), (72, 69), (72, 70), (72, 71), (72, 72), (72, 75), (72, 76), (72, 77), (72, 78), (73, 1), (73, 6), (73, 7), (73, 8), (73, 9), (73, 10), (73, 11), (73, 12), (73, 13), (73, 14), (73, 15), (73, 16), (73, 17), (73, 18), (73, 19), (73, 20), (73, 21), (73, 22), (73, 23), (73, 26), (73, 28), (73, 29), (73, 31), (73, 34), (73, 35), (73, 36), (73, 37), (73, 38), (73, 39), (73, 40), (73, 41), (73, 42), (73, 43), (73, 44), (73, 45), (73, 46), (73, 57), (73, 61), (73, 62), (73, 63), (73, 64), (73, 65), (73, 66), (73, 67), (73, 68), (73, 69), (73, 70), (73, 71), (73, 72), (73, 75), (73, 76), (73, 77), (73, 78), (74, 1), (74, 2), (74, 4), (74, 5), (74, 7), (74, 8), (74, 9), (74, 10), (74, 11), (74, 12), (74, 13), (74, 14), (74, 15), (74, 16), (74, 17), (74, 18), (74, 19), (74, 22), (74, 23), (74, 30), (74, 32), (74, 33), (74, 34), (74, 35), (74, 36), (74, 37), (74, 38), (74, 39), (74, 40), (74, 41), (74, 42), (74, 43), (74, 44), (74, 45), (74, 46), (74, 49), (74, 50), (74, 51), (74, 52), (74, 53), (74, 54), (74, 55), (74, 56), (74, 57), (74, 58), (74, 59), (74, 60), (74, 62), (74, 63), (74, 64), (74, 65), (74, 66), (74, 67), (74, 68), (74, 69), (74, 70), (74, 71), (74, 73), (74, 74), (74, 77), (74, 78), (75, 2), (75, 4), (75, 5), (75, 7), (75, 8), (75, 9), (75, 10), (75, 11), (75, 12), (75, 13), (75, 14), (75, 15), (75, 16), (75, 17), (75, 18), (75, 19), (75, 21), (75, 24), (75, 25), (75, 31), (75, 34), (75, 35), (75, 36), (75, 37), (75, 38), (75, 39), (75, 40), (75, 41), (75, 42), (75, 43), (75, 52), (75, 58), (75, 61), (75, 63), (75, 64), (75, 65), (75, 66), (75, 67), (75, 68), (75, 69), (75, 70), (75, 71), (75, 72), (75, 73), (75, 75), (75, 76), (75, 77), (75, 78), (76, 0), (76, 1), (76, 3), (76, 6), (76, 7), (76, 8), (76, 9), (76, 10), (76, 11), (76, 12), (76, 13), (76, 14), (76, 15), (76, 16), (76, 17), (76, 18), (76, 19), (76, 20), (76, 21), (76, 22), (76, 25), (76, 27), (76, 28), (76, 30), (76, 32), (76, 34), (76, 35), (76, 36), (76, 37), (76, 38), (76, 39), (76, 40), (76, 41), (76, 42), (76, 43), (76, 44), (76, 46), (76, 47), (76, 48), (76, 49), (76, 51), (76, 52), (76, 53), (76, 57), (76, 58), (76, 59), (76, 60), (76, 62), (76, 63), (76, 64), (76, 65), (76, 66), (76, 67), (76, 68), (76, 69), (76, 70), (76, 71), (76, 72), (76, 73), (76, 75), (76, 77), (76, 78), (77, 5), (77, 8), (77, 9), (77, 10), (77, 11), (77, 12), (77, 13), (77, 14), (77, 15), (77, 16), (77, 17), (77, 18), (77, 19), (77, 20), (77, 21), (77, 22), (77, 23), (77, 24), (77, 27), (77, 31), (77, 34), (77, 35), (77, 36), (77, 37), (77, 38), (77, 39), (77, 40), (77, 41), (77, 42), (77, 44), (77, 45), (77, 46), (77, 55), (77, 56), (77, 57), (77, 58), (77, 59), (77, 60), (77, 62), (77, 63), (77, 64), (77, 65), (77, 66), (77, 67), (77, 68), (77, 69), (77, 70), (77, 71), (77, 72), (77, 75), (77, 77), (77, 78), (78, 6), (78, 9), (78, 10), (78, 11), (78, 12), (78, 13), (78, 14), (78, 15), (78, 16), (78, 17), (78, 18), (78, 19), (78, 20), (78, 21), (78, 22), (78, 23), (78, 25), (78, 29), (78, 32), (78, 33), (78, 34), (78, 35), (78, 36), (78, 37), (78, 38), (78, 39), (78, 40), (78, 41), (78, 42), (78, 43), (78, 45), (78, 46), (78, 55), (78, 56), (78, 57), (78, 58), (78, 59), (78, 60), (78, 61), (78, 62), (78, 63), (78, 64), (78, 65), (78, 66), (78, 67), (78, 68), (78, 69), (78, 70), (78, 71), (78, 73), (78, 74), (78, 77), (78, 78), (79, 5), (79, 7), (79, 10), (79, 11), (79, 12), (79, 13), (79, 14), (79, 15), (79, 16), (79, 17), (79, 18), (79, 19), (79, 20), (79, 21), (79, 22), (79, 23), (79, 24), (79, 26), (79, 28), (79, 32), (79, 33), (79, 34), (79, 35), (79, 36), (79, 37), (79, 38), (79, 39), (79, 40), (79, 41), (79, 42), (79, 44), (79, 45), (79, 46), (79, 56), (79, 57), (79, 58), (79, 59), (79, 60), (79, 61), (79, 62), (79, 63), (79, 64), (79, 65), (79, 66), (79, 67), (79, 68), (79, 69), (79, 70), (79, 73), (79, 74), (79, 76), (79, 77), (79, 78), (80, 8), (80, 9), (80, 10), (80, 11), (80, 12), (80, 13), (80, 14), (80, 15), (80, 16), (80, 17), (80, 18), (80, 19), (80, 20), (80, 21), (80, 22), (80, 23), (80, 24), (80, 25), (80, 27), (80, 30), (80, 31), (80, 32), (80, 33), (80, 34), (80, 35), (80, 36), (80, 37), (80, 38), (80, 39), (80, 40), (80, 41), (80, 42), (80, 43), (80, 45), (80, 46), (80, 56), (80, 57), (80, 58), (80, 59), (80, 60), (80, 62), (80, 63), (80, 64), (80, 65), (80, 66), (80, 67), (80, 68), (80, 69), (80, 70), (80, 71), (80, 72), (80, 76), (80, 77), (80, 78), (81, 5), (81, 7), (81, 8), (81, 9), (81, 12), (81, 13), (81, 14), (81, 15), (81, 16), (81, 17), (81, 18), (81, 19), (81, 20), (81, 21), (81, 22), (81, 23), (81, 24), (81, 25), (81, 26), (81, 27), (81, 28), (81, 29), (81, 30), (81, 33), (81, 34), (81, 35), (81, 36), (81, 37), (81, 38), (81, 39), (81, 40), (81, 41), (81, 42), (81, 44), (81, 45), (81, 46), (81, 57), (81, 58), (81, 59), (81, 60), (81, 61), (81, 62), (81, 63), (81, 64), (81, 65), (81, 66), (81, 67), (81, 68), (81, 69), (81, 70), (81, 71), (81, 72), (81, 74), (81, 75), (81, 77), (81, 78), (82, 7), (82, 9), (82, 12), (82, 13), (82, 14), (82, 15), (82, 16), (82, 17), (82, 18), (82, 19), (82, 20), (82, 21), (82, 22), (82, 23), (82, 24), (82, 25), (82, 26), (82, 27), (82, 30), (82, 32), (82, 33), (82, 34), (82, 35), (82, 36), (82, 37), (82, 38), (82, 39), (82, 40), (82, 41), (82, 43), (82, 45), (82, 46), (82, 57), (82, 58), (82, 59), (82, 60), (82, 61), (82, 62), (82, 63), (82, 64), (82, 65), (82, 66), (82, 67), (82, 68), (82, 69), (82, 70), (82, 71), (82, 74), (82, 75), (82, 77), (82, 78), (83, 6), (83, 8), (83, 10), (83, 11), (83, 13), (83, 14), (83, 15), (83, 16), (83, 17), (83, 18), (83, 19), (83, 20), (83, 21), (83, 22), (83, 23), (83, 24), (83, 25), (83, 26), (83, 27), (83, 28), (83, 30), (83, 31), (83, 32), (83, 33), (83, 34), (83, 35), (83, 36), (83, 37), (83, 38), (83, 39), (83, 40), (83, 41), (83, 42), (83, 44), (83, 45), (83, 46), (83, 58), (83, 59), (83, 60), (83, 61), (83, 62), (83, 63), (83, 64), (83, 65), (83, 66), (83, 67), (83, 68), (83, 69), (83, 70), (83, 71), (83, 72), (83, 75), (83, 77), (83, 78), (84, 5), (84, 7), (84, 9), (84, 12), (84, 13), (84, 15), (84, 16), (84, 17), (84, 18), (84, 19), (84, 20), (84, 21), (84, 22), (84, 23), (84, 24), (84, 25), (84, 26), (84, 27), (84, 28), (84, 30), (84, 33), (84, 34), (84, 35), (84, 36), (84, 37), (84, 38), (84, 39), (84, 40), (84, 41), (84, 42), (84, 44), (84, 45), (84, 46), (84, 58), (84, 59), (84, 60), (84, 61), (84, 62), (84, 63), (84, 64), (84, 65), (84, 66), (84, 67), (84, 68), (84, 69), (84, 72), (84, 74), (84, 75), (84, 77), (84, 78), (85, 15), (85, 16), (85, 17), (85, 18), (85, 19), (85, 20), (85, 21), (85, 22), (85, 23), (85, 24), (85, 25), (85, 26), (85, 27), (85, 28), (85, 29), (85, 30), (85, 31), (85, 33), (85, 34), (85, 35), (85, 36), (85, 37), (85, 38), (85, 39), (85, 40), (85, 41), (85, 44), (85, 54), (85, 55), (85, 57), (85, 59), (85, 61), (85, 62), (85, 63), (85, 64), (85, 65), (85, 66), (85, 67), (85, 68), (85, 69), (85, 72), (85, 75), (86, 14), (86, 16), (86, 18), (86, 19), (86, 20), (86, 21), (86, 22), (86, 23), (86, 24), (86, 25), (86, 26), (86, 27), (86, 28), (86, 29), (86, 30), (86, 31), (86, 32), (86, 33), (86, 34), (86, 35), (86, 36), (86, 37), (86, 38), (86, 39), (86, 40), (86, 41), (86, 43), (86, 44), (86, 54), (86, 56), (86, 57), (86, 60), (86, 61), (86, 62), (86, 63), (86, 64), (86, 65), (86, 66), (86, 67), (86, 68), (86, 69), (86, 72), (87, 13), (87, 15), (87, 16), (87, 19), (87, 20), (87, 21), (87, 22), (87, 23), (87, 24), (87, 25), (87, 26), (87, 27), (87, 28), (87, 29), (87, 30), (87, 31), (87, 32), (87, 33), (87, 34), (87, 35), (87, 36), (87, 37), (87, 38), (87, 39), (87, 40), (87, 41), (87, 43), (87, 44), (87, 53), (87, 54), (87, 56), (87, 59), (87, 61), (87, 62), (87, 63), (87, 64), (87, 65), (87, 66), (87, 67), (87, 68), (87, 69), (87, 70), (87, 71), (87, 72), (87, 73), (87, 74), (88, 15), (88, 16), (88, 17), (88, 20), (88, 21), (88, 22), (88, 23), (88, 24), (88, 25), (88, 26), (88, 27), (88, 28), (88, 29), (88, 30), (88, 31), (88, 32), (88, 33), (88, 34), (88, 35), (88, 36), (88, 37), (88, 38), (88, 39), (88, 40), (88, 41), (88, 53), (88, 54), (88, 56), (88, 58), (88, 59), (88, 61), (88, 62), (88, 63), (88, 64), (88, 65), (88, 66), (88, 67), (88, 68), (88, 69), (88, 75), (88, 76), (89, 14), (89, 15), (89, 18), (89, 20), (89, 21), (89, 22), (89, 23), (89, 24), (89, 25), (89, 26), (89, 27), (89, 28), (89, 29), (89, 30), (89, 31), (89, 32), (89, 33), (89, 34), (89, 35), (89, 36), (89, 37), (89, 38), (89, 39), (89, 40), (89, 41), (89, 53), (89, 55), (89, 58), (89, 60), (89, 61), (89, 62), (89, 63), (89, 64), (89, 65), (89, 66), (89, 67), (89, 68), (89, 69), (89, 70), (89, 72), (89, 75), (90, 13), (90, 14), (90, 16), (90, 17), (90, 18), (90, 19), (90, 22), (90, 23), (90, 24), (90, 25), (90, 26), (90, 27), (90, 28), (90, 29), (90, 30), (90, 31), (90, 32), (90, 33), (90, 34), (90, 35), (90, 36), (90, 37), (90, 38), (90, 39), (90, 40), (90, 41), (90, 55), (90, 56), (90, 58), (90, 60), (90, 61), (90, 62), (90, 63), (90, 64), (90, 65), (90, 66), (90, 67), (90, 68), (90, 69), (90, 70), (90, 71), (90, 72), (90, 75), (91, 13), (91, 16), (91, 19), (91, 20), (91, 21), (91, 23), (91, 24), (91, 25), (91, 26), (91, 27), (91, 28), (91, 29), (91, 30), (91, 31), (91, 32), (91, 33), (91, 34), (91, 35), (91, 36), (91, 37), (91, 38), (91, 39), (91, 40), (91, 41), (91, 42), (91, 43), (91, 55), (91, 56), (91, 58), (91, 59), (91, 60), (91, 61), (91, 62), (91, 63), (91, 64), (91, 65), (91, 66), (91, 67), (91, 68), (91, 69), (91, 75), (91, 76), (92, 15), (92, 18), (92, 19), (92, 22), (92, 23), (92, 24), (92, 25), (92, 26), (92, 27), (92, 28), (92, 29), (92, 30), (92, 31), (92, 32), (92, 33), (92, 34), (92, 35), (92, 36), (92, 37), (92, 38), (92, 39), (92, 40), (92, 41), (92, 42), (92, 43), (92, 56), (92, 59), (92, 60), (92, 61), (92, 62), (92, 63), (92, 64), (92, 65), (92, 66), (92, 67), (92, 68), (92, 69), (92, 70), (92, 73), (92, 74), (92, 76), (93, 22), (93, 25), (93, 26), (93, 27), (93, 28), (93, 29), (93, 30), (93, 31), (93, 32), (93, 33), (93, 34), (93, 35), (93, 36), (93, 37), (93, 38), (93, 39), (93, 40), (93, 41), (93, 42), (93, 43), (93, 46), (93, 47), (93, 48), (93, 50), (93, 52), (93, 55), (93, 58), (93, 59), (93, 60), (93, 61), (93, 62), (93, 63), (93, 64), (93, 65), (93, 66), (93, 67), (93, 68), (93, 69), (93, 70), (93, 71), (94, 23), (94, 24), (94, 27), (94, 28), (94, 29), (94, 30), (94, 31), (94, 32), (94, 33), (94, 34), (94, 35), (94, 36), (94, 37), (94, 38), (94, 39), (94, 40), (94, 41), (94, 42), (94, 43), (94, 44), (94, 45), (94, 46), (94, 47), (94, 48), (94, 49), (94, 51), (94, 53), (94, 54), (94, 56), (94, 57), (94, 58), (94, 59), (94, 60), (94, 61), (94, 62), (94, 63), (94, 64), (94, 65), (94, 66), (94, 67), (94, 68), (94, 69), (94, 70), (94, 71), (95, 21), (95, 24), (95, 26), (95, 27), (95, 28), (95, 29), (95, 30), (95, 31), (95, 32), (95, 33), (95, 34), (95, 35), (95, 36), (95, 37), (95, 38), (95, 39), (95, 40), (95, 41), (95, 42), (95, 43), (95, 44), (95, 45), (95, 46), (95, 47), (95, 48), (95, 51), (95, 53), (95, 55), (95, 57), (95, 58), (95, 59), (95, 60), (95, 61), (95, 62), (95, 63), (95, 64), (95, 65), (95, 66), (95, 67), (95, 68), (95, 69), (95, 70), (95, 71), (96, 21), (96, 23), (96, 25), (96, 26), (96, 28), (96, 29), (96, 30), (96, 31), (96, 32), (96, 33), (96, 34), (96, 35), (96, 36), (96, 37), (96, 38), (96, 39), (96, 40), (96, 41), (96, 42), (96, 43), (96, 44), (96, 45), (96, 46), (96, 47), (96, 48), (96, 49), (96, 50), (96, 51), (96, 52), (96, 53), (96, 54), (96, 55), (96, 56), (96, 57), (96, 58), (96, 59), (96, 60), (96, 61), (96, 62), (96, 63), (96, 64), (96, 65), (96, 66), (96, 67), (96, 69), (96, 70), (96, 71), (97, 23), (97, 24), (97, 25), (97, 26), (97, 27), (97, 30), (97, 31), (97, 32), (97, 33), (97, 34), (97, 35), (97, 36), (97, 37), (97, 38), (97, 39), (97, 40), (97, 41), (97, 42), (97, 43), (97, 44), (97, 45), (97, 46), (97, 47), (97, 48), (97, 49), (97, 50), (97, 51), (97, 52), (97, 53), (97, 54), (97, 55), (97, 56), (97, 57), (97, 58), (97, 59), (97, 60), (97, 61), (97, 62), (97, 63), (97, 64), (97, 65), (97, 66), (97, 67), (97, 68), (97, 69), (97, 70), (97, 71), (98, 21), (98, 22), (98, 24), (98, 25), (98, 26), (98, 27), (98, 28), (98, 31), (98, 32), (98, 33), (98, 34), (98, 35), (98, 36), (98, 37), (98, 38), (98, 39), (98, 40), (98, 41), (98, 42), (98, 43), (98, 44), (98, 45), (98, 46), (98, 47), (98, 48), (98, 49), (98, 50), (98, 51), (98, 52), (98, 53), (98, 54), (98, 55), (98, 56), (98, 57), (98, 58), (98, 59), (98, 60), (98, 61), (98, 62), (98, 63), (98, 64), (98, 65), (98, 66), (98, 67), (98, 69), (98, 70), (98, 71), (99, 22), (99, 23), (99, 25), (99, 27), (99, 29), (99, 33), (99, 34), (99, 35), (99, 36), (99, 37), (99, 38), (99, 39), (99, 40), (99, 41), (99, 42), (99, 43), (99, 44), (99, 45), (99, 46), (99, 47), (99, 48), (99, 49), (99, 50), (99, 51), (99, 52), (99, 53), (99, 54), (99, 55), (99, 56), (99, 57), (99, 58), (99, 59), (99, 60), (99, 61), (99, 62), (99, 63), (99, 64), (99, 65), (99, 66), (99, 68), (99, 69), (99, 70), (99, 71), (100, 21), (100, 24), (100, 25), (100, 28), (100, 30), (100, 31), (100, 34), (100, 35), (100, 36), (100, 37), (100, 38), (100, 39), (100, 40), (100, 41), (100, 42), (100, 43), (100, 44), (100, 45), (100, 46), (100, 47), (100, 48), (100, 49), (100, 50), (100, 51), (100, 52), (100, 53), (100, 54), (100, 55), (100, 56), (100, 57), (100, 58), (100, 59), (100, 60), (100, 61), (100, 62), (100, 63), (100, 64), (100, 65), (100, 67), (100, 69), (100, 70), (100, 71), (101, 37), (101, 38), (101, 39), (101, 40), (101, 41), (101, 42), (101, 43), (101, 44), (101, 45), (101, 46), (101, 47), (101, 48), (101, 49), (101, 50), (101, 51), (101, 52), (101, 53), (101, 54), (101, 55), (101, 56), (101, 57), (101, 58), (101, 59), (101, 60), (101, 61), (101, 62), (101, 63), (101, 64), (101, 66), (101, 68), (101, 69), (101, 70), (102, 38), (102, 40), (102, 41), (102, 42), (102, 43), (102, 44), (102, 45), (102, 46), (102, 47), (102, 48), (102, 49), (102, 50), (102, 51), (102, 52), (102, 53), (102, 54), (102, 55), (102, 56), (102, 57), (102, 58), (102, 59), (102, 60), (102, 61), (102, 62), (102, 63), (102, 64), (102, 65), (102, 66), (102, 69), (102, 70), (103, 37), (103, 39), (103, 40), (103, 41), (103, 42), (103, 43), (103, 44), (103, 45), (103, 46), (103, 47), (103, 48), (103, 49), (103, 50), (103, 51), (103, 52), (103, 53), (103, 54), (103, 55), (103, 56), (103, 57), (103, 58), (103, 59), (103, 60), (103, 61), (103, 62), (103, 65), (103, 67), (103, 68), (103, 69), (103, 70), (104, 28), (104, 29), (104, 30), (104, 31), (104, 32), (104, 33), (104, 34), (104, 35), (104, 36), (104, 38), (104, 41), (104, 42), (104, 45), (104, 46), (104, 47), (104, 48), (104, 49), (104, 50), (104, 51), (104, 52), (104, 53), (104, 54), (104, 55), (104, 56), (104, 57), (104, 58), (104, 59), (104, 60), (104, 61), (104, 62), (104, 63), (104, 65), (104, 67), (104, 69), (104, 70), (105, 26), (105, 27), (105, 28), (105, 29), (105, 30), (105, 31), (105, 32), (105, 33), (105, 34), (105, 35), (105, 36), (105, 37), (105, 40), (105, 41), (105, 43), (105, 44), (105, 46), (105, 48), (105, 49), (105, 51), (105, 52), (105, 53), (105, 54), (105, 56), (105, 57), (105, 59), (105, 64), (105, 66), (105, 68), (105, 69), (105, 70), (106, 25), (106, 26), (106, 27), (106, 28), (106, 29), (106, 30), (106, 31), (106, 32), (106, 33), (106, 34), (106, 35), (106, 36), (106, 37), (106, 38), (106, 40), (106, 42), (106, 44), (106, 46), (106, 47), (106, 48), (106, 51), (106, 53), (106, 56), (106, 59), (106, 61), (106, 62), (106, 63), (106, 65), (106, 67), (106, 69), (106, 70), (107, 25), (107, 26), (107, 27), (107, 28), (107, 29), (107, 30), (107, 31), (107, 32), (107, 33), (107, 34), (107, 35), (107, 36), (107, 39), (107, 41), (107, 42), (107, 45), (107, 48), (107, 49), (107, 50), (107, 51), (107, 52), (107, 53), (107, 54), (107, 57), (107, 60), (107, 64), (107, 66), (107, 68), (107, 69), (107, 70), (108, 24), (108, 25), (108, 26), (108, 27), (108, 28), (108, 29), (108, 30), (108, 31), (108, 32), (108, 33), (108, 34), (108, 35), (108, 36), (108, 37), (108, 38), (108, 40), (108, 44), (108, 46), (108, 47), (108, 50), (108, 52), (108, 55), (108, 58), (108, 60), (108, 61), (108, 64), (108, 65), (108, 66), (108, 68), (108, 69), (108, 70)]\n"
          ]
        }
      ]
    },
    {
      "cell_type": "markdown",
      "source": [
        "Visualizing the \"enlarged\" cropped images (figures)."
      ],
      "metadata": {
        "id": "Gu0OMvc9k9vS"
      }
    },
    {
      "cell_type": "code",
      "source": [
        "fig, axs= plt.subplots(len(niz), figsize=[5,5])\n",
        "for i in range(1):\n",
        "  for j in range(len(niz)):\n",
        "    axs[j].imshow(niz[j])\n",
        "\n",
        "plt.show()"
      ],
      "metadata": {
        "id": "cRdpqy85aXxg",
        "colab": {
          "base_uri": "https://localhost:8080/",
          "height": 323
        },
        "outputId": "5e0112bf-32b1-4ede-e049-26240671ba86"
      },
      "execution_count": null,
      "outputs": [
        {
          "output_type": "display_data",
          "data": {
            "image/png": "[encoded data removed]",
            "text/plain": [
              "<Figure size 360x360 with 3 Axes>"
            ]
          },
          "metadata": {
            "needs_background": "light"
          }
        }
      ]
    },
    {
      "cell_type": "markdown",
      "source": [
        "Finally, we do image processing and send it to model for label predicting."
      ],
      "metadata": {
        "id": "WcdxLnmzlQrv"
      }
    },
    {
      "cell_type": "code",
      "source": [
        "s= \"\"\n",
        "br=0\n",
        "for i in range(len(niz)):\n",
        "  niz[i]=np.array(niz[i])\n",
        "\n",
        "  niz[i] = np.expand_dims(niz[i], axis=0)\n",
        "  niz[i]=niz[i].astype('float32')\n",
        "  niz[i]/=255\n",
        "  \n",
        "  pred=model.predict(niz[i])\n",
        "  #print(\"Pred: \",pred)\n",
        "  result = np.argsort(pred)\n",
        "  #print(\"res:\" , result)\n",
        "  result = result[0][::-1]\n",
        "  #print(\"Poredani res: \", result)\n",
        "\n",
        "  final_label = label_encoder.inverse_transform(np.array(result))\n",
        "  #print(\"FL\", final_label)\n",
        "  #print(final_label[0])\n",
        "\n",
        "\n",
        "  if(final_label[0] == \"zero\"):\n",
        "    s+=\"0\"\n",
        "  if(final_label[0] == \"one\"):\n",
        "    s+=\"1\"\n",
        "  if(final_label[0] == \"two\"):\n",
        "    s+=\"2\"\n",
        "  if(final_label[0] == \"three\"):\n",
        "    s+=\"3\"\n",
        "  if(final_label[0] == \"four\"):\n",
        "    s+=\"4\"\n",
        "  if(final_label[0] == \"five\"):\n",
        "    s+=\"5\"\n",
        "  if(final_label[0] == \"six\"):\n",
        "    s+=\"6\"\n",
        "  if(final_label[0] == \"seven\"):\n",
        "    s+=\"7\"\n",
        "  if(final_label[0] == \"eight\"):\n",
        "    s+=\"8\"\n",
        "  if(final_label[0] == \"nine\"):\n",
        "    s+=\"9\"\n",
        "  if(final_label[0] == \"plus\"):\n",
        "    s+=\"+\"\n",
        "    br+=1\n",
        "  if(final_label[0] == \"minus\"):\n",
        "    s+=\"-\"\n",
        "    br+=1\n",
        "  if(final_label[0] == \"times\"):\n",
        "    s+=\"*\"\n",
        "    br+=1\n",
        "  if(final_label[0] == \"div\"):\n",
        "    s+=\"/\"\n",
        "    br+=1    \n",
        "\n",
        "if(br!=1):\n",
        "  print(\"Probably not expression what you wrote. Model predicted that you wrote: \",s)\n",
        "else:\n",
        "  print(\"Math expression that needs to be solved: \",s)"
      ],
      "metadata": {
        "id": "0a5e4GhXbbMJ",
        "colab": {
          "base_uri": "https://localhost:8080/"
        },
        "outputId": "cabcb05f-bbfc-43be-ad23-854a2d124d2e"
      },
      "execution_count": null,
      "outputs": [
        {
          "output_type": "stream",
          "name": "stdout",
          "text": [
            "Math expression that needs to be solved:  8-3\n"
          ]
        }
      ]
    },
    {
      "cell_type": "code",
      "source": [
        "def MakeANum(s):\n",
        "  br=0\n",
        "  for j in range(1,len(s)+1):\n",
        "    br+= int(s[j-1])*pow(10, len(s)-j)\n",
        "  return br"
      ],
      "metadata": {
        "id": "454MSp6eleyz"
      },
      "execution_count": null,
      "outputs": []
    },
    {
      "cell_type": "code",
      "source": [
        "def Add(a,b):\n",
        "  return MakeANum(a)+MakeANum(b)\n",
        "\n",
        "def Sub(a,b):\n",
        "  return MakeANum(a)-MakeANum(b)\n",
        "\n",
        "def Mul(a,b):\n",
        "  return MakeANum(a)*MakeANum(b)\n",
        "\n",
        "def Div(a,b):\n",
        "  if(int(b)!=0):\n",
        "    return MakeANum(a)/MakeANum(b)\n",
        "  else:\n",
        "    return \"Trying to divide by 0!\"\n",
        "    "
      ],
      "metadata": {
        "id": "1laK856rVOUt"
      },
      "execution_count": null,
      "outputs": []
    },
    {
      "cell_type": "markdown",
      "source": [
        "And lastly, we compute result."
      ],
      "metadata": {
        "id": "Dp-YshqFlvpS"
      }
    },
    {
      "cell_type": "code",
      "source": [
        "result=s\n",
        "if(br==1):\n",
        "  for i in range(len(s)):\n",
        "    if(s[i]=='+'):\n",
        "      result= Add(s[0:i],s[i+1:])\n",
        "    elif(s[i]=='-'):\n",
        "      result= Sub(s[0:i],s[i+1:])\n",
        "    elif(s[i]=='*'):\n",
        "      result = Mul(s[0:i],s[i+1:])\n",
        "    elif(s[i]=='/'):\n",
        "      result= Div(s[0:i],s[i+1:])\n",
        "  print(\"The final solution of expression\" ,s, \"is: \",result)"
      ],
      "metadata": {
        "colab": {
          "base_uri": "https://localhost:8080/"
        },
        "id": "1CPnvW3nNBhb",
        "outputId": "c40cb790-557e-4090-e6f7-63a78340f0e5"
      },
      "execution_count": null,
      "outputs": [
        {
          "output_type": "stream",
          "name": "stdout",
          "text": [
            "The final solution of expression 8-3 is:  5\n"
          ]
        }
      ]
    },
    {
      "cell_type": "markdown",
      "source": [
        "## Conclusion"
      ],
      "metadata": {
        "id": "KGAN3Crmgrk4"
      }
    },
    {
      "cell_type": "markdown",
      "source": [
        "In majority of tested cases, the model does not predict as wanted. As I already mentioned, I merged multiple images from \"eval\" folder into one image. After I didn't get result I was hoping for, I tried to mimic the handwriting and so created expressions in Paint, but the results still weren't best. Model fails the most in recognizing \"div\", \"plus\" and \"zero\". "
      ],
      "metadata": {
        "id": "VFLKNYowgvMn"
      }
    },
    {
      "cell_type": "markdown",
      "source": [
        "To enhance result, maybe I should change the parameters of my model. As always, it would be better to have more data to train model. Also, it may be the case that I wasn't allowed to change the sizing of cropped image as I did (resizing/adding white pixels). That may had an impact on model prediction, eventhough I believe I was careful not to make changes to image pixels charactericts. "
      ],
      "metadata": {
        "id": "4euOXtL5hk7m"
      }
    }
  ]
}