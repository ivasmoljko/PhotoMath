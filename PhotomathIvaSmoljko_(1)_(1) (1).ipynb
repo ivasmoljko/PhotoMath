{
  "nbformat": 4,
  "nbformat_minor": 0,
  "metadata": {
    "colab": {
      "name": "PhotomathIvaSmoljko_(1)_(1).ipynb",
      "provenance": [],
      "collapsed_sections": []
    },
    "kernelspec": {
      "name": "python3",
      "display_name": "Python 3"
    },
    "language_info": {
      "name": "python"
    },
    "accelerator": "GPU"
  },
  "cells": [
    {
      "cell_type": "markdown",
      "metadata": {
        "id": "LkToYN_D8ypc"
      },
      "source": [
        "#Photomath - Iva Smoljko"
      ]
    },
    {
      "cell_type": "markdown",
      "metadata": {
        "id": "Ho3C_8Wze7B_"
      },
      "source": [
        "First of all, let's import all the libraries we will use."
      ]
    },
    {
      "cell_type": "code",
      "metadata": {
        "id": "R2FJAvAde_-U"
      },
      "source": [
        "import numpy as np\n",
        "import pandas as pd\n",
        "import matplotlib.pyplot as plt\n",
        "import tensorflow as tf\n",
        "\n",
        "import cv2\n",
        "import os\n",
        "from sklearn import preprocessing\n",
        "from pathlib import Path\n",
        "from PIL import Image\n",
        "\n",
        "import keras\n",
        "from keras.models import Sequential\n",
        "from keras.layers import Dense, Dropout, Flatten, Conv2D, MaxPooling2D"
      ],
      "execution_count": 2,
      "outputs": []
    },
    {
      "cell_type": "markdown",
      "metadata": {
        "id": "ib37IcUj9H_t"
      },
      "source": [
        "Now, we will install kaggle so we can directly get dataset."
      ]
    },
    {
      "cell_type": "code",
      "metadata": {
        "id": "IaXeBWpqO5nC",
        "colab": {
          "base_uri": "https://localhost:8080/"
        },
        "outputId": "8000f3f3-93dd-45e4-82c2-42693d5fd02b"
      },
      "source": [
        "! pip install kaggle"
      ],
      "execution_count": 3,
      "outputs": [
        {
          "output_type": "stream",
          "name": "stdout",
          "text": [
            "Requirement already satisfied: kaggle in /usr/local/lib/python3.7/dist-packages (1.5.12)\n",
            "Requirement already satisfied: urllib3 in /usr/local/lib/python3.7/dist-packages (from kaggle) (1.24.3)\n",
            "Requirement already satisfied: tqdm in /usr/local/lib/python3.7/dist-packages (from kaggle) (4.62.3)\n",
            "Requirement already satisfied: requests in /usr/local/lib/python3.7/dist-packages (from kaggle) (2.23.0)\n",
            "Requirement already satisfied: python-dateutil in /usr/local/lib/python3.7/dist-packages (from kaggle) (2.8.2)\n",
            "Requirement already satisfied: six>=1.10 in /usr/local/lib/python3.7/dist-packages (from kaggle) (1.15.0)\n",
            "Requirement already satisfied: certifi in /usr/local/lib/python3.7/dist-packages (from kaggle) (2021.10.8)\n",
            "Requirement already satisfied: python-slugify in /usr/local/lib/python3.7/dist-packages (from kaggle) (5.0.2)\n",
            "Requirement already satisfied: text-unidecode>=1.3 in /usr/local/lib/python3.7/dist-packages (from python-slugify->kaggle) (1.3)\n",
            "Requirement already satisfied: idna<3,>=2.5 in /usr/local/lib/python3.7/dist-packages (from requests->kaggle) (2.10)\n",
            "Requirement already satisfied: chardet<4,>=3.0.2 in /usr/local/lib/python3.7/dist-packages (from requests->kaggle) (3.0.4)\n"
          ]
        }
      ]
    },
    {
      "cell_type": "code",
      "metadata": {
        "id": "-SJOND8qO9XE"
      },
      "source": [
        "! mkdir ~/.kaggle"
      ],
      "execution_count": 4,
      "outputs": []
    },
    {
      "cell_type": "code",
      "metadata": {
        "id": "G_ibbzrRPAKJ"
      },
      "source": [
        "! cp kaggle.json ~/.kaggle/"
      ],
      "execution_count": 5,
      "outputs": []
    },
    {
      "cell_type": "code",
      "metadata": {
        "id": "W_BGZjf_PEP3"
      },
      "source": [
        "! chmod 600 ~/.kaggle/kaggle.json"
      ],
      "execution_count": 6,
      "outputs": []
    },
    {
      "cell_type": "code",
      "metadata": {
        "colab": {
          "base_uri": "https://localhost:8080/"
        },
        "id": "ICOf2RDdQMFP",
        "outputId": "3ba6e9c8-f1c8-4d78-8953-b4c6fd12db89"
      },
      "source": [
        "! kaggle datasets download -d clarencezhao/handwritten-math-symbol-dataset"
      ],
      "execution_count": 7,
      "outputs": [
        {
          "output_type": "stream",
          "name": "stdout",
          "text": [
            "Downloading handwritten-math-symbol-dataset.zip to /content\n",
            " 86% 50.0M/57.8M [00:00<00:00, 102MB/s] \n",
            "100% 57.8M/57.8M [00:00<00:00, 118MB/s]\n"
          ]
        }
      ]
    },
    {
      "cell_type": "code",
      "metadata": {
        "id": "YmlP5G1EQeaq"
      },
      "source": [
        "! unzip handwritten-math-symbol-dataset.zip"
      ],
      "execution_count": null,
      "outputs": []
    },
    {
      "cell_type": "markdown",
      "metadata": {
        "id": "HIJm-OTY92pF"
      },
      "source": [
        "After loading and unzipping the dataset, we can see that in the \"train\" file (located in \"content\" file) there are files which contain images of handwritten digits and basic mathematical operators (+,-,* and /). There are files which have handwritten decimal point, sign equal as well, but due to the fact that it is not part of our task, I will be ignoring it. However, this dataset does not contain bracket \"(\" and \")\" data, so my Photomath won't be able to recognize it. "
      ]
    },
    {
      "cell_type": "markdown",
      "metadata": {
        "id": "RSVZjrbQAUt3"
      },
      "source": [
        "Let's create a list with labels (names of digits and symbols we will use)."
      ]
    },
    {
      "cell_type": "code",
      "metadata": {
        "id": "ZEqG7r09AqVe"
      },
      "source": [
        "labels = ['zero','one','two','three','four','five','six','seven','eight','nine',\n",
        "          'plus','minus','times','div']"
      ],
      "execution_count": 9,
      "outputs": []
    },
    {
      "cell_type": "markdown",
      "metadata": {
        "id": "r_vOmxxEBj9m"
      },
      "source": [
        "We need to load images for training (from \"train\" file) and testing (from file \"eval\")."
      ]
    },
    {
      "cell_type": "code",
      "metadata": {
        "id": "7OcacfFyCAdK"
      },
      "source": [
        "train_dataset_path = \"../content/train\"\n",
        "train_image = []\n",
        "train_label = []\n",
        "\n",
        "for labels_dir in os.listdir(train_dataset_path): \n",
        "    if labels_dir.split()[0] in labels: #since our labels are one-word, \n",
        "    #we split the name of file and only observe if the first word is in\n",
        "    #array\n",
        "        for image in os.listdir(train_dataset_path + \"/\" + labels_dir):\n",
        "            train_label.append(labels_dir.split()[0])\n",
        "            train_image.append(train_dataset_path + \"/\" + labels_dir + \"/\" + image)"
      ],
      "execution_count": 10,
      "outputs": []
    },
    {
      "cell_type": "code",
      "metadata": {
        "id": "eYIYaUNsFf67"
      },
      "source": [
        "test_dataset_path = \"../content/eval\"\n",
        "test_image = []\n",
        "test_label = []\n",
        "\n",
        "for labels_dir in os.listdir(test_dataset_path):\n",
        "    if labels_dir.split()[0] in labels:\n",
        "        for image in os.listdir(test_dataset_path + \"/\" + labels_dir):\n",
        "            test_label.append(labels_dir.split()[0])\n",
        "            test_image.append(test_dataset_path + \"/\" + labels_dir + \"/\" + image)"
      ],
      "execution_count": 11,
      "outputs": []
    },
    {
      "cell_type": "markdown",
      "metadata": {
        "id": "KoASk7QnF_pJ"
      },
      "source": [
        "Let's check how many train and test images we have (and if we did this correctly; number of images should be equal to length of array with labels)."
      ]
    },
    {
      "cell_type": "code",
      "metadata": {
        "colab": {
          "base_uri": "https://localhost:8080/"
        },
        "id": "IVNH4Xd8GYLb",
        "outputId": "87e126d0-c61f-4cf5-99c5-5c095686f8d3"
      },
      "source": [
        "print(\"Total of train_image: \", len(train_image), \", length of labels list : \" ,len(train_label))\n",
        "print(\"Total of test_image : \" , len(test_image) , \", length of labels list : \" ,len(test_label))"
      ],
      "execution_count": 12,
      "outputs": [
        {
          "output_type": "stream",
          "name": "stdout",
          "text": [
            "Total of train_image:  6490 , length of labels list :  6490\n",
            "Total of test_image :  854 , length of labels list :  854\n"
          ]
        }
      ]
    },
    {
      "cell_type": "code",
      "metadata": {
        "colab": {
          "base_uri": "https://localhost:8080/"
        },
        "id": "nhfWgaJuG3I4",
        "outputId": "41ee813f-89ac-47a4-b65d-c06258f9bf0c"
      },
      "source": [
        "#ratio\n",
        "len(train_image)/(len(train_image) + len(test_image))"
      ],
      "execution_count": 13,
      "outputs": [
        {
          "output_type": "execute_result",
          "data": {
            "text/plain": [
              "0.8837145969498911"
            ]
          },
          "metadata": {},
          "execution_count": 13
        }
      ]
    },
    {
      "cell_type": "markdown",
      "metadata": {
        "id": "PH5S99yqGmsA"
      },
      "source": [
        "As we can see, the numbers of images and labels correspond to each other, and the ratio of training and testing images is nearly 90:10, which we still consider as a \"good radio\". "
      ]
    },
    {
      "cell_type": "markdown",
      "metadata": {
        "id": "Jl7uatJtHygJ"
      },
      "source": [
        "Let's plot random images from train and test dataset."
      ]
    },
    {
      "cell_type": "code",
      "metadata": {
        "id": "enGzaDr-ITtT"
      },
      "source": [
        "import random"
      ],
      "execution_count": 14,
      "outputs": []
    },
    {
      "cell_type": "code",
      "metadata": {
        "colab": {
          "base_uri": "https://localhost:8080/",
          "height": 281
        },
        "id": "g16JEJW1H4I9",
        "outputId": "6bf1f697-c9cd-4d36-896d-57b033a322f9"
      },
      "source": [
        "random.seed()\n",
        "rd = random.randint(1, len(train_image))\n",
        "image = cv2.imread(train_image[rd])\n",
        "plt.imshow(image)\n",
        "plt.title(\"Label: \" + train_label[rd])\n",
        "plt.show()"
      ],
      "execution_count": 15,
      "outputs": [
        {
          "output_type": "display_data",
          "data": {
            "image/png": "[encoded data removed]",
            "text/plain": [
              "<Figure size 432x288 with 1 Axes>"
            ]
          },
          "metadata": {
            "needs_background": "light"
          }
        }
      ]
    },
    {
      "cell_type": "code",
      "metadata": {
        "colab": {
          "base_uri": "https://localhost:8080/",
          "height": 281
        },
        "id": "ylvI4aqdJdFS",
        "outputId": "0dcc494b-7447-4872-a26a-ea7dda564671"
      },
      "source": [
        "random.seed()\n",
        "rd1 = random.randint(1, len(test_image))\n",
        "image = cv2.imread(train_image[rd1])\n",
        "plt.imshow(image)\n",
        "plt.title(\"Label: \" + train_label[rd1])\n",
        "plt.show()"
      ],
      "execution_count": 16,
      "outputs": [
        {
          "output_type": "display_data",
          "data": {
            "image/png": "[encoded data removed]",
            "text/plain": [
              "<Figure size 432x288 with 1 Axes>"
            ]
          },
          "metadata": {
            "needs_background": "light"
          }
        }
      ]
    },
    {
      "cell_type": "markdown",
      "metadata": {
        "id": "VLTNDLc2cr0d"
      },
      "source": [
        "Now, let's check height and width of our images."
      ]
    },
    {
      "cell_type": "code",
      "metadata": {
        "colab": {
          "base_uri": "https://localhost:8080/"
        },
        "id": "he5sFiKMcrQC",
        "outputId": "7964d048-0e12-4038-ba9e-5158914dc8cb"
      },
      "source": [
        "train_shapes = []\n",
        "train_width = []\n",
        "train_height = []\n",
        "for path in train_image:\n",
        "  img = np.array(cv2.imread(path))\n",
        "  size = img.shape\n",
        "  if size not in train_shapes:\n",
        "    train_shapes.append(size) \n",
        "    train_width.append(size[0])\n",
        "    train_height.append(size[1])\n",
        "\n",
        "if len(train_shapes):\n",
        "  print(\"min train width: \", min(train_width))\n",
        "  print(\"min train height: \", min(train_height))"
      ],
      "execution_count": 17,
      "outputs": [
        {
          "output_type": "stream",
          "name": "stdout",
          "text": [
            "min train width:  135\n",
            "min train height:  150\n"
          ]
        }
      ]
    },
    {
      "cell_type": "code",
      "metadata": {
        "colab": {
          "base_uri": "https://localhost:8080/"
        },
        "id": "H7ePowuSd_kV",
        "outputId": "b45b9a78-a3af-49c1-c8cb-0c44bf6a8ffe"
      },
      "source": [
        "test_shapes = []\n",
        "test_width = []\n",
        "test_height = []\n",
        "for path in test_image:\n",
        "  img = np.array(cv2.imread(path))\n",
        "  size = img.shape\n",
        "  if size not in test_shapes:\n",
        "    test_shapes.append(size)\n",
        "    test_width.append(size[0])\n",
        "    test_height.append(size[1])\n",
        "\n",
        "if len(train_shapes):\n",
        "  print(\"min test width: \", min(test_width))\n",
        "  print(\"min test height: \", min(test_height))"
      ],
      "execution_count": 18,
      "outputs": [
        {
          "output_type": "stream",
          "name": "stdout",
          "text": [
            "min test width:  135\n",
            "min test height:  150\n"
          ]
        }
      ]
    },
    {
      "cell_type": "markdown",
      "metadata": {
        "id": "WPZe56OUeSdw"
      },
      "source": [
        "Cleary, they differ in sizes. So, to make things easier for later, we will resize them (not a lot) and make them square. Also, our data is in .jpg format, we need to convert it to numpy array."
      ]
    },
    {
      "cell_type": "code",
      "metadata": {
        "id": "4xEvZDOjKL6w"
      },
      "source": [
        "X_train = []\n",
        "X_test = []\n",
        "\n",
        "for path in train_image:    \n",
        "    img = cv2.imread(path)\n",
        "    img = cv2.resize(img, (135, 135))\n",
        "    img = np.array(img)\n",
        "    X_train.append(img)\n",
        "\n",
        "for path in test_image:    \n",
        "    img = cv2.imread(path)\n",
        "    img = cv2.resize(img, (135, 135))\n",
        "    img = np.array(img)     \n",
        "    X_test.append(img)\n",
        "\n",
        "# X_train and X_test are basic arrays, we will convert them to numpy array \n",
        "X_train = np.array(X_train)\n",
        "X_test = np.array(X_test)"
      ],
      "execution_count": 19,
      "outputs": []
    },
    {
      "cell_type": "markdown",
      "metadata": {
        "id": "PnsWvcVcaAw7"
      },
      "source": [
        "Since normalization reduces the complexity of the problem our network is trying to solve, we will normalize data. This can potentially increase the accuracy of our model and speed up the training, because we bring the data on the same scale and reduce variance along with none of the weights in the network are wasted on doing a normalization for us, meaning that they can be used more efficiently to solve the actual task at hand."
      ]
    },
    {
      "cell_type": "code",
      "metadata": {
        "id": "ejIIEUKPaqQO"
      },
      "source": [
        "X_train = X_train.astype('float32')\n",
        "X_test = X_test.astype('float32')\n",
        "X_train /= 255\n",
        "X_test /= 255"
      ],
      "execution_count": 20,
      "outputs": []
    },
    {
      "cell_type": "code",
      "metadata": {
        "colab": {
          "base_uri": "https://localhost:8080/"
        },
        "id": "jddbTv2yhDgU",
        "outputId": "f7f76437-c089-4c7d-fc8d-cbc91d34c60d"
      },
      "source": [
        "print(\"X_train shape: \", X_train.shape)\n",
        "print(\"X_test shape: \", X_test.shape)"
      ],
      "execution_count": 21,
      "outputs": [
        {
          "output_type": "stream",
          "name": "stdout",
          "text": [
            "X_train shape:  (6490, 135, 135, 3)\n",
            "X_test shape:  (854, 135, 135, 3)\n"
          ]
        }
      ]
    },
    {
      "cell_type": "markdown",
      "metadata": {
        "id": "veIqEk8ajUYo"
      },
      "source": [
        "We need to adjust labels."
      ]
    },
    {
      "cell_type": "code",
      "metadata": {
        "id": "G9SwKN4VjTvu"
      },
      "source": [
        "label_encoder = preprocessing.LabelEncoder()\n",
        "y_train_temp = label_encoder.fit_transform(train_label)\n",
        "y_test_temp = label_encoder.fit_transform(test_label)"
      ],
      "execution_count": 22,
      "outputs": []
    },
    {
      "cell_type": "code",
      "source": [
        "for i in range(len(labels)):\n",
        "  print(label_encoder.classes_[i], \"is encoded as: \", i)"
      ],
      "metadata": {
        "colab": {
          "base_uri": "https://localhost:8080/"
        },
        "id": "96TygxoF3n9x",
        "outputId": "874a1236-1c5a-44ec-96fe-e0bb03f1dea4"
      },
      "execution_count": 23,
      "outputs": [
        {
          "output_type": "stream",
          "name": "stdout",
          "text": [
            "div is encoded as:  0\n",
            "eight is encoded as:  1\n",
            "five is encoded as:  2\n",
            "four is encoded as:  3\n",
            "minus is encoded as:  4\n",
            "nine is encoded as:  5\n",
            "one is encoded as:  6\n",
            "plus is encoded as:  7\n",
            "seven is encoded as:  8\n",
            "six is encoded as:  9\n",
            "three is encoded as:  10\n",
            "times is encoded as:  11\n",
            "two is encoded as:  12\n",
            "zero is encoded as:  13\n"
          ]
        }
      ]
    },
    {
      "cell_type": "code",
      "metadata": {
        "colab": {
          "base_uri": "https://localhost:8080/"
        },
        "id": "xInYDxfplL1A",
        "outputId": "569157ad-6028-4b0f-9690-1f76211243d4"
      },
      "source": [
        "print(\"y_train_temp shape: \", y_train_temp.shape)\n",
        "print(\"y_test_temp shape: \", y_test_temp.shape)"
      ],
      "execution_count": 24,
      "outputs": [
        {
          "output_type": "stream",
          "name": "stdout",
          "text": [
            "y_train_temp shape:  (6490,)\n",
            "y_test_temp shape:  (854,)\n"
          ]
        }
      ]
    },
    {
      "cell_type": "markdown",
      "metadata": {
        "id": "szZpQBXMlqmw"
      },
      "source": [
        "Next, we need to create a matrix labels list."
      ]
    },
    {
      "cell_type": "code",
      "metadata": {
        "colab": {
          "base_uri": "https://localhost:8080/"
        },
        "id": "NA1B63ovldaP",
        "outputId": "da76fc80-5307-4c14-f059-4cbcb8abc333"
      },
      "source": [
        "y_train = tf.keras.utils.to_categorical(y_train_temp, len(labels))\n",
        "y_test = tf.keras.utils.to_categorical(y_test_temp, len(labels))\n",
        "\n",
        "\n",
        "print(\"y_train shape: \", y_train.shape)\n",
        "print(\"y_test shape: \", y_test.shape)"
      ],
      "execution_count": 25,
      "outputs": [
        {
          "output_type": "stream",
          "name": "stdout",
          "text": [
            "y_train shape:  (6490, 14)\n",
            "y_test shape:  (854, 14)\n"
          ]
        }
      ]
    },
    {
      "cell_type": "markdown",
      "metadata": {
        "id": "PnltfTEwmJ-0"
      },
      "source": [
        "Now, everything is ready for creating our model. We will use sequential model, which means we can do it \"layer-by-layer\"."
      ]
    },
    {
      "cell_type": "code",
      "metadata": {
        "id": "mQZSL8Exmch4"
      },
      "source": [
        "model = Sequential()\n",
        "\n",
        "model.add(Conv2D(32, (3, 3), padding='same', input_shape=(135, 135, 3), activation=\"relu\"))\n",
        "model.add(Conv2D(32, (3, 3), activation=\"relu\"))\n",
        "\n",
        "# maxpooling will take highest value from a filter of 2*2 shape\n",
        "model.add(MaxPooling2D(pool_size=(2, 2)))\n",
        "\n",
        "# it will prevent overfitting by making it hard for the model to idenify the images\n",
        "model.add(Dropout(0.25))\n",
        "\n",
        "model.add(Conv2D(64, (3, 3), padding='same', activation=\"relu\"))\n",
        "model.add(Conv2D(64, (3, 3), activation=\"relu\"))\n",
        "model.add(MaxPooling2D(pool_size=(2, 2)))\n",
        "model.add(Dropout(0.25))\n",
        "\n",
        "model.add(Flatten())\n",
        "model.add(Dense(512, activation=\"relu\"))\n",
        "model.add(Dropout(0.5))\n",
        "\n",
        "# last layer predicts 14 labels\n",
        "model.add(Dense(len(labels), activation=\"softmax\"))"
      ],
      "execution_count": 26,
      "outputs": []
    },
    {
      "cell_type": "code",
      "metadata": {
        "colab": {
          "base_uri": "https://localhost:8080/"
        },
        "id": "76crXE9qmls4",
        "outputId": "dba352b4-2291-4da7-e6dc-70363aedce1b"
      },
      "source": [
        "# Compile the model\n",
        "model.compile(\n",
        "    loss='categorical_crossentropy',\n",
        "    optimizer=\"adam\",\n",
        "    metrics=['accuracy']\n",
        ")\n",
        "\n",
        "model.summary()"
      ],
      "execution_count": 27,
      "outputs": [
        {
          "output_type": "stream",
          "name": "stdout",
          "text": [
            "Model: \"sequential\"\n",
            "_________________________________________________________________\n",
            " Layer (type)                Output Shape              Param #   \n",
            "=================================================================\n",
            " conv2d (Conv2D)             (None, 135, 135, 32)      896       \n",
            "                                                                 \n",
            " conv2d_1 (Conv2D)           (None, 133, 133, 32)      9248      \n",
            "                                                                 \n",
            " max_pooling2d (MaxPooling2D  (None, 66, 66, 32)       0         \n",
            " )                                                               \n",
            "                                                                 \n",
            " dropout (Dropout)           (None, 66, 66, 32)        0         \n",
            "                                                                 \n",
            " conv2d_2 (Conv2D)           (None, 66, 66, 64)        18496     \n",
            "                                                                 \n",
            " conv2d_3 (Conv2D)           (None, 64, 64, 64)        36928     \n",
            "                                                                 \n",
            " max_pooling2d_1 (MaxPooling  (None, 32, 32, 64)       0         \n",
            " 2D)                                                             \n",
            "                                                                 \n",
            " dropout_1 (Dropout)         (None, 32, 32, 64)        0         \n",
            "                                                                 \n",
            " flatten (Flatten)           (None, 65536)             0         \n",
            "                                                                 \n",
            " dense (Dense)               (None, 512)               33554944  \n",
            "                                                                 \n",
            " dropout_2 (Dropout)         (None, 512)               0         \n",
            "                                                                 \n",
            " dense_1 (Dense)             (None, 14)                7182      \n",
            "                                                                 \n",
            "=================================================================\n",
            "Total params: 33,627,694\n",
            "Trainable params: 33,627,694\n",
            "Non-trainable params: 0\n",
            "_________________________________________________________________\n"
          ]
        }
      ]
    },
    {
      "cell_type": "markdown",
      "metadata": {
        "id": "ucss6KZXnhtN"
      },
      "source": [
        "Let's train model."
      ]
    },
    {
      "cell_type": "code",
      "metadata": {
        "colab": {
          "base_uri": "https://localhost:8080/"
        },
        "id": "QwnduoyundUg",
        "outputId": "f4a5fd58-3a93-4857-b951-2dec29e89ba9"
      },
      "source": [
        "history = model.fit(\n",
        "    X_train,\n",
        "    y_train,\n",
        "    batch_size=50,\n",
        "    epochs=200,\n",
        "    validation_split=0.2,\n",
        "    shuffle=True\n",
        ")"
      ],
      "execution_count": 28,
      "outputs": [
        {
          "output_type": "stream",
          "name": "stdout",
          "text": [
            "Epoch 1/200\n",
            "104/104 [==============================] - 31s 179ms/step - loss: 1.9860 - accuracy: 0.3631 - val_loss: 12.7332 - val_accuracy: 0.1626\n",
            "Epoch 2/200\n",
            "104/104 [==============================] - 16s 152ms/step - loss: 0.8399 - accuracy: 0.7411 - val_loss: 15.6130 - val_accuracy: 0.1841\n",
            "Epoch 3/200\n",
            "104/104 [==============================] - 16s 151ms/step - loss: 0.4358 - accuracy: 0.8648 - val_loss: 17.8723 - val_accuracy: 0.1918\n",
            "Epoch 4/200\n",
            "104/104 [==============================] - 16s 151ms/step - loss: 0.2997 - accuracy: 0.9049 - val_loss: 18.4546 - val_accuracy: 0.1988\n",
            "Epoch 5/200\n",
            "104/104 [==============================] - 16s 151ms/step - loss: 0.1859 - accuracy: 0.9393 - val_loss: 21.6545 - val_accuracy: 0.2180\n",
            "Epoch 6/200\n",
            "104/104 [==============================] - 16s 151ms/step - loss: 0.1325 - accuracy: 0.9551 - val_loss: 23.6061 - val_accuracy: 0.2288\n",
            "Epoch 7/200\n",
            "104/104 [==============================] - 16s 151ms/step - loss: 0.1093 - accuracy: 0.9646 - val_loss: 24.9397 - val_accuracy: 0.2242\n",
            "Epoch 8/200\n",
            "104/104 [==============================] - 16s 151ms/step - loss: 0.0802 - accuracy: 0.9730 - val_loss: 26.4066 - val_accuracy: 0.2149\n",
            "Epoch 9/200\n",
            "104/104 [==============================] - 16s 151ms/step - loss: 0.0600 - accuracy: 0.9794 - val_loss: 28.3835 - val_accuracy: 0.2196\n",
            "Epoch 10/200\n",
            "104/104 [==============================] - 16s 152ms/step - loss: 0.0627 - accuracy: 0.9794 - val_loss: 28.0470 - val_accuracy: 0.2265\n",
            "Epoch 11/200\n",
            "104/104 [==============================] - 16s 151ms/step - loss: 0.0571 - accuracy: 0.9813 - val_loss: 27.8549 - val_accuracy: 0.2273\n",
            "Epoch 12/200\n",
            "104/104 [==============================] - 16s 151ms/step - loss: 0.0483 - accuracy: 0.9836 - val_loss: 29.7693 - val_accuracy: 0.2280\n",
            "Epoch 13/200\n",
            "104/104 [==============================] - 16s 151ms/step - loss: 0.0349 - accuracy: 0.9894 - val_loss: 28.6781 - val_accuracy: 0.2242\n",
            "Epoch 14/200\n",
            "104/104 [==============================] - 16s 150ms/step - loss: 0.0367 - accuracy: 0.9871 - val_loss: 28.1275 - val_accuracy: 0.2227\n",
            "Epoch 15/200\n",
            "104/104 [==============================] - 16s 152ms/step - loss: 0.0366 - accuracy: 0.9879 - val_loss: 31.3001 - val_accuracy: 0.2196\n",
            "Epoch 16/200\n",
            "104/104 [==============================] - 16s 151ms/step - loss: 0.0333 - accuracy: 0.9890 - val_loss: 30.2666 - val_accuracy: 0.2327\n",
            "Epoch 17/200\n",
            "104/104 [==============================] - 16s 150ms/step - loss: 0.0355 - accuracy: 0.9883 - val_loss: 27.0720 - val_accuracy: 0.2173\n",
            "Epoch 18/200\n",
            "104/104 [==============================] - 16s 152ms/step - loss: 0.0250 - accuracy: 0.9927 - val_loss: 30.3031 - val_accuracy: 0.2265\n",
            "Epoch 19/200\n",
            "104/104 [==============================] - 16s 151ms/step - loss: 0.0312 - accuracy: 0.9883 - val_loss: 30.0814 - val_accuracy: 0.2265\n",
            "Epoch 20/200\n",
            "104/104 [==============================] - 16s 151ms/step - loss: 0.0373 - accuracy: 0.9888 - val_loss: 29.8326 - val_accuracy: 0.2234\n",
            "Epoch 21/200\n",
            "104/104 [==============================] - 16s 150ms/step - loss: 0.0151 - accuracy: 0.9944 - val_loss: 34.7628 - val_accuracy: 0.2142\n",
            "Epoch 22/200\n",
            "104/104 [==============================] - 16s 151ms/step - loss: 0.0274 - accuracy: 0.9919 - val_loss: 30.8656 - val_accuracy: 0.2142\n",
            "Epoch 23/200\n",
            "104/104 [==============================] - 16s 150ms/step - loss: 0.0207 - accuracy: 0.9923 - val_loss: 34.5994 - val_accuracy: 0.2165\n",
            "Epoch 24/200\n",
            "104/104 [==============================] - 16s 150ms/step - loss: 0.0316 - accuracy: 0.9906 - val_loss: 26.5568 - val_accuracy: 0.2134\n",
            "Epoch 25/200\n",
            "104/104 [==============================] - 16s 151ms/step - loss: 0.0255 - accuracy: 0.9913 - val_loss: 30.3083 - val_accuracy: 0.2227\n",
            "Epoch 26/200\n",
            "104/104 [==============================] - 16s 151ms/step - loss: 0.0164 - accuracy: 0.9942 - val_loss: 33.4583 - val_accuracy: 0.2219\n",
            "Epoch 27/200\n",
            "104/104 [==============================] - 16s 151ms/step - loss: 0.0194 - accuracy: 0.9940 - val_loss: 33.8442 - val_accuracy: 0.2227\n",
            "Epoch 28/200\n",
            "104/104 [==============================] - 16s 150ms/step - loss: 0.0268 - accuracy: 0.9921 - val_loss: 26.2660 - val_accuracy: 0.2165\n",
            "Epoch 29/200\n",
            "104/104 [==============================] - 16s 151ms/step - loss: 0.0297 - accuracy: 0.9904 - val_loss: 25.7154 - val_accuracy: 0.2319\n",
            "Epoch 30/200\n",
            "104/104 [==============================] - 16s 151ms/step - loss: 0.0264 - accuracy: 0.9921 - val_loss: 27.9380 - val_accuracy: 0.2196\n",
            "Epoch 31/200\n",
            "104/104 [==============================] - 16s 151ms/step - loss: 0.0142 - accuracy: 0.9956 - val_loss: 28.3109 - val_accuracy: 0.2242\n",
            "Epoch 32/200\n",
            "104/104 [==============================] - 16s 150ms/step - loss: 0.0189 - accuracy: 0.9950 - val_loss: 27.7711 - val_accuracy: 0.2242\n",
            "Epoch 33/200\n",
            "104/104 [==============================] - 16s 150ms/step - loss: 0.0172 - accuracy: 0.9948 - val_loss: 27.6826 - val_accuracy: 0.2280\n",
            "Epoch 34/200\n",
            "104/104 [==============================] - 16s 151ms/step - loss: 0.0161 - accuracy: 0.9935 - val_loss: 29.3945 - val_accuracy: 0.2257\n",
            "Epoch 35/200\n",
            "104/104 [==============================] - 16s 151ms/step - loss: 0.0127 - accuracy: 0.9960 - val_loss: 33.4620 - val_accuracy: 0.2219\n",
            "Epoch 36/200\n",
            "104/104 [==============================] - 16s 150ms/step - loss: 0.0192 - accuracy: 0.9956 - val_loss: 30.1501 - val_accuracy: 0.2265\n",
            "Epoch 37/200\n",
            "104/104 [==============================] - 16s 150ms/step - loss: 0.0213 - accuracy: 0.9935 - val_loss: 30.6533 - val_accuracy: 0.2188\n",
            "Epoch 38/200\n",
            "104/104 [==============================] - 16s 150ms/step - loss: 0.0079 - accuracy: 0.9981 - val_loss: 34.2096 - val_accuracy: 0.2203\n",
            "Epoch 39/200\n",
            "104/104 [==============================] - 16s 150ms/step - loss: 0.0117 - accuracy: 0.9960 - val_loss: 28.9562 - val_accuracy: 0.2280\n",
            "Epoch 40/200\n",
            "104/104 [==============================] - 16s 150ms/step - loss: 0.0122 - accuracy: 0.9954 - val_loss: 32.9514 - val_accuracy: 0.2288\n",
            "Epoch 41/200\n",
            "104/104 [==============================] - 16s 150ms/step - loss: 0.0135 - accuracy: 0.9965 - val_loss: 32.1140 - val_accuracy: 0.2273\n",
            "Epoch 42/200\n",
            "104/104 [==============================] - 16s 150ms/step - loss: 0.0175 - accuracy: 0.9940 - val_loss: 32.4880 - val_accuracy: 0.2273\n",
            "Epoch 43/200\n",
            "104/104 [==============================] - 16s 150ms/step - loss: 0.0113 - accuracy: 0.9965 - val_loss: 36.4803 - val_accuracy: 0.2288\n",
            "Epoch 44/200\n",
            "104/104 [==============================] - 16s 150ms/step - loss: 0.0134 - accuracy: 0.9961 - val_loss: 30.3512 - val_accuracy: 0.2311\n",
            "Epoch 45/200\n",
            "104/104 [==============================] - 16s 150ms/step - loss: 0.0224 - accuracy: 0.9925 - val_loss: 32.7260 - val_accuracy: 0.2304\n",
            "Epoch 46/200\n",
            "104/104 [==============================] - 16s 150ms/step - loss: 0.0152 - accuracy: 0.9948 - val_loss: 29.5435 - val_accuracy: 0.2311\n",
            "Epoch 47/200\n",
            "104/104 [==============================] - 16s 150ms/step - loss: 0.0122 - accuracy: 0.9956 - val_loss: 30.9561 - val_accuracy: 0.2188\n",
            "Epoch 48/200\n",
            "104/104 [==============================] - 16s 150ms/step - loss: 0.0203 - accuracy: 0.9927 - val_loss: 34.2935 - val_accuracy: 0.2311\n",
            "Epoch 49/200\n",
            "104/104 [==============================] - 16s 150ms/step - loss: 0.0134 - accuracy: 0.9956 - val_loss: 33.4339 - val_accuracy: 0.2165\n",
            "Epoch 50/200\n",
            "104/104 [==============================] - 16s 150ms/step - loss: 0.0118 - accuracy: 0.9961 - val_loss: 27.1402 - val_accuracy: 0.2296\n",
            "Epoch 51/200\n",
            "104/104 [==============================] - 16s 150ms/step - loss: 0.0225 - accuracy: 0.9931 - val_loss: 28.0327 - val_accuracy: 0.2188\n",
            "Epoch 52/200\n",
            "104/104 [==============================] - 16s 150ms/step - loss: 0.0131 - accuracy: 0.9944 - val_loss: 26.7333 - val_accuracy: 0.2203\n",
            "Epoch 53/200\n",
            "104/104 [==============================] - 16s 150ms/step - loss: 0.0112 - accuracy: 0.9961 - val_loss: 31.4183 - val_accuracy: 0.2257\n",
            "Epoch 54/200\n",
            "104/104 [==============================] - 16s 150ms/step - loss: 0.0080 - accuracy: 0.9973 - val_loss: 32.9322 - val_accuracy: 0.2157\n",
            "Epoch 55/200\n",
            "104/104 [==============================] - 16s 150ms/step - loss: 0.0062 - accuracy: 0.9979 - val_loss: 36.0963 - val_accuracy: 0.2234\n",
            "Epoch 56/200\n",
            "104/104 [==============================] - 16s 150ms/step - loss: 0.0110 - accuracy: 0.9952 - val_loss: 40.9732 - val_accuracy: 0.2157\n",
            "Epoch 57/200\n",
            "104/104 [==============================] - 16s 150ms/step - loss: 0.0083 - accuracy: 0.9973 - val_loss: 35.7741 - val_accuracy: 0.2311\n",
            "Epoch 58/200\n",
            "104/104 [==============================] - 16s 151ms/step - loss: 0.0291 - accuracy: 0.9923 - val_loss: 28.2015 - val_accuracy: 0.2242\n",
            "Epoch 59/200\n",
            "104/104 [==============================] - 16s 149ms/step - loss: 0.0193 - accuracy: 0.9935 - val_loss: 28.7517 - val_accuracy: 0.2227\n",
            "Epoch 60/200\n",
            "104/104 [==============================] - 16s 150ms/step - loss: 0.0083 - accuracy: 0.9977 - val_loss: 33.6974 - val_accuracy: 0.2257\n",
            "Epoch 61/200\n",
            "104/104 [==============================] - 16s 150ms/step - loss: 0.0076 - accuracy: 0.9975 - val_loss: 37.6375 - val_accuracy: 0.2342\n",
            "Epoch 62/200\n",
            "104/104 [==============================] - 16s 150ms/step - loss: 0.0127 - accuracy: 0.9963 - val_loss: 29.4910 - val_accuracy: 0.2288\n",
            "Epoch 63/200\n",
            "104/104 [==============================] - 16s 150ms/step - loss: 0.0102 - accuracy: 0.9963 - val_loss: 29.5230 - val_accuracy: 0.2188\n",
            "Epoch 64/200\n",
            "104/104 [==============================] - 16s 150ms/step - loss: 0.0103 - accuracy: 0.9971 - val_loss: 30.4307 - val_accuracy: 0.2219\n",
            "Epoch 65/200\n",
            "104/104 [==============================] - 16s 150ms/step - loss: 0.0089 - accuracy: 0.9973 - val_loss: 26.6768 - val_accuracy: 0.2304\n",
            "Epoch 66/200\n",
            "104/104 [==============================] - 16s 150ms/step - loss: 0.0074 - accuracy: 0.9973 - val_loss: 37.5522 - val_accuracy: 0.2265\n",
            "Epoch 67/200\n",
            "104/104 [==============================] - 16s 151ms/step - loss: 0.0077 - accuracy: 0.9971 - val_loss: 30.8411 - val_accuracy: 0.2250\n",
            "Epoch 68/200\n",
            "104/104 [==============================] - 16s 149ms/step - loss: 0.0081 - accuracy: 0.9963 - val_loss: 33.1701 - val_accuracy: 0.2257\n",
            "Epoch 69/200\n",
            "104/104 [==============================] - 16s 150ms/step - loss: 0.0094 - accuracy: 0.9967 - val_loss: 30.4374 - val_accuracy: 0.2381\n",
            "Epoch 70/200\n",
            "104/104 [==============================] - 16s 149ms/step - loss: 0.0092 - accuracy: 0.9973 - val_loss: 33.3196 - val_accuracy: 0.2319\n",
            "Epoch 71/200\n",
            "104/104 [==============================] - 16s 152ms/step - loss: 0.0082 - accuracy: 0.9977 - val_loss: 32.5199 - val_accuracy: 0.2288\n",
            "Epoch 72/200\n",
            "104/104 [==============================] - 16s 150ms/step - loss: 0.0053 - accuracy: 0.9987 - val_loss: 34.0372 - val_accuracy: 0.2288\n",
            "Epoch 73/200\n",
            "104/104 [==============================] - 16s 150ms/step - loss: 0.0065 - accuracy: 0.9971 - val_loss: 33.9753 - val_accuracy: 0.2311\n",
            "Epoch 74/200\n",
            "104/104 [==============================] - 16s 150ms/step - loss: 0.0066 - accuracy: 0.9981 - val_loss: 32.2558 - val_accuracy: 0.2304\n",
            "Epoch 75/200\n",
            "104/104 [==============================] - 16s 150ms/step - loss: 0.0081 - accuracy: 0.9975 - val_loss: 35.4621 - val_accuracy: 0.2273\n",
            "Epoch 76/200\n",
            "104/104 [==============================] - 16s 150ms/step - loss: 0.0068 - accuracy: 0.9971 - val_loss: 39.6041 - val_accuracy: 0.2149\n",
            "Epoch 77/200\n",
            "104/104 [==============================] - 16s 150ms/step - loss: 0.0140 - accuracy: 0.9954 - val_loss: 29.6340 - val_accuracy: 0.2234\n",
            "Epoch 78/200\n",
            "104/104 [==============================] - 16s 150ms/step - loss: 0.0084 - accuracy: 0.9973 - val_loss: 34.8899 - val_accuracy: 0.2188\n",
            "Epoch 79/200\n",
            "104/104 [==============================] - 16s 150ms/step - loss: 0.0084 - accuracy: 0.9973 - val_loss: 32.7239 - val_accuracy: 0.2227\n",
            "Epoch 80/200\n",
            "104/104 [==============================] - 16s 151ms/step - loss: 0.0094 - accuracy: 0.9977 - val_loss: 31.3936 - val_accuracy: 0.2304\n",
            "Epoch 81/200\n",
            "104/104 [==============================] - 16s 150ms/step - loss: 0.0050 - accuracy: 0.9985 - val_loss: 33.3097 - val_accuracy: 0.2211\n",
            "Epoch 82/200\n",
            "104/104 [==============================] - 16s 150ms/step - loss: 0.0042 - accuracy: 0.9985 - val_loss: 44.6409 - val_accuracy: 0.2242\n",
            "Epoch 83/200\n",
            "104/104 [==============================] - 16s 150ms/step - loss: 0.0210 - accuracy: 0.9952 - val_loss: 31.2709 - val_accuracy: 0.2288\n",
            "Epoch 84/200\n",
            "104/104 [==============================] - 16s 150ms/step - loss: 0.0148 - accuracy: 0.9963 - val_loss: 28.5073 - val_accuracy: 0.2219\n",
            "Epoch 85/200\n",
            "104/104 [==============================] - 16s 150ms/step - loss: 0.0082 - accuracy: 0.9977 - val_loss: 29.0067 - val_accuracy: 0.2257\n",
            "Epoch 86/200\n",
            "104/104 [==============================] - 16s 150ms/step - loss: 0.0038 - accuracy: 0.9988 - val_loss: 33.4137 - val_accuracy: 0.2227\n",
            "Epoch 87/200\n",
            "104/104 [==============================] - 16s 152ms/step - loss: 0.0024 - accuracy: 0.9992 - val_loss: 33.6655 - val_accuracy: 0.2273\n",
            "Epoch 88/200\n",
            "104/104 [==============================] - 16s 151ms/step - loss: 0.0053 - accuracy: 0.9979 - val_loss: 29.7315 - val_accuracy: 0.2288\n",
            "Epoch 89/200\n",
            "104/104 [==============================] - 16s 150ms/step - loss: 0.0071 - accuracy: 0.9977 - val_loss: 33.6873 - val_accuracy: 0.2288\n",
            "Epoch 90/200\n",
            "104/104 [==============================] - 16s 150ms/step - loss: 0.0053 - accuracy: 0.9983 - val_loss: 30.9624 - val_accuracy: 0.2250\n",
            "Epoch 91/200\n",
            "104/104 [==============================] - 16s 150ms/step - loss: 0.0050 - accuracy: 0.9981 - val_loss: 40.2488 - val_accuracy: 0.2296\n",
            "Epoch 92/200\n",
            "104/104 [==============================] - 16s 150ms/step - loss: 0.0142 - accuracy: 0.9967 - val_loss: 31.0639 - val_accuracy: 0.2327\n",
            "Epoch 93/200\n",
            "104/104 [==============================] - 16s 150ms/step - loss: 0.0085 - accuracy: 0.9967 - val_loss: 38.3881 - val_accuracy: 0.2265\n",
            "Epoch 94/200\n",
            "104/104 [==============================] - 16s 150ms/step - loss: 0.0052 - accuracy: 0.9983 - val_loss: 33.9311 - val_accuracy: 0.2188\n",
            "Epoch 95/200\n",
            "104/104 [==============================] - 16s 150ms/step - loss: 0.0065 - accuracy: 0.9973 - val_loss: 37.9546 - val_accuracy: 0.2234\n",
            "Epoch 96/200\n",
            "104/104 [==============================] - 16s 150ms/step - loss: 0.0049 - accuracy: 0.9988 - val_loss: 37.9261 - val_accuracy: 0.2219\n",
            "Epoch 97/200\n",
            "104/104 [==============================] - 16s 150ms/step - loss: 0.0046 - accuracy: 0.9992 - val_loss: 34.9046 - val_accuracy: 0.2227\n",
            "Epoch 98/200\n",
            "104/104 [==============================] - 16s 151ms/step - loss: 0.0049 - accuracy: 0.9988 - val_loss: 33.3301 - val_accuracy: 0.2211\n",
            "Epoch 99/200\n",
            "104/104 [==============================] - 16s 150ms/step - loss: 0.0056 - accuracy: 0.9979 - val_loss: 38.9616 - val_accuracy: 0.2180\n",
            "Epoch 100/200\n",
            "104/104 [==============================] - 16s 150ms/step - loss: 0.0024 - accuracy: 0.9990 - val_loss: 38.2389 - val_accuracy: 0.2250\n",
            "Epoch 101/200\n",
            "104/104 [==============================] - 16s 151ms/step - loss: 0.0050 - accuracy: 0.9981 - val_loss: 41.3405 - val_accuracy: 0.2327\n",
            "Epoch 102/200\n",
            "104/104 [==============================] - 16s 150ms/step - loss: 0.0096 - accuracy: 0.9971 - val_loss: 33.5413 - val_accuracy: 0.2203\n",
            "Epoch 103/200\n",
            "104/104 [==============================] - 16s 150ms/step - loss: 0.0115 - accuracy: 0.9963 - val_loss: 46.0602 - val_accuracy: 0.2211\n",
            "Epoch 104/200\n",
            "104/104 [==============================] - 16s 150ms/step - loss: 0.0125 - accuracy: 0.9969 - val_loss: 37.3189 - val_accuracy: 0.2350\n",
            "Epoch 105/200\n",
            "104/104 [==============================] - 16s 150ms/step - loss: 0.0059 - accuracy: 0.9981 - val_loss: 38.1205 - val_accuracy: 0.2242\n",
            "Epoch 106/200\n",
            "104/104 [==============================] - 16s 150ms/step - loss: 0.0109 - accuracy: 0.9960 - val_loss: 38.3972 - val_accuracy: 0.2219\n",
            "Epoch 107/200\n",
            "104/104 [==============================] - 16s 149ms/step - loss: 0.0084 - accuracy: 0.9967 - val_loss: 35.9247 - val_accuracy: 0.2227\n",
            "Epoch 108/200\n",
            "104/104 [==============================] - 16s 151ms/step - loss: 0.0055 - accuracy: 0.9983 - val_loss: 33.6734 - val_accuracy: 0.2280\n",
            "Epoch 109/200\n",
            "104/104 [==============================] - 16s 150ms/step - loss: 0.0034 - accuracy: 0.9983 - val_loss: 35.4491 - val_accuracy: 0.2319\n",
            "Epoch 110/200\n",
            "104/104 [==============================] - 16s 150ms/step - loss: 0.0018 - accuracy: 0.9994 - val_loss: 37.9583 - val_accuracy: 0.2304\n",
            "Epoch 111/200\n",
            "104/104 [==============================] - 16s 150ms/step - loss: 0.0032 - accuracy: 0.9987 - val_loss: 32.0221 - val_accuracy: 0.2357\n",
            "Epoch 112/200\n",
            "104/104 [==============================] - 16s 150ms/step - loss: 0.0066 - accuracy: 0.9983 - val_loss: 34.3490 - val_accuracy: 0.2227\n",
            "Epoch 113/200\n",
            "104/104 [==============================] - 16s 150ms/step - loss: 0.0039 - accuracy: 0.9983 - val_loss: 39.3312 - val_accuracy: 0.2319\n",
            "Epoch 114/200\n",
            "104/104 [==============================] - 16s 150ms/step - loss: 0.0058 - accuracy: 0.9990 - val_loss: 35.1378 - val_accuracy: 0.2165\n",
            "Epoch 115/200\n",
            "104/104 [==============================] - 16s 150ms/step - loss: 0.0091 - accuracy: 0.9969 - val_loss: 36.0371 - val_accuracy: 0.2257\n",
            "Epoch 116/200\n",
            "104/104 [==============================] - 16s 149ms/step - loss: 0.0033 - accuracy: 0.9988 - val_loss: 38.2639 - val_accuracy: 0.2242\n",
            "Epoch 117/200\n",
            "104/104 [==============================] - 16s 150ms/step - loss: 0.0043 - accuracy: 0.9987 - val_loss: 33.5865 - val_accuracy: 0.2296\n",
            "Epoch 118/200\n",
            "104/104 [==============================] - 16s 151ms/step - loss: 0.0016 - accuracy: 0.9994 - val_loss: 42.8683 - val_accuracy: 0.2280\n",
            "Epoch 119/200\n",
            "104/104 [==============================] - 16s 150ms/step - loss: 0.0072 - accuracy: 0.9981 - val_loss: 35.9228 - val_accuracy: 0.2342\n",
            "Epoch 120/200\n",
            "104/104 [==============================] - 16s 150ms/step - loss: 0.0019 - accuracy: 0.9992 - val_loss: 34.5875 - val_accuracy: 0.2311\n",
            "Epoch 121/200\n",
            "104/104 [==============================] - 16s 150ms/step - loss: 0.0053 - accuracy: 0.9981 - val_loss: 38.2261 - val_accuracy: 0.2319\n",
            "Epoch 122/200\n",
            "104/104 [==============================] - 16s 150ms/step - loss: 0.0080 - accuracy: 0.9981 - val_loss: 35.5630 - val_accuracy: 0.2311\n",
            "Epoch 123/200\n",
            "104/104 [==============================] - 16s 150ms/step - loss: 0.0038 - accuracy: 0.9990 - val_loss: 40.2079 - val_accuracy: 0.2242\n",
            "Epoch 124/200\n",
            "104/104 [==============================] - 16s 150ms/step - loss: 0.0052 - accuracy: 0.9983 - val_loss: 39.8150 - val_accuracy: 0.2165\n",
            "Epoch 125/200\n",
            "104/104 [==============================] - 16s 150ms/step - loss: 0.0064 - accuracy: 0.9979 - val_loss: 33.0821 - val_accuracy: 0.2334\n",
            "Epoch 126/200\n",
            "104/104 [==============================] - 16s 150ms/step - loss: 0.0156 - accuracy: 0.9967 - val_loss: 39.5868 - val_accuracy: 0.2219\n",
            "Epoch 127/200\n",
            "104/104 [==============================] - 16s 151ms/step - loss: 0.0058 - accuracy: 0.9983 - val_loss: 33.8531 - val_accuracy: 0.2334\n",
            "Epoch 128/200\n",
            "104/104 [==============================] - 16s 151ms/step - loss: 0.0151 - accuracy: 0.9961 - val_loss: 27.5719 - val_accuracy: 0.2304\n",
            "Epoch 129/200\n",
            "104/104 [==============================] - 16s 149ms/step - loss: 0.0038 - accuracy: 0.9988 - val_loss: 30.9734 - val_accuracy: 0.2311\n",
            "Epoch 130/200\n",
            "104/104 [==============================] - 16s 150ms/step - loss: 0.0027 - accuracy: 0.9988 - val_loss: 35.6370 - val_accuracy: 0.2211\n",
            "Epoch 131/200\n",
            "104/104 [==============================] - 16s 150ms/step - loss: 0.0036 - accuracy: 0.9987 - val_loss: 34.8582 - val_accuracy: 0.2288\n",
            "Epoch 132/200\n",
            "104/104 [==============================] - 16s 150ms/step - loss: 0.0039 - accuracy: 0.9985 - val_loss: 30.0721 - val_accuracy: 0.2296\n",
            "Epoch 133/200\n",
            "104/104 [==============================] - 16s 150ms/step - loss: 0.0033 - accuracy: 0.9987 - val_loss: 32.2742 - val_accuracy: 0.2311\n",
            "Epoch 134/200\n",
            "104/104 [==============================] - 16s 150ms/step - loss: 0.0055 - accuracy: 0.9983 - val_loss: 35.2193 - val_accuracy: 0.2288\n",
            "Epoch 135/200\n",
            "104/104 [==============================] - 16s 150ms/step - loss: 0.0078 - accuracy: 0.9977 - val_loss: 26.7230 - val_accuracy: 0.2280\n",
            "Epoch 136/200\n",
            "104/104 [==============================] - 16s 150ms/step - loss: 0.0027 - accuracy: 0.9992 - val_loss: 30.4945 - val_accuracy: 0.2242\n",
            "Epoch 137/200\n",
            "104/104 [==============================] - 16s 150ms/step - loss: 0.0020 - accuracy: 0.9992 - val_loss: 31.9976 - val_accuracy: 0.2142\n",
            "Epoch 138/200\n",
            "104/104 [==============================] - 16s 151ms/step - loss: 0.0026 - accuracy: 0.9990 - val_loss: 33.5895 - val_accuracy: 0.2165\n",
            "Epoch 139/200\n",
            "104/104 [==============================] - 16s 150ms/step - loss: 0.0027 - accuracy: 0.9988 - val_loss: 38.9080 - val_accuracy: 0.2103\n",
            "Epoch 140/200\n",
            "104/104 [==============================] - 16s 150ms/step - loss: 0.0058 - accuracy: 0.9992 - val_loss: 29.0516 - val_accuracy: 0.2211\n",
            "Epoch 141/200\n",
            "104/104 [==============================] - 16s 150ms/step - loss: 0.0025 - accuracy: 0.9990 - val_loss: 37.2104 - val_accuracy: 0.2072\n",
            "Epoch 142/200\n",
            "104/104 [==============================] - 16s 150ms/step - loss: 0.0060 - accuracy: 0.9977 - val_loss: 36.8123 - val_accuracy: 0.2173\n",
            "Epoch 143/200\n",
            "104/104 [==============================] - 16s 150ms/step - loss: 0.0105 - accuracy: 0.9969 - val_loss: 35.8565 - val_accuracy: 0.2203\n",
            "Epoch 144/200\n",
            "104/104 [==============================] - 16s 150ms/step - loss: 0.0119 - accuracy: 0.9973 - val_loss: 27.8445 - val_accuracy: 0.2296\n",
            "Epoch 145/200\n",
            "104/104 [==============================] - 16s 149ms/step - loss: 0.0053 - accuracy: 0.9987 - val_loss: 30.2565 - val_accuracy: 0.2273\n",
            "Epoch 146/200\n",
            "104/104 [==============================] - 16s 150ms/step - loss: 0.0033 - accuracy: 0.9992 - val_loss: 33.8082 - val_accuracy: 0.2250\n",
            "Epoch 147/200\n",
            "104/104 [==============================] - 16s 151ms/step - loss: 0.0039 - accuracy: 0.9992 - val_loss: 30.5517 - val_accuracy: 0.2234\n",
            "Epoch 148/200\n",
            "104/104 [==============================] - 16s 150ms/step - loss: 0.0028 - accuracy: 0.9987 - val_loss: 28.8031 - val_accuracy: 0.2250\n",
            "Epoch 149/200\n",
            "104/104 [==============================] - 16s 150ms/step - loss: 0.0032 - accuracy: 0.9983 - val_loss: 37.2232 - val_accuracy: 0.2211\n",
            "Epoch 150/200\n",
            "104/104 [==============================] - 16s 151ms/step - loss: 0.0036 - accuracy: 0.9985 - val_loss: 36.8999 - val_accuracy: 0.2149\n",
            "Epoch 151/200\n",
            "104/104 [==============================] - 16s 150ms/step - loss: 0.0029 - accuracy: 0.9988 - val_loss: 38.8964 - val_accuracy: 0.2219\n",
            "Epoch 152/200\n",
            "104/104 [==============================] - 16s 150ms/step - loss: 0.0027 - accuracy: 0.9987 - val_loss: 39.3261 - val_accuracy: 0.2227\n",
            "Epoch 153/200\n",
            "104/104 [==============================] - 16s 150ms/step - loss: 0.0039 - accuracy: 0.9994 - val_loss: 37.3429 - val_accuracy: 0.2273\n",
            "Epoch 154/200\n",
            "104/104 [==============================] - 16s 150ms/step - loss: 0.0022 - accuracy: 0.9990 - val_loss: 41.1019 - val_accuracy: 0.2203\n",
            "Epoch 155/200\n",
            "104/104 [==============================] - 16s 150ms/step - loss: 0.0087 - accuracy: 0.9983 - val_loss: 37.5352 - val_accuracy: 0.2119\n",
            "Epoch 156/200\n",
            "104/104 [==============================] - 16s 150ms/step - loss: 0.0061 - accuracy: 0.9975 - val_loss: 35.1106 - val_accuracy: 0.2257\n",
            "Epoch 157/200\n",
            "104/104 [==============================] - 16s 150ms/step - loss: 0.0053 - accuracy: 0.9987 - val_loss: 33.6025 - val_accuracy: 0.2142\n",
            "Epoch 158/200\n",
            "104/104 [==============================] - 16s 150ms/step - loss: 0.0027 - accuracy: 0.9990 - val_loss: 37.7224 - val_accuracy: 0.2227\n",
            "Epoch 159/200\n",
            "104/104 [==============================] - 16s 151ms/step - loss: 0.0067 - accuracy: 0.9981 - val_loss: 31.6865 - val_accuracy: 0.2188\n",
            "Epoch 160/200\n",
            "104/104 [==============================] - 16s 150ms/step - loss: 0.0011 - accuracy: 0.9996 - val_loss: 38.6473 - val_accuracy: 0.2219\n",
            "Epoch 161/200\n",
            "104/104 [==============================] - 16s 150ms/step - loss: 7.3028e-04 - accuracy: 0.9996 - val_loss: 41.7867 - val_accuracy: 0.2234\n",
            "Epoch 162/200\n",
            "104/104 [==============================] - 16s 150ms/step - loss: 0.0039 - accuracy: 0.9990 - val_loss: 38.0034 - val_accuracy: 0.2234\n",
            "Epoch 163/200\n",
            "104/104 [==============================] - 16s 150ms/step - loss: 0.0062 - accuracy: 0.9985 - val_loss: 35.0553 - val_accuracy: 0.2296\n",
            "Epoch 164/200\n",
            "104/104 [==============================] - 16s 150ms/step - loss: 0.0028 - accuracy: 0.9992 - val_loss: 36.1456 - val_accuracy: 0.2242\n",
            "Epoch 165/200\n",
            "104/104 [==============================] - 16s 150ms/step - loss: 0.0011 - accuracy: 0.9994 - val_loss: 36.2167 - val_accuracy: 0.2242\n",
            "Epoch 166/200\n",
            "104/104 [==============================] - 16s 150ms/step - loss: 0.0045 - accuracy: 0.9987 - val_loss: 29.8666 - val_accuracy: 0.2280\n",
            "Epoch 167/200\n",
            "104/104 [==============================] - 16s 151ms/step - loss: 0.0038 - accuracy: 0.9992 - val_loss: 35.9382 - val_accuracy: 0.2265\n",
            "Epoch 168/200\n",
            "104/104 [==============================] - 16s 151ms/step - loss: 0.0015 - accuracy: 0.9994 - val_loss: 36.2631 - val_accuracy: 0.2304\n",
            "Epoch 169/200\n",
            "104/104 [==============================] - 16s 150ms/step - loss: 0.0022 - accuracy: 0.9994 - val_loss: 38.3778 - val_accuracy: 0.2280\n",
            "Epoch 170/200\n",
            "104/104 [==============================] - 16s 150ms/step - loss: 0.0069 - accuracy: 0.9983 - val_loss: 39.9910 - val_accuracy: 0.2180\n",
            "Epoch 171/200\n",
            "104/104 [==============================] - 16s 150ms/step - loss: 0.0017 - accuracy: 0.9994 - val_loss: 38.4435 - val_accuracy: 0.2203\n",
            "Epoch 172/200\n",
            "104/104 [==============================] - 16s 150ms/step - loss: 0.0031 - accuracy: 0.9990 - val_loss: 39.5536 - val_accuracy: 0.2250\n",
            "Epoch 173/200\n",
            "104/104 [==============================] - 16s 150ms/step - loss: 0.0013 - accuracy: 0.9996 - val_loss: 41.2765 - val_accuracy: 0.2227\n",
            "Epoch 174/200\n",
            "104/104 [==============================] - 16s 150ms/step - loss: 0.0012 - accuracy: 0.9998 - val_loss: 41.8803 - val_accuracy: 0.2203\n",
            "Epoch 175/200\n",
            "104/104 [==============================] - 16s 151ms/step - loss: 0.0015 - accuracy: 0.9994 - val_loss: 41.8751 - val_accuracy: 0.2342\n",
            "Epoch 176/200\n",
            "104/104 [==============================] - 16s 150ms/step - loss: 0.0020 - accuracy: 0.9992 - val_loss: 47.3513 - val_accuracy: 0.2227\n",
            "Epoch 177/200\n",
            "104/104 [==============================] - 16s 151ms/step - loss: 0.0017 - accuracy: 0.9994 - val_loss: 39.1516 - val_accuracy: 0.2342\n",
            "Epoch 178/200\n",
            "104/104 [==============================] - 16s 151ms/step - loss: 0.0017 - accuracy: 0.9996 - val_loss: 45.5435 - val_accuracy: 0.2242\n",
            "Epoch 179/200\n",
            "104/104 [==============================] - 16s 150ms/step - loss: 0.0027 - accuracy: 0.9992 - val_loss: 39.1483 - val_accuracy: 0.2273\n",
            "Epoch 180/200\n",
            "104/104 [==============================] - 16s 151ms/step - loss: 0.0076 - accuracy: 0.9981 - val_loss: 37.1171 - val_accuracy: 0.2227\n",
            "Epoch 181/200\n",
            "104/104 [==============================] - 16s 150ms/step - loss: 0.0091 - accuracy: 0.9979 - val_loss: 35.3035 - val_accuracy: 0.2157\n",
            "Epoch 182/200\n",
            "104/104 [==============================] - 16s 150ms/step - loss: 0.0177 - accuracy: 0.9969 - val_loss: 48.7695 - val_accuracy: 0.2165\n",
            "Epoch 183/200\n",
            "104/104 [==============================] - 16s 150ms/step - loss: 0.0069 - accuracy: 0.9983 - val_loss: 39.1565 - val_accuracy: 0.2257\n",
            "Epoch 184/200\n",
            "104/104 [==============================] - 16s 150ms/step - loss: 0.0096 - accuracy: 0.9979 - val_loss: 39.0178 - val_accuracy: 0.2219\n",
            "Epoch 185/200\n",
            "104/104 [==============================] - 16s 150ms/step - loss: 0.0016 - accuracy: 0.9994 - val_loss: 40.5006 - val_accuracy: 0.2257\n",
            "Epoch 186/200\n",
            "104/104 [==============================] - 16s 150ms/step - loss: 0.0049 - accuracy: 0.9979 - val_loss: 38.8148 - val_accuracy: 0.2296\n",
            "Epoch 187/200\n",
            "104/104 [==============================] - 16s 151ms/step - loss: 0.0028 - accuracy: 0.9987 - val_loss: 41.8323 - val_accuracy: 0.2288\n",
            "Epoch 188/200\n",
            "104/104 [==============================] - 16s 150ms/step - loss: 0.0029 - accuracy: 0.9988 - val_loss: 40.3124 - val_accuracy: 0.2242\n",
            "Epoch 189/200\n",
            "104/104 [==============================] - 16s 150ms/step - loss: 0.0020 - accuracy: 0.9994 - val_loss: 39.7837 - val_accuracy: 0.2257\n",
            "Epoch 190/200\n",
            "104/104 [==============================] - 16s 150ms/step - loss: 0.0015 - accuracy: 0.9996 - val_loss: 41.0849 - val_accuracy: 0.2234\n",
            "Epoch 191/200\n",
            "104/104 [==============================] - 16s 151ms/step - loss: 0.0013 - accuracy: 0.9994 - val_loss: 46.9022 - val_accuracy: 0.2273\n",
            "Epoch 192/200\n",
            "104/104 [==============================] - 16s 151ms/step - loss: 0.0053 - accuracy: 0.9987 - val_loss: 40.8879 - val_accuracy: 0.2227\n",
            "Epoch 193/200\n",
            "104/104 [==============================] - 16s 150ms/step - loss: 0.0040 - accuracy: 0.9992 - val_loss: 35.4815 - val_accuracy: 0.2319\n",
            "Epoch 194/200\n",
            "104/104 [==============================] - 16s 152ms/step - loss: 0.0023 - accuracy: 0.9990 - val_loss: 36.0509 - val_accuracy: 0.2273\n",
            "Epoch 195/200\n",
            "104/104 [==============================] - 16s 151ms/step - loss: 0.0015 - accuracy: 0.9994 - val_loss: 36.7449 - val_accuracy: 0.2280\n",
            "Epoch 196/200\n",
            "104/104 [==============================] - 16s 150ms/step - loss: 0.0012 - accuracy: 0.9996 - val_loss: 38.8770 - val_accuracy: 0.2288\n",
            "Epoch 197/200\n",
            "104/104 [==============================] - 16s 151ms/step - loss: 0.0021 - accuracy: 0.9994 - val_loss: 35.6768 - val_accuracy: 0.2288\n",
            "Epoch 198/200\n",
            "104/104 [==============================] - 16s 151ms/step - loss: 0.0036 - accuracy: 0.9988 - val_loss: 37.3715 - val_accuracy: 0.2311\n",
            "Epoch 199/200\n",
            "104/104 [==============================] - 16s 150ms/step - loss: 0.0048 - accuracy: 0.9987 - val_loss: 40.9818 - val_accuracy: 0.2273\n",
            "Epoch 200/200\n",
            "104/104 [==============================] - 16s 151ms/step - loss: 0.0011 - accuracy: 0.9996 - val_loss: 51.1759 - val_accuracy: 0.2288\n"
          ]
        }
      ]
    },
    {
      "cell_type": "markdown",
      "metadata": {
        "id": "okVVdYC9nsbz"
      },
      "source": [
        "We will visualize the outcome and model loss."
      ]
    },
    {
      "cell_type": "code",
      "metadata": {
        "colab": {
          "base_uri": "https://localhost:8080/",
          "height": 295
        },
        "id": "J4RAZOWLnyIV",
        "outputId": "a362dd2a-babb-4a69-cc08-0f578eea7bdc"
      },
      "source": [
        "# displaying the model accuracy\n",
        "plt.plot(history.history['accuracy'], label='train', color=\"red\")\n",
        "plt.plot(history.history['val_accuracy'], label='validation', color=\"blue\")\n",
        "plt.title('Model accuracy')\n",
        "plt.legend(loc='upper left')\n",
        "plt.ylabel('accuracy')\n",
        "plt.xlabel('epoch')\n",
        "plt.show()"
      ],
      "execution_count": 29,
      "outputs": [
        {
          "output_type": "display_data",
          "data": {
            "image/png": "[encoded data removed]",
            "text/plain": [
              "<Figure size 432x288 with 1 Axes>"
            ]
          },
          "metadata": {
            "needs_background": "light"
          }
        }
      ]
    },
    {
      "cell_type": "code",
      "metadata": {
        "colab": {
          "base_uri": "https://localhost:8080/",
          "height": 295
        },
        "id": "7IAVgEe_n4tW",
        "outputId": "bb8157de-3077-4d11-e792-713cb73d1e4d"
      },
      "source": [
        "# displaying the model loss\n",
        "plt.plot(history.history['loss'], label='train', color=\"red\")\n",
        "plt.plot(history.history['val_loss'], label='validation', color=\"blue\")\n",
        "plt.title('Model loss')\n",
        "plt.legend(loc='upper left')\n",
        "plt.xlabel('epoch')\n",
        "plt.ylabel('loss')\n",
        "plt.show()"
      ],
      "execution_count": 30,
      "outputs": [
        {
          "output_type": "display_data",
          "data": {
            "image/png": "[encoded data removed]",
            "text/plain": [
              "<Figure size 432x288 with 1 Axes>"
            ]
          },
          "metadata": {
            "needs_background": "light"
          }
        }
      ]
    },
    {
      "cell_type": "code",
      "metadata": {
        "colab": {
          "base_uri": "https://localhost:8080/"
        },
        "id": "ejgCI3Vwn-ZF",
        "outputId": "3c42da45-5160-4c63-f841-b5d762ecca85"
      },
      "source": [
        "score, acc = model.evaluate(X_train, y_train)\n",
        "print('Train score:', score)\n",
        "print('Train accuracy:', acc)"
      ],
      "execution_count": 31,
      "outputs": [
        {
          "output_type": "stream",
          "name": "stdout",
          "text": [
            "203/203 [==============================] - 7s 33ms/step - loss: 10.2352 - accuracy: 0.8458\n",
            "Train score: 10.235199928283691\n",
            "Train accuracy: 0.8457627296447754\n"
          ]
        }
      ]
    },
    {
      "cell_type": "code",
      "metadata": {
        "colab": {
          "base_uri": "https://localhost:8080/"
        },
        "id": "yyGZQBSen7A-",
        "outputId": "fb493103-65dc-461c-cf75-fb87e215babd"
      },
      "source": [
        "score, acc = model.evaluate(X_test, y_test)\n",
        "print('Test score:', score)\n",
        "print('Test accuracy:', acc)"
      ],
      "execution_count": 32,
      "outputs": [
        {
          "output_type": "stream",
          "name": "stdout",
          "text": [
            "27/27 [==============================] - 1s 47ms/step - loss: 11.9627 - accuracy: 0.7963\n",
            "Test score: 11.962702751159668\n",
            "Test accuracy: 0.7962529063224792\n"
          ]
        }
      ]
    },
    {
      "cell_type": "markdown",
      "metadata": {
        "id": "welP9iPhoBmX"
      },
      "source": [
        "Now, let's see how model predicts."
      ]
    },
    {
      "cell_type": "code",
      "metadata": {
        "id": "hh-5iesvoBUk",
        "colab": {
          "base_uri": "https://localhost:8080/"
        },
        "outputId": "605046b3-f0a4-49ca-9c5f-ea96bcf804c5"
      },
      "source": [
        "pred = model.predict(X_test)\n",
        "pred"
      ],
      "execution_count": 33,
      "outputs": [
        {
          "output_type": "execute_result",
          "data": {
            "text/plain": [
              "array([[4.1568598e-28, 2.2945465e-05, 4.8797793e-19, ..., 9.9997711e-01,\n",
              "        1.0013192e-18, 1.6492492e-23],\n",
              "       [1.5208217e-37, 1.7785304e-21, 1.0528055e-26, ..., 1.0000000e+00,\n",
              "        5.7572244e-27, 5.7034447e-29],\n",
              "       [0.0000000e+00, 0.0000000e+00, 0.0000000e+00, ..., 1.0000000e+00,\n",
              "        0.0000000e+00, 0.0000000e+00],\n",
              "       ...,\n",
              "       [6.0061917e-25, 3.6242586e-08, 2.8798316e-20, ..., 6.2181481e-14,\n",
              "        1.6719757e-16, 1.6882762e-04],\n",
              "       [4.5935465e-16, 1.6222966e-01, 1.0970792e-12, ..., 6.8881342e-08,\n",
              "        2.4118638e-08, 8.0545169e-01],\n",
              "       [5.3438473e-22, 5.9904376e-13, 7.1093451e-09, ..., 4.4920245e-17,\n",
              "        1.3480002e-12, 1.3944393e-09]], dtype=float32)"
            ]
          },
          "metadata": {},
          "execution_count": 33
        }
      ]
    },
    {
      "cell_type": "markdown",
      "metadata": {
        "id": "tdo4qkEioQGe"
      },
      "source": [
        "Visualized:"
      ]
    },
    {
      "cell_type": "code",
      "metadata": {
        "colab": {
          "base_uri": "https://localhost:8080/",
          "height": 639
        },
        "id": "YuE-9EExoS1m",
        "outputId": "4dd2fc17-976a-4b4a-acca-fdb502938ea2"
      },
      "source": [
        "fig, axs= plt.subplots(2,4, figsize=[24,12])\n",
        "\n",
        "random_pos = []\n",
        "count = 0\n",
        "\n",
        "for i in range(8):\n",
        "  random.seed()\n",
        "  random_pos.append(random.randint(1, len(test_image)))\n",
        "\n",
        "\n",
        "for i in range(2):    \n",
        "    for j in range(4):  \n",
        "        \n",
        "        image = cv2.imread(test_image[random_pos[count]])\n",
        "      \n",
        "        img = cv2.resize(image, (135, 135))\n",
        "        img = np.array(img)\n",
        "        img = np.expand_dims(img, axis=0)\n",
        "        img = img.astype('float32')\n",
        "        img /= 255\n",
        "        \n",
        "        pred = model.predict(img)\n",
        "        result = np.argsort(pred)\n",
        "        result = result[0][::-1]\n",
        "        \n",
        "        final_label = label_encoder.inverse_transform(np.array(result))\n",
        "        axs[i][j].imshow(image)\n",
        "        axs[i][j].set_title(str(\"Prediction: \" + final_label[0]), fontsize = 14)  \n",
        "        axs[i][j].set_xlabel(\"Real label: \"+ test_label[random_pos[count]], fontsize = 14)      \n",
        "        \n",
        "        count += 1\n",
        "        \n",
        "plt.suptitle(\"All predictions are shown in title and their real labels in the bottom\", fontsize = 18)        \n",
        "plt.show()"
      ],
      "execution_count": 34,
      "outputs": [
        {
          "output_type": "display_data",
          "data": {
            "image/png": "[encoded data removed]",
            "text/plain": [
              "<Figure size 1728x864 with 8 Axes>"
            ]
          },
          "metadata": {
            "needs_background": "light"
          }
        }
      ]
    },
    {
      "cell_type": "code",
      "source": [
        "proba = cv2.imread('../content/test_data/test0.jpg')\n",
        "plt.imshow(proba)\n",
        "print(proba.shape)"
      ],
      "metadata": {
        "colab": {
          "base_uri": "https://localhost:8080/",
          "height": 170
        },
        "id": "ugnuMXPHMqwq",
        "outputId": "45cfd3f6-2458-4eec-90c3-0085a3fd8249"
      },
      "execution_count": 104,
      "outputs": [
        {
          "output_type": "stream",
          "name": "stdout",
          "text": [
            "(140, 460, 3)\n"
          ]
        },
        {
          "output_type": "display_data",
          "data": {
            "image/png": "[encoded data removed]",
            "text/plain": [
              "<Figure size 432x288 with 1 Axes>"
            ]
          },
          "metadata": {
            "needs_background": "light"
          }
        }
      ]
    },
    {
      "cell_type": "code",
      "source": [
        "if proba is not None:\n",
        "  proba_original=proba\n",
        "  proba=~proba\n",
        "  proba=cv2.convertScaleAbs(proba)\n",
        "  proba = cv2.cvtColor(proba, cv2.COLOR_RGB2GRAY)\n",
        "  \n",
        "\n",
        "  plt.imshow(proba)\n",
        "  niz=[]\n",
        "  _,threshold=cv2.threshold(proba,127,255, cv2.THRESH_BINARY) \n",
        "  #thresholding is a technique which is the assignment of pixel values in relation to the threshold value \n",
        "  #provided. In thresholding, each pixel value is compared with the threshold value. If the pixel value is \n",
        "  #smaller than the threshold, it is set to 0, otherwise, it is set to a maximum value (generally 255).\n",
        "  \n",
        "  \n",
        "  ctrs, _=cv2.findContours(threshold, cv2.RETR_TREE,cv2.CHAIN_APPROX_SIMPLE)\n",
        "  cnt=sorted(ctrs, key=lambda ctr:cv2.boundingRect(ctr)[0])\n",
        "  \n",
        "  w=int(28)\n",
        "  h=int(28)\n",
        "  train_data=[]\n",
        "  rects=[]\n",
        "  for c in cnt:\n",
        "    x,y,w,h = cv2.boundingRect(c)\n",
        "    rect=[x,y,w,h]\n",
        "    rects.append(rect)\n",
        "  #print(\"rects\",rects)\n",
        "  bool_rect=[]\n",
        "  for r in rects:\n",
        "    l=[]\n",
        "    for rec in rects:\n",
        "      flag=0\n",
        "      if rec !=r:\n",
        "        if r[0]<(rec[0]+rec[2]+10) and rec[0]<(r[0]+r[2]+10) and r[1]<(rec[1]+rec[3]+10) and rec[1]<(r[1]+r[3]+10):\n",
        "          flag=1\n",
        "        l.append(flag)\n",
        "      if rec==r:\n",
        "        l.append(0)\n",
        "    bool_rect.append(l)\n",
        "  #print(\"bools\",bool_rect)\n",
        "  dump_rect=[]\n",
        "  for i in range(0,len(cnt)):\n",
        "    for j in range(0,len(cnt)):\n",
        "      if bool_rect[i][j] ==1:\n",
        "        area1=rects[i][2]*rects[i][3]\n",
        "        area2=rects[j][2]*rects[j][3]\n",
        "        if(area1==min(area1,area2)):\n",
        "          dump_rect.append(rects[i])\n",
        "  #print(\"dump\", dump_rect)\n",
        "  final_rects=[i for i in rects if i not in dump_rect]\n",
        "  #print(\"final\", final_rects)\n",
        "  for r in final_rects:\n",
        "    x=r[0]\n",
        "    y=r[1]\n",
        "    w=r[2]\n",
        "    h=r[3]\n",
        "    proba_crop=proba_original[y:y+h+10, x:x+h+10]\n",
        "    print(proba_crop.shape)\n",
        "    #plt.imshow(proba_crop)\n",
        "    \n",
        "  \n",
        "    proba_resize = cv2.resize(proba_crop,(135,135))\n",
        "    print(proba_resize.shape)\n",
        "    niz.append(proba_resize)"
      ],
      "metadata": {
        "id": "UHMps4hzPPa1",
        "colab": {
          "base_uri": "https://localhost:8080/",
          "height": 257
        },
        "outputId": "2af0e1bd-52bc-4ccf-c23d-0bb8659d2e4a"
      },
      "execution_count": 105,
      "outputs": [
        {
          "output_type": "stream",
          "name": "stdout",
          "text": [
            "(99, 99, 3)\n",
            "(135, 135, 3)\n",
            "(97, 97, 3)\n",
            "(135, 135, 3)\n",
            "(77, 77, 3)\n",
            "(135, 135, 3)\n"
          ]
        },
        {
          "output_type": "display_data",
          "data": {
            "image/png": "[encoded data removed]",
            "text/plain": [
              "<Figure size 432x288 with 1 Axes>"
            ]
          },
          "metadata": {
            "needs_background": "light"
          }
        }
      ]
    },
    {
      "cell_type": "code",
      "source": [
        "fig, axs= plt.subplots(3, figsize=[5,5])\n",
        "for i in range(1):\n",
        "  for j in range(3):\n",
        "    axs[j].imshow(niz[j])\n",
        "\n",
        "plt.show()"
      ],
      "metadata": {
        "id": "cRdpqy85aXxg",
        "colab": {
          "base_uri": "https://localhost:8080/",
          "height": 323
        },
        "outputId": "b08f3d07-426e-48f1-d0bc-58ec7312d77b"
      },
      "execution_count": 106,
      "outputs": [
        {
          "output_type": "display_data",
          "data": {
            "image/png": "[encoded data removed]",
            "text/plain": [
              "<Figure size 360x360 with 3 Axes>"
            ]
          },
          "metadata": {
            "needs_background": "light"
          }
        }
      ]
    },
    {
      "cell_type": "code",
      "source": [
        "s= \"\"\n",
        "for i in range(len(niz)):\n",
        "  niz[i]=np.array(niz[i])\n",
        "\n",
        "  niz[i] = np.expand_dims(niz[i], axis=0)\n",
        "  niz[i]=niz[i].astype('float32')\n",
        "  niz[i]/=255\n",
        "  \n",
        "  pred=model.predict(niz[i])\n",
        "  result = np.argsort(pred)\n",
        "  result = result[0][::-1]\n",
        "\n",
        "  final_label = label_encoder.inverse_transform(np.array(result))\n",
        "  print(final_label[0])\n",
        "\n",
        "\n",
        "  if(final_label[0] == \"zero\"):\n",
        "    s+=\"0\"\n",
        "  if(final_label[0] == \"one\"):\n",
        "    s+=\"1\"\n",
        "  if(final_label[0] == \"two\"):\n",
        "    s+=\"2\"\n",
        "  if(final_label[0] == \"three\"):\n",
        "    s+=\"3\"\n",
        "  if(final_label[0] == \"four\"):\n",
        "    s+=\"4\"\n",
        "  if(final_label[0] == \"five\"):\n",
        "    s+=\"5\"\n",
        "  if(final_label[0] == \"six\"):\n",
        "    s+=\"6\"\n",
        "  if(final_label[0] == \"seven\"):\n",
        "    s+=\"7\"\n",
        "  if(final_label[0] == \"eight\"):\n",
        "    s+=\"8\"\n",
        "  if(final_label[0] == \"nine\"):\n",
        "    s+=\"9\"\n",
        "  if(final_label[0] == \"plus\"):\n",
        "    s+=\"+\"\n",
        "  if(final_label[0] == \"minus\"):\n",
        "    s+=\"-\"\n",
        "  if(final_label[0] == \"times\"):\n",
        "    s+=\"*\"\n",
        "  if(final_label[0] == \"div\"):\n",
        "    s+=\"/\"    \n",
        "\n",
        "print(s)"
      ],
      "metadata": {
        "id": "0a5e4GhXbbMJ",
        "colab": {
          "base_uri": "https://localhost:8080/"
        },
        "outputId": "5a86919d-45b5-40b1-e99c-2c3b2f35bb9f"
      },
      "execution_count": 107,
      "outputs": [
        {
          "output_type": "stream",
          "name": "stdout",
          "text": [
            "eight\n",
            "times\n",
            "three\n",
            "8*3\n"
          ]
        }
      ]
    },
    {
      "cell_type": "code",
      "source": [
        "def MakeANum(s):\n",
        "  br=0\n",
        "  for j in range(1,len(s)+1):\n",
        "    br+= int(s[j-1])*pow(10, len(s)-j)\n",
        "  return br"
      ],
      "metadata": {
        "id": "454MSp6eleyz"
      },
      "execution_count": 108,
      "outputs": []
    },
    {
      "cell_type": "code",
      "source": [
        "def Add(a,b):\n",
        "  return MakeANum(a)+MakeANum(b)\n",
        "\n",
        "def Sub(a,b):\n",
        "  return MakeANum(a)-MakeANum(b)\n",
        "\n",
        "def Mul(a,b):\n",
        "  return MakeANum(a)*MakeANum(b)\n",
        "\n",
        "def Div(a,b):\n",
        "  if(int(b)!=0):\n",
        "    return MakeANum(a)/MakeANum(b)\n",
        "  else:\n",
        "    return \"Trying to divide by 0!\"\n",
        "    "
      ],
      "metadata": {
        "id": "1laK856rVOUt"
      },
      "execution_count": 109,
      "outputs": []
    },
    {
      "cell_type": "code",
      "source": [
        "for i in range(len(s)):\n",
        "  if(s[i]=='+'):\n",
        "    print(\"The final solution is: \",Add(s[0:i],s[i+1:]))\n",
        "  elif(s[i]=='-'):\n",
        "    print(\"The final solution is: \",Sub(s[0:i],s[i+1:]))\n",
        "  elif(s[i]=='*'):\n",
        "    print(\"The final solution is: \",Mul(s[0:i],s[i+1:]))\n",
        "  elif(s[i]=='/'):\n",
        "    print(\"The final solution is: \",Div(s[0:i],s[i+1:]))"
      ],
      "metadata": {
        "colab": {
          "base_uri": "https://localhost:8080/"
        },
        "id": "1CPnvW3nNBhb",
        "outputId": "5389c80f-5f97-4ad8-a5e4-66734ead5653"
      },
      "execution_count": 110,
      "outputs": [
        {
          "output_type": "stream",
          "name": "stdout",
          "text": [
            "The final solution is:  24\n"
          ]
        }
      ]
    },
    {
      "cell_type": "markdown",
      "source": [
        ""
      ],
      "metadata": {
        "id": "vHkchHyScOSV"
      }
    },
    {
      "cell_type": "code",
      "source": [
        "# #ovo ti je za spajanje slika\n",
        "\n",
        "\n",
        "# from PIL import Image\n",
        "# #Read the two images\n",
        "# image1 = Image.open('images/elephant.jpg')\n",
        "# image1.show()\n",
        "# image2 = Image.open('images/ladakh.jpg')\n",
        "# image2.show()\n",
        "# #resize, first image\n",
        "# image1 = image1.resize((426, 240))\n",
        "# image1_size = image1.size\n",
        "# image2_size = image2.size\n",
        "# new_image = Image.new('RGB',(2*image1_size[0], image1_size[1]), (250,250,250))\n",
        "# new_image.paste(image1,(0,0))\n",
        "# new_image.paste(image2,(image1_size[0],0))\n",
        "# new_image.save(\"images/merged_image.jpg\",\"JPEG\")\n",
        "# new_image.show()"
      ],
      "metadata": {
        "id": "7quTRJaFLhmu"
      },
      "execution_count": null,
      "outputs": []
    },
    {
      "cell_type": "markdown",
      "metadata": {
        "id": "tZ0vqrwdLPWG"
      },
      "source": [
        "##1. Implement a handwritten character detector\n",
        "\n",
        "-The implementation should be able to receive an image in a form of numpy array.\n",
        "\n",
        "-For each detected character it should return its coordinates and a cropped image (cropped to its bounding box).\n",
        "\n",
        "-Use OpenCV."
      ]
    },
    {
      "cell_type": "markdown",
      "metadata": {
        "id": "YZPSa-44UeWm"
      },
      "source": [
        "##2. Implement a handwritten character classifier\n",
        "\n",
        "-The implementation should be able to receive a cropped image of the character and return the classification result (the correct label).\n",
        "\n",
        "-Use convolutional neural networks. Use tensorflow or keras with tensorflow backend.\n",
        "\n",
        "-Report the metrics you find useful and comment on them."
      ]
    },
    {
      "cell_type": "code",
      "metadata": {
        "id": "oZNRTWVYeKrS"
      },
      "source": [
        ""
      ],
      "execution_count": null,
      "outputs": []
    },
    {
      "cell_type": "markdown",
      "metadata": {
        "id": "NZdrowdaUejg"
      },
      "source": [
        "##3. Implement a solver\n",
        "\n",
        "-Implementation should be able to receive the expression in a form of a string, parse it and calculate the result.\n",
        "\n",
        "-Parsing and solving should be done without calls to eval or external libraries."
      ]
    },
    {
      "cell_type": "code",
      "metadata": {
        "id": "jDkXRQWfeJ8b"
      },
      "source": [
        ""
      ],
      "execution_count": null,
      "outputs": []
    },
    {
      "cell_type": "markdown",
      "metadata": {
        "id": "vxPmrCySUeu_"
      },
      "source": [
        "##Combine it all together\n",
        "\n",
        "-Implement a method which will, for a given image of a math expression return its result.\n",
        "\n",
        "-Measure and discuss the real-world problems and compare them to metrics and comments in 2.\n",
        "\n",
        "-Propose improvements."
      ]
    },
    {
      "cell_type": "code",
      "metadata": {
        "id": "KJKwTRKjTAJO"
      },
      "source": [
        ""
      ],
      "execution_count": null,
      "outputs": []
    }
  ]
}